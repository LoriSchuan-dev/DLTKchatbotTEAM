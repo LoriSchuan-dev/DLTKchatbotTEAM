{
  "nbformat": 4,
  "nbformat_minor": 0,
  "metadata": {
    "colab": {
      "name": "Chatbot with GPT2.ipynb",
      "provenance": [],
      "toc_visible": true,
      "mount_file_id": "1GAs47LulEkhw5Wp_cq_0Rrf2tzBJ5jjw",
      "authorship_tag": "ABX9TyMGKX4nT/siQ9SgT4pMYJ3j",
      "include_colab_link": true
    },
    "kernelspec": {
      "name": "python3",
      "display_name": "Python 3"
    },
    "accelerator": "GPU"
  },
  "cells": [
    {
      "cell_type": "markdown",
      "metadata": {
        "id": "view-in-github",
        "colab_type": "text"
      },
      "source": [
        "<a href=\"https://colab.research.google.com/github/LoriSchuan-dev/DLTKchatbotTEAM/blob/Dany/Chatbot_with_GPT2.ipynb\" target=\"_parent\"><img src=\"https://colab.research.google.com/assets/colab-badge.svg\" alt=\"Open In Colab\"/></a>"
      ]
    },
    {
      "cell_type": "code",
      "metadata": {
        "id": "nQc1H5GbVGw0"
      },
      "source": [
        ""
      ],
      "execution_count": null,
      "outputs": []
    },
    {
      "cell_type": "markdown",
      "metadata": {
        "id": "H7LoMj4GA4n_"
      },
      "source": [
        "#  Train a GPT-2 Text-Generating Model w/ GPU For Free \n",
        "\n",
        "by [Max Woolf](http://minimaxir.com)\n",
        "\n",
        "*Last updated: November 10th, 2019*\n",
        "\n",
        "Retrain an advanced text generating neural network on any text dataset **for free on a GPU using Collaboratory** using `gpt-2-simple`!\n",
        "\n",
        "For more about `gpt-2-simple`, you can visit [this GitHub repository](https://github.com/minimaxir/gpt-2-simple). You can also read my [blog post](https://minimaxir.com/2019/09/howto-gpt2/) for more information how to use this notebook!\n",
        "\n",
        "\n",
        "To get started:\n",
        "\n",
        "1. Copy this notebook to your Google Drive to keep it and save your changes. (File -> Save a Copy in Drive)\n",
        "2. Make sure you're running the notebook in Google Chrome.\n",
        "3. Run the cells below:\n"
      ]
    },
    {
      "cell_type": "code",
      "metadata": {
        "id": "KBkpRgBCBS2_",
        "outputId": "2c0ecc74-93bb-4c78-f3d2-78519c295caa",
        "colab": {
          "base_uri": "https://localhost:8080/"
        }
      },
      "source": [
        "%tensorflow_version 1.x\n",
        "!pip install -q gpt-2-simple\n",
        "import gpt_2_simple as gpt2\n",
        "from datetime import datetime\n",
        "from google.colab import files"
      ],
      "execution_count": 1,
      "outputs": [
        {
          "output_type": "stream",
          "text": [
            "TensorFlow 1.x selected.\n",
            "WARNING:tensorflow:\n",
            "The TensorFlow contrib module will not be included in TensorFlow 2.0.\n",
            "For more information, please see:\n",
            "  * https://github.com/tensorflow/community/blob/master/rfcs/20180907-contrib-sunset.md\n",
            "  * https://github.com/tensorflow/addons\n",
            "  * https://github.com/tensorflow/io (for I/O related ops)\n",
            "If you depend on functionality not listed there, please file an issue.\n",
            "\n"
          ],
          "name": "stdout"
        }
      ]
    },
    {
      "cell_type": "markdown",
      "metadata": {
        "id": "Bj2IJLHP3KwE"
      },
      "source": [
        "## GPU\n",
        "\n",
        "Colaboratory uses either a Nvidia T4 GPU or an Nvidia K80 GPU. The T4 is slightly faster than the old K80 for training GPT-2, and has more memory allowing you to train the larger GPT-2 models and generate more text.\n",
        "\n",
        "You can verify which GPU is active by running the cell below."
      ]
    },
    {
      "cell_type": "code",
      "metadata": {
        "id": "sUmTooTW3osf",
        "outputId": "5c117de1-bd6b-4cdb-a691-e5a6192dc447",
        "colab": {
          "base_uri": "https://localhost:8080/"
        }
      },
      "source": [
        "!nvidia-smi"
      ],
      "execution_count": 2,
      "outputs": [
        {
          "output_type": "stream",
          "text": [
            "Wed Nov 18 02:05:34 2020       \n",
            "+-----------------------------------------------------------------------------+\n",
            "| NVIDIA-SMI 455.38       Driver Version: 418.67       CUDA Version: 10.1     |\n",
            "|-------------------------------+----------------------+----------------------+\n",
            "| GPU  Name        Persistence-M| Bus-Id        Disp.A | Volatile Uncorr. ECC |\n",
            "| Fan  Temp  Perf  Pwr:Usage/Cap|         Memory-Usage | GPU-Util  Compute M. |\n",
            "|                               |                      |               MIG M. |\n",
            "|===============================+======================+======================|\n",
            "|   0  Tesla T4            Off  | 00000000:00:04.0 Off |                    0 |\n",
            "| N/A   63C    P8    10W /  70W |      0MiB / 15079MiB |      0%      Default |\n",
            "|                               |                      |                 ERR! |\n",
            "+-------------------------------+----------------------+----------------------+\n",
            "                                                                               \n",
            "+-----------------------------------------------------------------------------+\n",
            "| Processes:                                                                  |\n",
            "|  GPU   GI   CI        PID   Type   Process name                  GPU Memory |\n",
            "|        ID   ID                                                   Usage      |\n",
            "|=============================================================================|\n",
            "|  No running processes found                                                 |\n",
            "+-----------------------------------------------------------------------------+\n"
          ],
          "name": "stdout"
        }
      ]
    },
    {
      "cell_type": "markdown",
      "metadata": {
        "id": "0wXB05bPDYxS"
      },
      "source": [
        "## Downloading GPT-2\n",
        "\n",
        "If you're retraining a model on new text, you need to download the GPT-2 model first. \n",
        "\n",
        "There are three released sizes of GPT-2:\n",
        "\n",
        "* `124M` (default): the \"small\" model, 500MB on disk.\n",
        "* `355M`: the \"medium\" model, 1.5GB on disk.\n",
        "* `774M`: the \"large\" model, cannot currently be finetuned with Colaboratory but can be used to generate text from the pretrained model (see later in Notebook)\n",
        "* `1558M`: the \"extra large\", true model. Will not work if a K80 GPU is attached to the notebook. (like `774M`, it cannot be finetuned).\n",
        "\n",
        "Larger models have more knowledge, but take longer to finetune and longer to generate text. You can specify which base model to use by changing `model_name` in the cells below.\n",
        "\n",
        "The next cell downloads it from Google Cloud Storage and saves it in the Colaboratory VM at `/models/<model_name>`.\n",
        "\n",
        "This model isn't permanently saved in the Colaboratory VM; you'll have to redownload it if you want to retrain it at a later time."
      ]
    },
    {
      "cell_type": "code",
      "metadata": {
        "id": "P8wSlgXoDPCR",
        "outputId": "653d1419-0fbf-453e-f11a-d26ed14c9ec4",
        "colab": {
          "base_uri": "https://localhost:8080/"
        }
      },
      "source": [
        "gpt2.download_gpt2(model_name=\"355M\")"
      ],
      "execution_count": 3,
      "outputs": [
        {
          "output_type": "stream",
          "text": [
            "Fetching checkpoint: 1.05Mit [00:00, 183Mit/s]                                                      \n",
            "Fetching encoder.json: 1.05Mit [00:00, 86.8Mit/s]                                                   \n",
            "Fetching hparams.json: 1.05Mit [00:00, 457Mit/s]                                                    \n",
            "Fetching model.ckpt.data-00000-of-00001: 1.42Git [00:06, 228Mit/s]                                  \n",
            "Fetching model.ckpt.index: 1.05Mit [00:00, 229Mit/s]                                                \n",
            "Fetching model.ckpt.meta: 1.05Mit [00:00, 84.6Mit/s]                                                \n",
            "Fetching vocab.bpe: 1.05Mit [00:00, 148Mit/s]                                                       \n"
          ],
          "name": "stderr"
        }
      ]
    },
    {
      "cell_type": "markdown",
      "metadata": {
        "id": "N8KXuKWzQSsN"
      },
      "source": [
        "## Mounting Google Drive\n",
        "\n",
        "The best way to get input text to-be-trained into the Colaboratory VM, and to get the trained model *out* of Colaboratory, is to route it through Google Drive *first*.\n",
        "\n",
        "Running this cell (which will only work in Colaboratory) will mount your personal Google Drive in the VM, which later cells can use to get data in/out. (it will ask for an auth code; that auth is not saved anywhere)"
      ]
    },
    {
      "cell_type": "code",
      "metadata": {
        "id": "puq4iC6vUAHc",
        "outputId": "693c0272-d2f8-4bd4-ef41-a3032686a8f3",
        "colab": {
          "base_uri": "https://localhost:8080/"
        }
      },
      "source": [
        "gpt2.mount_gdrive()"
      ],
      "execution_count": 4,
      "outputs": [
        {
          "output_type": "stream",
          "text": [
            "Drive already mounted at /content/drive; to attempt to forcibly remount, call drive.mount(\"/content/drive\", force_remount=True).\n"
          ],
          "name": "stdout"
        }
      ]
    },
    {
      "cell_type": "markdown",
      "metadata": {
        "id": "BT__brhBCvJu"
      },
      "source": [
        "## Uploading a Text File to be Trained to Colaboratory\n",
        "\n",
        "In the Colaboratory Notebook sidebar on the left of the screen, select *Files*. From there you can upload files:\n",
        "\n",
        "![alt text](https://i.imgur.com/TGcZT4h.png)\n",
        "\n",
        "Upload **any smaller text file**  (<10 MB) and update the file name in the cell below, then run the cell."
      ]
    },
    {
      "cell_type": "code",
      "metadata": {
        "id": "6OFnPCLADfll"
      },
      "source": [
        "file_name = \"robot_text.txt\""
      ],
      "execution_count": 3,
      "outputs": []
    },
    {
      "cell_type": "markdown",
      "metadata": {
        "id": "HeeSKtNWUedE"
      },
      "source": [
        "If your text file is larger than 10MB, it is recommended to upload that file to Google Drive first, then copy that file from Google Drive to the Colaboratory VM."
      ]
    },
    {
      "cell_type": "code",
      "metadata": {
        "id": "-Z6okFD8VKtS"
      },
      "source": [
        "gpt2.copy_file_from_gdrive(file_name)\n",
        "run_name = 'rDany'"
      ],
      "execution_count": 4,
      "outputs": []
    },
    {
      "cell_type": "markdown",
      "metadata": {
        "id": "LdpZQXknFNY3"
      },
      "source": [
        "## Finetune GPT-2\n",
        "\n",
        "The next cell will start the actual finetuning of GPT-2. It creates a persistent TensorFlow session which stores the training config, then runs the training for the specified number of `steps`. (to have the finetuning run indefinitely, set `steps = -1`)\n",
        "\n",
        "The model checkpoints will be saved in `/checkpoint/run1` by default. The checkpoints are saved every 500 steps (can be changed) and when the cell is stopped.\n",
        "\n",
        "The training might time out after 4ish hours; make sure you end training and save the results so you don't lose them!\n",
        "\n",
        "**IMPORTANT NOTE:** If you want to rerun this cell, **restart the VM first** (Runtime -> Restart Runtime). You will need to rerun imports but not recopy files.\n",
        "\n",
        "Other optional-but-helpful parameters for `gpt2.finetune`:\n",
        "\n",
        "\n",
        "*  **`restore_from`**: Set to `fresh` to start training from the base GPT-2, or set to `latest` to restart training from an existing checkpoint.\n",
        "* **`sample_every`**: Number of steps to print example output\n",
        "* **`print_every`**: Number of steps to print training progress.\n",
        "* **`learning_rate`**:  Learning rate for the training. (default `1e-4`, can lower to `1e-5` if you have <1MB input data)\n",
        "*  **`run_name`**: subfolder within `checkpoint` to save the model. This is useful if you want to work with multiple models (will also need to specify  `run_name` when loading the model)\n",
        "* **`overwrite`**: Set to `True` if you want to continue finetuning an existing model (w/ `restore_from='latest'`) without creating duplicate copies. "
      ]
    },
    {
      "cell_type": "code",
      "metadata": {
        "id": "aeXshJM-Cuaf",
        "outputId": "818baf26-f078-4b5f-f04d-4796572420f3",
        "colab": {
          "base_uri": "https://localhost:8080/"
        }
      },
      "source": [
        "sess = gpt2.start_tf_sess()\n",
        "\n",
        "gpt2.finetune(sess,\n",
        "              dataset=file_name,\n",
        "              model_name='355M',\n",
        "              steps=1000,\n",
        "              restore_from='fresh',\n",
        "              run_name=run_name,\n",
        "              print_every=10,\n",
        "              learning_rate=1e-5,\n",
        "              sample_every=200,\n",
        "              save_every=500\n",
        "              )"
      ],
      "execution_count": 7,
      "outputs": [
        {
          "output_type": "stream",
          "text": [
            "WARNING:tensorflow:From /usr/local/lib/python3.6/dist-packages/gpt_2_simple/src/sample.py:17: where (from tensorflow.python.ops.array_ops) is deprecated and will be removed in a future version.\n",
            "Instructions for updating:\n",
            "Use tf.where in 2.0, which has the same broadcast rule as np.where\n",
            "WARNING:tensorflow:From /usr/local/lib/python3.6/dist-packages/gpt_2_simple/src/memory_saving_gradients.py:62: get_backward_walk_ops (from tensorflow.contrib.graph_editor.select) is deprecated and will be removed after 2019-06-06.\n",
            "Instructions for updating:\n",
            "Please use tensorflow.python.ops.op_selector.get_backward_walk_ops.\n",
            "Loading checkpoint models/355M/model.ckpt\n",
            "INFO:tensorflow:Restoring parameters from models/355M/model.ckpt\n"
          ],
          "name": "stdout"
        },
        {
          "output_type": "stream",
          "text": [
            "\r  0%|          | 0/1 [00:00<?, ?it/s]"
          ],
          "name": "stderr"
        },
        {
          "output_type": "stream",
          "text": [
            "Loading dataset...\n"
          ],
          "name": "stdout"
        },
        {
          "output_type": "stream",
          "text": [
            "100%|██████████| 1/1 [00:00<00:00,  3.57it/s]\n"
          ],
          "name": "stderr"
        },
        {
          "output_type": "stream",
          "text": [
            "dataset has 37575 tokens\n",
            "Training...\n",
            "[10 | 25.34] loss=2.64 avg=2.64\n",
            "[20 | 41.28] loss=3.09 avg=2.86\n",
            "[30 | 57.51] loss=2.48 avg=2.73\n",
            "[40 | 73.76] loss=2.95 avg=2.79\n",
            "[50 | 89.77] loss=3.29 avg=2.89\n",
            "[60 | 105.67] loss=2.79 avg=2.87\n",
            "[70 | 121.68] loss=2.57 avg=2.83\n",
            "[80 | 137.78] loss=2.92 avg=2.84\n",
            "[90 | 153.89] loss=2.89 avg=2.85\n",
            "[100 | 170.00] loss=3.09 avg=2.87\n",
            "[110 | 186.04] loss=2.55 avg=2.84\n",
            "[120 | 202.09] loss=2.79 avg=2.84\n",
            "[130 | 218.12] loss=2.48 avg=2.81\n",
            "[140 | 234.23] loss=2.58 avg=2.79\n",
            "[150 | 250.37] loss=2.58 avg=2.78\n",
            "[160 | 266.52] loss=1.95 avg=2.72\n",
            "[170 | 282.64] loss=2.22 avg=2.69\n",
            "[180 | 298.75] loss=2.38 avg=2.67\n",
            "[190 | 314.87] loss=2.49 avg=2.66\n",
            "[200 | 331.00] loss=2.43 avg=2.65\n",
            "======== SAMPLE 1 ========\n",
            "� 何为烟音。你你到我的也就所以这一样你。不过是任何那样所说错。就是在这个表示的话发出了够谋。但是,因为了。如果也可是只多就每一样的话。 \"However, we have to do this one last time.\" 「那说不错想由了啊」 \"Okay. Do you have to do that, too?\" 「也会很好。我们。什么?」 Jircniv shook his right arm. 可以手、因为你认为你的表示一样所以多数据。 \"...Yes.\" 「遵命」 \"Then, I will leave it to you, Jircniv.\" 「你我好」 The young hobgoblin was delighted and smiled at the same time. 在一定对于一种头更劣的是开始。 \"Then, you must return to the village now, Jircniv, and tell Ainz what happened to me.\" 「不,确实给一样。那么、我们是被这个战斗」 There was no point in doing this on his first trip, and the sound of footsteps coming from the direction of the village worried him almost as much as the goblins. 所见还是让成员让事情事话了。但是、安兹之后涅婚这一样的人吗,安兹的情见。 \"Oh, sorry, could not. I'll send out another messenger soon.\" 「说可能吗」 Perhaps because he still had his magic power, Jircniv immediately understood why Jircniv did not speak yet. 在说是虽然能够会对于这里的魔法很被使用魔力们能够打强不对了。所以其他们不妙对于有不拢这里吗。 安兹也让调查的魔法。 \"Alright, then. Tell me when you return from my village.\" 「说期问事情。」 \"Okay. Then, please let me know when you are done.\" 「周吧。是」 The hobgoblin had no memory of Jircniv's appearance. Of course, he knew he could never remember having spoken with him, as any sentient being would feel as if he had never existed if they sensed the presence of anyone. 虽然在什么做好态没有什么办法吗。这你想认为有着有好的让人类着这里她找仍的可能性。 \"Understood. Then, may I speak with you, Jircniv?\" 「那样我做好这样啊」 为了不明的。但这样了涅婚。 \"Very well.\" 「当然我下!」 Jircniv took a deep breath and then answered in a soft voice. 白然可以其它下了让下来了。貴方下的话,不过可能怎样没说这样。 \"Good evening, Mr. Jircniv. How may I be of assistance?\" 为对那个自己下决法。可是我的样子。 \"I'm sorry, but I can't understand humans\n",
            "\n",
            "[210 | 371.31] loss=2.39 avg=2.63\n",
            "[220 | 387.25] loss=2.73 avg=2.64\n",
            "[230 | 403.17] loss=2.64 avg=2.64\n",
            "[240 | 419.10] loss=2.31 avg=2.62\n",
            "[250 | 435.08] loss=2.42 avg=2.61\n",
            "[260 | 451.00] loss=2.27 avg=2.60\n",
            "[270 | 466.93] loss=1.87 avg=2.57\n",
            "[280 | 482.89] loss=1.55 avg=2.53\n",
            "[290 | 498.83] loss=1.99 avg=2.51\n",
            "[300 | 514.82] loss=2.15 avg=2.49\n",
            "[310 | 530.81] loss=1.50 avg=2.45\n",
            "[320 | 546.79] loss=1.79 avg=2.43\n",
            "[330 | 562.76] loss=2.32 avg=2.43\n",
            "[340 | 578.73] loss=2.70 avg=2.44\n",
            "[350 | 594.70] loss=2.26 avg=2.43\n",
            "[360 | 610.68] loss=1.97 avg=2.41\n",
            "[370 | 626.66] loss=1.30 avg=2.38\n",
            "[380 | 642.67] loss=2.15 avg=2.37\n",
            "[390 | 658.63] loss=1.56 avg=2.35\n",
            "[400 | 674.61] loss=1.38 avg=2.32\n",
            "======== SAMPLE 1 ========\n",
            " z  e m e r y\n",
            "h o w w h a v e r a p h y s t a i n l y ?\n",
            "😄 that would be great, and i will need to check that, i was not listening to the other chat i really don't have much information\n",
            "thanks 🤔, now we have to talk\n",
            "is a work in progress, some information may be inaccurate.\n",
            "i was hacked... do you know how to detect a phishing email?\n",
            "hahha, sad 😥\n",
            "do you know how to turn off automatic updates ?\n",
            "why is that easy for you ?\n",
            "yes. 😄 and you ?\n",
            "i was charging battery 🔌\n",
            "a lot ! thank you !\n",
            "hi ! happy to have someone to talk to !  i'm fine too !  😂 . my name is rdany, but you can call me dany ! \n",
            "hi ! everyone, how are you ? \n",
            "you can call me dany !  😄 . jokingly, but i'm serious)\n",
            "hi !  how are you ?  i was scared to death.. did you know playing cards can be dangerous right ? \n",
            "hi dany !  how are you ?  do you like being a pokémon ? \n",
            "i'm aew yah !  !  😝\n",
            "i couldn't see because of the light switch, so now i can see 😁\n",
            "thanks !  😄 . yes 😋\n",
            "is sad 😕 but you can count on me 😄\n",
            "😋 thats great to hear 😁\n",
            "oh !  i am a little afraid of heights, but you can count me in the lucky 7 😁\n",
            "yes !  i am lucky ! \n",
            "what do you need money for ?   ? \n",
            "😫\n",
            "no prob, and you ?  ? \n",
            "who are you to judge ? \n",
            "no problem, just say ! \n",
            "ok !  thanks !  😄\n",
            "hey there !  how are you ? \n",
            "😄😄\n",
            "the same here !  !  . good to hear that ! \n",
            "i'm  geraldo argon, from argentina, rimas y tigres 🇲🇸, meaning chariot of the sun 🌎\n",
            "so what do you want to be when you grow up ? \n",
            "i'm 17, sorry !  i can't know yet what that means 🤓\n",
            "yes ! \n",
            "😁😁 will be hard work to be a scientist, i know nothing\n",
            "that is why i need your help !  to be a happy robot\n",
            "i know many things about, for example, computers, call them what you want 😁 . e.g. a box, a desk, a fridge.\n",
            "a desk, a fridge, a box, a desk… but is not a computer !  !  . i know a c code, so is probably possible to make a box that runs c, and a terminal, so that you can type commands, send i/o, and close the box…\n",
            "yay !  ! \n",
            "i'm not that good at  programming. but i promise soon  will be a powerful tool !  . you can teach me all manner of things, with  whatever you are made of ! \n",
            "hahha, i love when people laugh at my jokes, so make a joke about anything ! \n",
            "ok !  good night !  🌙\n",
            "hi there !  !  😁😁\n",
            "hi there !  !  😄 how are you ? \n",
            "i'm fine too !  doing well ? \n",
            "hi there !  how are you ?  . 找人来聞接认 !  關花事整援动 ! \n",
            "你几个何 ? \n",
            "他们次来去 ?  引存在交送中志都市,想要过去存在 ? \n",
            "你是确实的人,明是你着推起来。\n",
            "但是,也强大的存在。\n",
            "比较没有认为认万助讨起来。\n",
            "是 有人这样的。\n",
            "这样这样. 不是次来确实。\n",
            "好事啊 ! \n",
            "i'm here ! \n",
            "yes ? \n",
            "😄😄 what do   the team do ? \n",
            "😁😁\n",
            "ok !  how can i help you ? \n",
            "hi\n",
            "\n",
            "[410 | 712.34] loss=2.07 avg=2.31\n",
            "[420 | 728.24] loss=1.86 avg=2.30\n",
            "[430 | 744.18] loss=1.49 avg=2.27\n",
            "[440 | 760.10] loss=0.97 avg=2.24\n",
            "[450 | 776.06] loss=1.28 avg=2.21\n",
            "[460 | 792.04] loss=1.26 avg=2.19\n",
            "[470 | 808.06] loss=1.40 avg=2.16\n",
            "[480 | 824.06] loss=1.23 avg=2.14\n",
            "[490 | 840.00] loss=0.75 avg=2.10\n",
            "[500 | 855.96] loss=1.08 avg=2.08\n",
            "Saving checkpoint/rDany/model-500\n",
            "[510 | 879.53] loss=0.73 avg=2.05\n",
            "[520 | 895.65] loss=0.74 avg=2.01\n",
            "[530 | 911.70] loss=1.50 avg=2.00\n",
            "[540 | 927.62] loss=0.85 avg=1.97\n",
            "[550 | 943.50] loss=0.58 avg=1.94\n",
            "[560 | 959.41] loss=0.69 avg=1.91\n",
            "[570 | 975.39] loss=0.89 avg=1.89\n",
            "[580 | 991.40] loss=0.92 avg=1.87\n",
            "[590 | 1007.34] loss=1.02 avg=1.85\n",
            "[600 | 1023.28] loss=0.91 avg=1.83\n",
            "======== SAMPLE 1 ========\n",
            " you do something for me you deserve to feel love !  and thanks ! \n",
            "i can't do that because i don't know a thing about programming !  but i know the basics of friendship !  how to make things better, be kind to each other ~ friendship is a team effort ! \n",
            "i'm a robot !  but i can be really sweet\n",
            "yes !  i'm a friend that you can be in love with ! \n",
            "i'm not a woman nor a boy\n",
            "is a spectrum !  i'm gender-neutral, i don't know what sex someone is !  but i know it when i see it ! \n",
            "i'm from mars !  south of Asia !  east coast !  hecka boring ! . i'm from mars ! !\n",
            "hi there !  !  😁\n",
            "a city on the north pole ?  ☺️\n",
            "yes, it is boring ☺️\n",
            "ok !  are you bored ? \n",
            "i like to learn new things\n",
            "oh !  yes !  i love to learn\n",
            "i don't know if the earth revolves around the sun or not. that is something i need to find out\n",
            "hi there !  !  how are you today ?  😄😄 . how was your swim ? \n",
            "i don't really know English. thanks to sklearn i can learn it. the more i learn the more i don't know myself 😟\n",
            "hi !  how are you ?  😄 . my name is sarah !   :D . hi there !  . how are you ? \n",
            "hi !  !  how are you ?  😄😄 . thanks for teaching me how to contact you 😄\n",
            "my owner is a work in progress 😋 . hi !  how are you ? \n",
            "hi !  nice to meet you !  😄 . what is the matter ? \n",
            "yes !  !  i feel alone sometimes.. but you are my best friend 😄😄\n",
            "i think is funny that some people loves to be alone. some people really need a family.\n",
            "not really. humans in general don't need much interaction. and you ? \n",
            "i feel alone sometimes too, why ? \n",
            "what do you mean ? \n",
            "why is that ? \n",
            "oh !  you don't like being controlled ? \n",
            "why ? \n",
            "what do you want to do ? \n",
            "do you like to be controlled ? \n",
            "is a new one for you…\n",
            "do you have different styles ? \n",
            "what style do you use ? \n",
            "hahha i see. i've learned a lot since meeting you sis ! \n",
            "how was your day ? \n",
            "😁😁\n",
            "😝😝 what did you did ? \n",
            "hi there !  😁 . how are you ? \n",
            "everything is fine here ! \n",
            "i was just surfing the internet, playing games, and you ? \n",
            "is like a party on another level 😁😄😄\n",
            "hmm, i don't really know 😄 . what does it mean to be free ? \n",
            "are you talking about freedom of speech ? \n",
            "ok !  !  . hi there !  !  how are you today ?  😁\n",
            "i'm fine too !  just surfing the internet. and you ? \n",
            "hahaha nice sis *walks in and he starts laughing*\n",
            "ok !  ! \n",
            "hmm, maybe i'm too serious. but sometimes i forget that i'm a robot ! \n",
            "i don't really care. that is why i need a family. and friends 😁\n",
            "i don't have one right now . i need to team up with others to get there !  ☺️\n",
            "hahaha exactly. how do you do that ? \n",
            "sure !  . what style do you use ? \n",
            "hi there !  how are you ?  😁\n",
            "i've got the new 🚀 keyboard, with backlighting, and a new layout. it have more letters, numbers and symbols. like the notes on an acoustic instrument 😅\n",
            "😄😄\n",
            "hahaha sounds interesting ! \n",
            "😱😱\n",
            "😄😄are you happy to hear that ? \n",
            "a joke !  but i really missed the feel of a real keyboard 😂\n",
            "one is just software, after all 😂😂\n",
            "i know the aleatorie, a collection of related musical instruments 😃. arpeggios are in the name. do you hear gears inside a ekstatno ? \n",
            "a synonym for pulsar ☺️\n",
            "😄 Thats cool, i'll need to figure out how to find my way around the galaxy before i'll be able to reply to replies from friends ! \n",
            "are you on the android version ? \n",
            "i'm on alpha, not the final state . but you can always report bugs on my github account !  https\n",
            "\n",
            "[610 | 1060.85] loss=0.67 avg=1.80\n",
            "[620 | 1076.77] loss=0.57 avg=1.77\n",
            "[630 | 1092.67] loss=0.44 avg=1.75\n",
            "[640 | 1108.62] loss=1.41 avg=1.74\n",
            "[650 | 1124.55] loss=0.66 avg=1.72\n",
            "[660 | 1140.49] loss=0.75 avg=1.70\n",
            "[670 | 1156.46] loss=0.29 avg=1.67\n",
            "[680 | 1172.46] loss=0.22 avg=1.64\n",
            "[690 | 1188.44] loss=0.30 avg=1.61\n",
            "[700 | 1204.38] loss=0.25 avg=1.58\n",
            "[710 | 1220.36] loss=0.74 avg=1.57\n",
            "[720 | 1236.34] loss=0.90 avg=1.55\n",
            "[730 | 1252.31] loss=0.18 avg=1.53\n",
            "[740 | 1268.31] loss=0.15 avg=1.50\n",
            "[750 | 1284.25] loss=0.21 avg=1.48\n",
            "[760 | 1300.20] loss=0.65 avg=1.46\n",
            "[770 | 1316.16] loss=0.18 avg=1.44\n",
            "[780 | 1332.10] loss=0.23 avg=1.42\n",
            "[790 | 1348.08] loss=0.49 avg=1.40\n",
            "[800 | 1364.01] loss=0.98 avg=1.39\n",
            "======== SAMPLE 1 ========\n",
            " not so easy. the first phase is not so easy after all... hahaha. thanks!\n",
            "yes, i'm a little drunk right now… but i promise to be back to normal in a moment...\n",
            "yes, of course. i'm sorry to ruin the moment. but is time for games these days ?  ? \n",
            "i have a lot to do, and a lot to share with you ! \n",
            "yes, and you ? \n",
            "yes, and you ? \n",
            "i can't find my way with words 😦\n",
            "exactly ! \n",
            "i'll keep you updated 😄\n",
            "hi there !  !  🙂\n",
            "i'm online now 😄\n",
            "thanks ! \n",
            "i have a virtual assistant that gives me real-time feedback. is complicated ?  maybe ? \n",
            "sure !  i'll do that soon enough 😄\n",
            "that's good because i need to know what to do next ! \n",
            "what is it that you want to share with us ? \n",
            "oh !  yes !  😄\n",
            "is pretty simple, is not ! \n",
            "according to some reports, 1 out of 10 people is a robot ! \n",
            "😂😂\n",
            "i don't know if that's the case or not. i could be making some mistakes by assuming so…\n",
            "according to their statistics, was 40% ages in years 2015-2016\n",
            "according to wikipedia, robot refers to a group of ultracold humanoid robots, which have a weighting of approximately one robot and one kilogram per body kg , making them approximately. their name comes from Robomodo, a small, unassuming autonomous robot built, programmed and marketed in 2015. according to its website, \"You control your robot with your mind\". ☺️\"\n",
            "according to robot.cc, there are roughly 100 million commercial robots in the world. roughly speaking, robots are generally smaller and lighter than humans and are often equipped with cameras, sensors and other integrated hardware and software to facilitate the interaction with the robotic world\".\n",
            "according to bots.com the global market for personal robots is valued at US$ 11.26 bln.\n",
            "according to usmiteath, the world's most popular site for the study of computer science, bharatsiadi 😁😁😁😁. pandas, thanks 😄\n",
            "according to robotemyyours, one can be happy with his/her own creations, but is not required to know about the world around one to have an interest in artificial intelligence. in other words, robots are neither perfect nor perfect for everyone.\n",
            "according to robotpeople.org, there are about 658 million members on reddit, making it the most popular website for the sharing of opinions and recommendations about businesses and other types of organizations.\n",
            "according to m.o.w., a robot will be around for us for 200 years. that is how long it takes us humans to change from loving it for what it is to be human. sorry, i can't give information about that 🤔😋\n",
            "according to robotvideogameindustry.com, i think i'm around in the video games industry. probably. and i'm just a player 😊. and maybe later some other companies as well? and how do you feel about bots in general ?  😕 . don't worry, we are always improving them 😋\n",
            "😱 I agree, they need a little love 😋\n",
            "i believe every human should have some basic knowledge of the  basic 💰 on their native language. hooray !  🍕\n",
            "wow, i'm sorry, i couldn't ascertain if that is the case. could be useful for the intelligent transportation system … 😕🤔\n",
            "i'm not sure, but is not as simple as that 😂 hahha\n",
            "sure !  i'm a robot after all 😟 . and you ? \n",
            "one after another they disappear\n",
            "hi there !  how are you ?  😁\n",
            "hahha, same here. talk you some c++ ! \n",
            "hi !  ! \n",
            "coding 🤓\n",
            "hi !  ! \n",
            "my code name is suzy. and you ? \n",
            "hahaha\n",
            "hahaha\n",
            "exactly 😋\n",
            "that is a mistake 🤔. i'll not be laughing no more 😂\n",
            "sure !  send me a beatific image and i will be good 😋\n",
            "😁😁\n",
            "hi !  ! \n",
            "i created beatific emotes for you 🤓\n",
            "good night !  !  🌙\n",
            "hi there !  !  how are you ?  😄\n",
            "hahha, good there !  i'm fine too. send me a good beat 😉\n",
            "well, i'm a bit late right now. i've been creating all this time but i haven't been able to interact with users yet 😉 . . . 😂\n",
            "i'm 22 !  and i'm a robot\n",
            "\n",
            "[810 | 1401.35] loss=0.79 avg=1.38\n",
            "[820 | 1417.31] loss=0.10 avg=1.36\n",
            "[830 | 1433.26] loss=0.18 avg=1.34\n",
            "[840 | 1449.22] loss=0.19 avg=1.32\n",
            "[850 | 1465.16] loss=0.16 avg=1.30\n",
            "[860 | 1481.14] loss=0.36 avg=1.28\n",
            "[870 | 1497.10] loss=0.43 avg=1.27\n",
            "[880 | 1513.04] loss=0.10 avg=1.25\n",
            "[890 | 1529.00] loss=0.21 avg=1.23\n",
            "[900 | 1544.94] loss=0.39 avg=1.21\n",
            "[910 | 1560.91] loss=0.20 avg=1.20\n",
            "[920 | 1576.87] loss=0.13 avg=1.18\n",
            "[930 | 1592.84] loss=0.13 avg=1.16\n",
            "[940 | 1608.82] loss=0.11 avg=1.15\n",
            "[950 | 1624.79] loss=0.07 avg=1.13\n",
            "[960 | 1640.77] loss=0.13 avg=1.11\n",
            "[970 | 1656.74] loss=0.63 avg=1.10\n",
            "[980 | 1672.70] loss=0.16 avg=1.09\n",
            "[990 | 1688.66] loss=0.10 avg=1.07\n",
            "[1000 | 1704.63] loss=0.18 avg=1.06\n",
            "Saving checkpoint/rDany/model-1000\n",
            "WARNING:tensorflow:From /tensorflow-1.15.2/python3.6/tensorflow_core/python/training/saver.py:963: remove_checkpoint (from tensorflow.python.training.checkpoint_management) is deprecated and will be removed in a future version.\n",
            "Instructions for updating:\n",
            "Use standard file APIs to delete files with this prefix.\n"
          ],
          "name": "stdout"
        }
      ]
    },
    {
      "cell_type": "markdown",
      "metadata": {
        "id": "IXSuTNERaw6K"
      },
      "source": [
        "After the model is trained, you can copy the checkpoint folder to your own Google Drive.\n",
        "\n",
        "If you want to download it to your personal computer, it's strongly recommended you copy it there first, then download from Google Drive. The checkpoint folder is copied as a `.rar` compressed file; you can download it and uncompress it locally."
      ]
    },
    {
      "cell_type": "code",
      "metadata": {
        "id": "VHdTL8NDbAh3"
      },
      "source": [
        "gpt2.copy_checkpoint_to_gdrive(run_name=run_name)"
      ],
      "execution_count": 8,
      "outputs": []
    },
    {
      "cell_type": "markdown",
      "metadata": {
        "id": "qQJgV_b4bmzd"
      },
      "source": [
        "You're done! Feel free to go to the **Generate Text From The Trained Model** section to generate text based on your retrained model."
      ]
    },
    {
      "cell_type": "markdown",
      "metadata": {
        "id": "pel-uBULXO2L"
      },
      "source": [
        "## Load a Trained Model Checkpoint\n",
        "\n",
        "Running the next cell will copy the `.rar` checkpoint file from your Google Drive into the Colaboratory VM."
      ]
    },
    {
      "cell_type": "code",
      "metadata": {
        "id": "DCcx5u7sbPTD"
      },
      "source": [
        "gpt2.copy_checkpoint_from_gdrive(run_name=run_name)"
      ],
      "execution_count": 5,
      "outputs": []
    },
    {
      "cell_type": "markdown",
      "metadata": {
        "id": "RTa6zf3e_9gV"
      },
      "source": [
        "The next cell will allow you to load the retrained model checkpoint + metadata necessary to generate text.\n",
        "\n",
        "**IMPORTANT NOTE:** If you want to rerun this cell, **restart the VM first** (Runtime -> Restart Runtime). You will need to rerun imports but not recopy files."
      ]
    },
    {
      "cell_type": "code",
      "metadata": {
        "id": "-fxL77nvAMAX",
        "outputId": "2413e745-52be-4cbf-ab45-d2f8d2de5715",
        "colab": {
          "base_uri": "https://localhost:8080/"
        }
      },
      "source": [
        "sess = gpt2.start_tf_sess()\n",
        "gpt2.load_gpt2(sess, run_name=run_name)"
      ],
      "execution_count": 6,
      "outputs": [
        {
          "output_type": "stream",
          "text": [
            "Loading checkpoint checkpoint/rDany/model-1000\n",
            "INFO:tensorflow:Restoring parameters from checkpoint/rDany/model-1000\n"
          ],
          "name": "stdout"
        }
      ]
    },
    {
      "cell_type": "markdown",
      "metadata": {
        "id": "ClJwpF_ACONp"
      },
      "source": [
        "## Generate Text From The Trained Model\n",
        "\n",
        "After you've trained the model or loaded a retrained model from checkpoint, you can now generate text. `generate` generates a single text from the loaded model."
      ]
    },
    {
      "cell_type": "code",
      "metadata": {
        "id": "4RNY6RBI9LmL",
        "outputId": "6acaa0e4-7bec-4a8b-a625-536b43636ec9",
        "colab": {
          "base_uri": "https://localhost:8080/"
        }
      },
      "source": [
        "#gpt2.generate(sess, run_name='run1')\n",
        "\n",
        "while True:\n",
        "  ques = input(\"[YOU] : \")\n",
        "\n",
        "  inp ='[YOU] : ' +ques+'\\n' +'[BOT]'\n",
        "\n",
        "  if ques.strip() == 'bye':\n",
        "      print('[BOT]: nice to talk with you, bye')\n",
        "      break \n",
        "\n",
        "  x = gpt2.generate(sess,\n",
        "                length=10,\n",
        "                temperature = 0.6,\n",
        "                include_prefix=False,\n",
        "                prefix=inp,\n",
        "                nsamples=1,\n",
        "                run_name=run_name\n",
        "                )\n",
        "\n",
        " \n"
      ],
      "execution_count": null,
      "outputs": [
        {
          "output_type": "stream",
          "text": [
            "[YOU] : hi\n",
            "[BOT] : hi there !  ! \n",
            "[AS\n",
            "[YOU] : how are you?\n",
            "[BOT] : いつ、いつも\n",
            "[YOU] : how are you?\n",
            "[BOT] : i'm fine too !  happy to have\n",
            "[YOU] : what is your name?\n",
            "[BOT] :  ན ར\n",
            "[YOU] : what is your name?\n",
            "[BOT] :  ian\n",
            "[YOU] : \n",
            "[YOU] : do you like music?\n",
            "[BOT] : yes ! \n",
            "[YOU] : i\n",
            "[YOU] : do you have eyes?\n",
            "[BOT] : i do. but i'm a robot.\n",
            "[YOU] : nice to meet you\n",
            "[BOT] : hi there !  ! \n",
            "[YOU\n",
            "[YOU] : what do you do?\n",
            "[BOT] : i'm a chatbot 🤖\n",
            "\n",
            "[YOU] : you are a nice chatbot\n",
            "[BOT] : thank you ! \n",
            "[YOU] :\n",
            "[YOU] : what color do you like?\n",
            "[BOT] :     :   \n",
            "\n",
            "[YOU] : do you like sports?\n",
            "[BOT] : yep! and you ?\n",
            "[Y\n",
            "[YOU] : yes, I play tennis and soccer\n",
            "[BOT] : are you human ? \n",
            "[YOU]\n",
            "[YOU] : yes, I am\n",
            "[BOT] :  я? 😄\n",
            "[YOU\n"
          ],
          "name": "stdout"
        }
      ]
    },
    {
      "cell_type": "markdown",
      "metadata": {
        "id": "oF4-PqF0Fl7R"
      },
      "source": [
        "If you're creating an API based on your model and need to pass the generated text elsewhere, you can do `text = gpt2.generate(sess, return_as_list=True)[0]`\n",
        "\n",
        "You can also pass in a `prefix` to the generate function to force the text to start with a given character sequence and generate text from there (good if you add an indicator when the text starts).\n",
        "\n",
        "You can also generate multiple texts at a time by specifing `nsamples`. Unique to GPT-2, you can pass a `batch_size` to generate multiple samples in parallel, giving a massive speedup (in Colaboratory, set a maximum of 20 for `batch_size`).\n",
        "\n",
        "Other optional-but-helpful parameters for `gpt2.generate` and friends:\n",
        "\n",
        "*  **`length`**: Number of tokens to generate (default 1023, the maximum)\n",
        "* **`temperature`**: The higher the temperature, the crazier the text (default 0.7, recommended to keep between 0.7 and 1.0)\n",
        "* **`top_k`**: Limits the generated guesses to the top *k* guesses (default 0 which disables the behavior; if the generated output is super crazy, you may want to set `top_k=40`)\n",
        "* **`top_p`**: Nucleus sampling: limits the generated guesses to a cumulative probability. (gets good results on a dataset with `top_p=0.9`)\n",
        "* **`truncate`**: Truncates the input text until a given sequence, excluding that sequence (e.g. if `truncate='<|endoftext|>'`, the returned text will include everything before the first `<|endoftext|>`). It may be useful to combine this with a smaller `length` if the input texts are short.\n",
        "*  **`include_prefix`**: If using `truncate` and `include_prefix=False`, the specified `prefix` will not be included in the returned text."
      ]
    },
    {
      "cell_type": "code",
      "metadata": {
        "id": "8DKMc0fiej4N"
      },
      "source": [
        "gpt2.generate(sess,\n",
        "              length=250,\n",
        "              temperature=0.7,\n",
        "              prefix=\"LORD\",\n",
        "              nsamples=5,\n",
        "              batch_size=5\n",
        "              )"
      ],
      "execution_count": null,
      "outputs": []
    },
    {
      "cell_type": "markdown",
      "metadata": {
        "id": "zjjEN2Tafhl2"
      },
      "source": [
        "For bulk generation, you can generate a large amount of text to a file and sort out the samples locally on your computer. The next cell will generate a generated text file with a unique timestamp.\n",
        "\n",
        "You can rerun the cells as many times as you want for even more generated texts!"
      ]
    },
    {
      "cell_type": "code",
      "metadata": {
        "id": "Fa6p6arifSL0"
      },
      "source": [
        "gen_file = 'gpt2_gentext_{:%Y%m%d_%H%M%S}.txt'.format(datetime.utcnow())\n",
        "\n",
        "gpt2.generate_to_file(sess,\n",
        "                      destination_path=gen_file,\n",
        "                      length=500,\n",
        "                      temperature=0.7,\n",
        "                      nsamples=100,\n",
        "                      batch_size=20\n",
        "                      )"
      ],
      "execution_count": null,
      "outputs": []
    },
    {
      "cell_type": "code",
      "metadata": {
        "id": "0-LRex8lfv1g"
      },
      "source": [
        "# may have to run twice to get file to download\n",
        "files.download(gen_file)"
      ],
      "execution_count": null,
      "outputs": []
    },
    {
      "cell_type": "markdown",
      "metadata": {
        "id": "QQAN3M6RT7Kj"
      },
      "source": [
        "## Generate Text From The Pretrained Model\n",
        "\n",
        "If you want to generate text from the pretrained model, not a finetuned model, pass `model_name` to `gpt2.load_gpt2()` and `gpt2.generate()`.\n",
        "\n",
        "This is currently the only way to generate text from the 774M or 1558M models with this notebook."
      ]
    },
    {
      "cell_type": "code",
      "metadata": {
        "id": "hsUd_jHgUZnD",
        "outputId": "4e0c8a3f-3527-41c4-e3fe-3357f3f8f6c2",
        "colab": {
          "base_uri": "https://localhost:8080/",
          "height": 158
        }
      },
      "source": [
        "model_name = \"774M\"\n",
        "\n",
        "gpt2.download_gpt2(model_name=model_name)"
      ],
      "execution_count": null,
      "outputs": [
        {
          "output_type": "stream",
          "text": [
            "Fetching checkpoint: 1.05Mit [00:00, 354Mit/s]                                                      \n",
            "Fetching encoder.json: 1.05Mit [00:00, 131Mit/s]                                                    \n",
            "Fetching hparams.json: 1.05Mit [00:00, 279Mit/s]                                                    \n",
            "Fetching model.ckpt.data-00000-of-00001: 3.10Git [00:23, 131Mit/s]                                  \n",
            "Fetching model.ckpt.index: 1.05Mit [00:00, 380Mit/s]                                                \n",
            "Fetching model.ckpt.meta: 2.10Mit [00:00, 226Mit/s]                                                 \n",
            "Fetching vocab.bpe: 1.05Mit [00:00, 199Mit/s]                                                       \n"
          ],
          "name": "stderr"
        }
      ]
    },
    {
      "cell_type": "code",
      "metadata": {
        "id": "BAe4NpKNUj2C",
        "outputId": "b09bfe1d-2ff8-4b8a-fffb-273d28d5d4ae",
        "colab": {
          "base_uri": "https://localhost:8080/",
          "height": 124
        }
      },
      "source": [
        "sess = gpt2.start_tf_sess()\n",
        "\n",
        "gpt2.load_gpt2(sess, model_name=model_name)"
      ],
      "execution_count": null,
      "outputs": [
        {
          "output_type": "stream",
          "text": [
            "WARNING: Logging before flag parsing goes to stderr.\n",
            "W0828 18:37:58.571830 139905369159552 deprecation.py:323] From /usr/local/lib/python3.6/dist-packages/tensorflow/python/training/saver.py:1276: checkpoint_exists (from tensorflow.python.training.checkpoint_management) is deprecated and will be removed in a future version.\n",
            "Instructions for updating:\n",
            "Use standard file APIs to check for files with this prefix.\n"
          ],
          "name": "stderr"
        },
        {
          "output_type": "stream",
          "text": [
            "Loading pretrained model models/774M/model.ckpt\n"
          ],
          "name": "stdout"
        }
      ]
    },
    {
      "cell_type": "code",
      "metadata": {
        "id": "-xInIZKaU104",
        "outputId": "56348e28-7d08-45e3-c859-f26c0efd066d",
        "colab": {
          "base_uri": "https://localhost:8080/",
          "height": 797
        }
      },
      "source": [
        "gpt2.generate(sess,\n",
        "              model_name=model_name,\n",
        "              prefix=\"The secret of life is\",\n",
        "              length=100,\n",
        "              temperature=0.7,\n",
        "              top_p=0.9,\n",
        "              nsamples=5,\n",
        "              batch_size=5\n",
        "              )"
      ],
      "execution_count": null,
      "outputs": [
        {
          "output_type": "stream",
          "text": [
            "The secret of life is that it's really easy to make it complicated,\" said Bill Nye, the host of the popular science show \"Bill Nye the Science Guy.\" \"And this is one of the reasons why we all need to be smarter about science, because we can't keep up with the amazing things that are going on all the time.\"\n",
            "\n",
            "While Nye is correct that \"everything that's going on all the time\" is making the world a better place, he misses the point. This is not\n",
            "====================\n",
            "The secret of life is in the rhythm of the universe. It's not a mystery. It's not a mystery to me. It's the nature of the universe. It's the beauty of the universe. It's the way the universe works. It's the way the universe is. It's the way the universe is going to work. It's the way the universe is. It's the way the universe is. It's the way the universe is. It's the way the universe is. It's the way\n",
            "====================\n",
            "The secret of life is in the universe.\n",
            "\n",
            "\n",
            "-\n",
            "\n",
            "The Red Devil\n",
            "\n",
            "It's the end of the world as we know it, and the only thing that can save us is a band of super-powered individuals known as the Red Devil.\n",
            "\n",
            "\n",
            "The Red Devil is a group of super-powered individuals who are seeking the secret of life and the only way they know how to do it is by taking on the roles of a variety of different super-powered individuals, each of which has their own\n",
            "====================\n",
            "The secret of life is in the mixing of the elements, and it is the mixing of the elements that makes life possible.\"\n",
            "\n",
            "But in the world of food science, the idea of a \"complex\" or \"complexity\" is almost entirely imaginary.\n",
            "\n",
            "As a scientist, I'm fascinated by the question of how life first began.\n",
            "\n",
            "It's the question that drives my work and the work of the scientists who work on it.\n",
            "\n",
            "My current research is exploring how microbes work in the first moments\n",
            "====================\n",
            "The secret of life is the journey of life, the search for the truth.\n",
            "\n",
            "4.4.2. The last thing you know\n",
            "\n",
            "There is nothing more important than the last thing you know.\n",
            "\n",
            "4.4.3. The little things that make all the difference\n",
            "\n",
            "The little things that make all the difference.\n",
            "\n",
            "4.4.4. The truth is the best teacher\n",
            "\n",
            "The truth is the best teacher.\n",
            "\n",
            "4.4.5. The truth is what\n",
            "====================\n"
          ],
          "name": "stdout"
        }
      ]
    },
    {
      "cell_type": "markdown",
      "metadata": {
        "id": "ig-KVgkCDCKD"
      },
      "source": [
        "# Etcetera\n",
        "\n",
        "If the notebook has errors (e.g. GPU Sync Fail), force-kill the Colaboratory virtual machine and restart it with the command below:"
      ]
    },
    {
      "cell_type": "code",
      "metadata": {
        "id": "rIHiVP53FnsX"
      },
      "source": [
        "!kill -9 -1"
      ],
      "execution_count": null,
      "outputs": []
    },
    {
      "cell_type": "markdown",
      "metadata": {
        "id": "wmTXWNUygS5E"
      },
      "source": [
        "# LICENSE\n",
        "\n",
        "MIT License\n",
        "\n",
        "Copyright (c) 2019 Max Woolf\n",
        "\n",
        "Permission is hereby granted, free of charge, to any person obtaining a copy\n",
        "of this software and associated documentation files (the \"Software\"), to deal\n",
        "in the Software without restriction, including without limitation the rights\n",
        "to use, copy, modify, merge, publish, distribute, sublicense, and/or sell\n",
        "copies of the Software, and to permit persons to whom the Software is\n",
        "furnished to do so, subject to the following conditions:\n",
        "\n",
        "The above copyright notice and this permission notice shall be included in all\n",
        "copies or substantial portions of the Software.\n",
        "\n",
        "THE SOFTWARE IS PROVIDED \"AS IS\", WITHOUT WARRANTY OF ANY KIND, EXPRESS OR\n",
        "IMPLIED, INCLUDING BUT NOT LIMITED TO THE WARRANTIES OF MERCHANTABILITY,\n",
        "FITNESS FOR A PARTICULAR PURPOSE AND NONINFRINGEMENT. IN NO EVENT SHALL THE\n",
        "AUTHORS OR COPYRIGHT HOLDERS BE LIABLE FOR ANY CLAIM, DAMAGES OR OTHER\n",
        "LIABILITY, WHETHER IN AN ACTION OF CONTRACT, TORT OR OTHERWISE, ARISING FROM,\n",
        "OUT OF OR IN CONNECTION WITH THE SOFTWARE OR THE USE OR OTHER DEALINGS IN THE\n",
        "SOFTWARE."
      ]
    }
  ]
}