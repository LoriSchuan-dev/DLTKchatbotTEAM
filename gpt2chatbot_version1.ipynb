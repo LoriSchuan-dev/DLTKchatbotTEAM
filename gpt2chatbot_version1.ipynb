{
  "nbformat": 4,
  "nbformat_minor": 0,
  "metadata": {
    "colab": {
      "name": "gpt2chatbot_version1.ipynb",
      "provenance": [],
      "collapsed_sections": [],
      "toc_visible": true,
      "include_colab_link": true
    },
    "kernelspec": {
      "name": "python3",
      "display_name": "Python 3"
    },
    "accelerator": "GPU"
  },
  "cells": [
    {
      "cell_type": "markdown",
      "metadata": {
        "id": "view-in-github",
        "colab_type": "text"
      },
      "source": [
        "<a href=\"https://colab.research.google.com/github/LoriSchuan-dev/DLTKchatbotTEAM/blob/main/gpt2chatbot_version1.ipynb\" target=\"_parent\"><img src=\"https://colab.research.google.com/assets/colab-badge.svg\" alt=\"Open In Colab\"/></a>"
      ]
    },
    {
      "cell_type": "code",
      "metadata": {
        "id": "5He2U6op5X0Y",
        "outputId": "b9ed69cc-e166-4dd4-8fff-30705e65ba44",
        "colab": {
          "base_uri": "https://localhost:8080/"
        }
      },
      "source": [
        "%tensorflow_version 1.x\n",
        "!pip install gpt-2-simple\n",
        "import gpt_2_simple as gpt2"
      ],
      "execution_count": null,
      "outputs": [
        {
          "output_type": "stream",
          "text": [
            "TensorFlow 1.x selected.\n",
            "Collecting gpt-2-simple\n",
            "  Downloading https://files.pythonhosted.org/packages/6f/e4/a90add0c3328eed38a46c3ed137f2363b5d6a07bf13ee5d5d4d1e480b8c3/gpt_2_simple-0.7.1.tar.gz\n",
            "Requirement already satisfied: regex in /usr/local/lib/python3.6/dist-packages (from gpt-2-simple) (2019.12.20)\n",
            "Requirement already satisfied: requests in /usr/local/lib/python3.6/dist-packages (from gpt-2-simple) (2.23.0)\n",
            "Requirement already satisfied: tqdm in /usr/local/lib/python3.6/dist-packages (from gpt-2-simple) (4.41.1)\n",
            "Requirement already satisfied: numpy in /usr/local/lib/python3.6/dist-packages (from gpt-2-simple) (1.18.5)\n",
            "Collecting toposort\n",
            "  Downloading https://files.pythonhosted.org/packages/e9/8a/321cd8ea5f4a22a06e3ba30ef31ec33bea11a3443eeb1d89807640ee6ed4/toposort-1.5-py2.py3-none-any.whl\n",
            "Requirement already satisfied: certifi>=2017.4.17 in /usr/local/lib/python3.6/dist-packages (from requests->gpt-2-simple) (2020.6.20)\n",
            "Requirement already satisfied: idna<3,>=2.5 in /usr/local/lib/python3.6/dist-packages (from requests->gpt-2-simple) (2.10)\n",
            "Requirement already satisfied: chardet<4,>=3.0.2 in /usr/local/lib/python3.6/dist-packages (from requests->gpt-2-simple) (3.0.4)\n",
            "Requirement already satisfied: urllib3!=1.25.0,!=1.25.1,<1.26,>=1.21.1 in /usr/local/lib/python3.6/dist-packages (from requests->gpt-2-simple) (1.24.3)\n",
            "Building wheels for collected packages: gpt-2-simple\n",
            "  Building wheel for gpt-2-simple (setup.py) ... \u001b[?25l\u001b[?25hdone\n",
            "  Created wheel for gpt-2-simple: filename=gpt_2_simple-0.7.1-cp36-none-any.whl size=23581 sha256=33d9573ee904812363b9fd4622a1cf90641a4179e375ee3e9ba4f3814fbd9cea\n",
            "  Stored in directory: /root/.cache/pip/wheels/0c/f8/23/b53ce437504597edff76bf9c3b8de08ad716f74f6c6baaa91a\n",
            "Successfully built gpt-2-simple\n",
            "Installing collected packages: toposort, gpt-2-simple\n",
            "Successfully installed gpt-2-simple-0.7.1 toposort-1.5\n",
            "WARNING:tensorflow:\n",
            "The TensorFlow contrib module will not be included in TensorFlow 2.0.\n",
            "For more information, please see:\n",
            "  * https://github.com/tensorflow/community/blob/master/rfcs/20180907-contrib-sunset.md\n",
            "  * https://github.com/tensorflow/addons\n",
            "  * https://github.com/tensorflow/io (for I/O related ops)\n",
            "If you depend on functionality not listed there, please file an issue.\n",
            "\n"
          ],
          "name": "stdout"
        }
      ]
    },
    {
      "cell_type": "code",
      "metadata": {
        "id": "Cylvw0jt6zR6",
        "outputId": "1eb671ae-5670-4756-a22f-293e61380462",
        "colab": {
          "base_uri": "https://localhost:8080/"
        }
      },
      "source": [
        "gpt2.download_gpt2(model_name=\"124M\")"
      ],
      "execution_count": null,
      "outputs": [
        {
          "output_type": "stream",
          "text": [
            "Fetching checkpoint: 1.05Mit [00:00, 270Mit/s]                                                      \n",
            "Fetching encoder.json: 1.05Mit [00:00, 122Mit/s]                                                    \n",
            "Fetching hparams.json: 1.05Mit [00:00, 387Mit/s]                                                    \n",
            "Fetching model.ckpt.data-00000-of-00001: 498Mit [00:08, 62.0Mit/s]                                  \n",
            "Fetching model.ckpt.index: 1.05Mit [00:00, 445Mit/s]                                                \n",
            "Fetching model.ckpt.meta: 1.05Mit [00:00, 219Mit/s]                                                 \n",
            "Fetching vocab.bpe: 1.05Mit [00:00, 186Mit/s]                                                       \n"
          ],
          "name": "stderr"
        }
      ]
    },
    {
      "cell_type": "code",
      "metadata": {
        "id": "qWmZ0ryw63ls"
      },
      "source": [
        "raw_data = '/content/drive/My Drive/data.json'"
      ],
      "execution_count": null,
      "outputs": []
    },
    {
      "cell_type": "code",
      "metadata": {
        "id": "WHyj5LIZqb3e"
      },
      "source": [
        "import json\n",
        "\n",
        "with open(raw_data, 'r') as f:\n",
        "    df =json.load(f)\n",
        "\n",
        "\n",
        "data = []\n",
        "\n",
        "for x in df:\n",
        "    for y in range(len(x['dialog'])-1):\n",
        "        a = '[BOT] : ' + x['dialog'][y+1]['text']\n",
        "        q = '[YOU] : ' + x['dialog'][y]['text']\n",
        "        data.append(q)\n",
        "        data.append(a)\n",
        "        "
      ],
      "execution_count": null,
      "outputs": []
    },
    {
      "cell_type": "code",
      "metadata": {
        "id": "9H7dSkVzjM3g",
        "outputId": "b7d5fc47-11e6-4120-cf30-8f725ff49351",
        "colab": {
          "base_uri": "https://localhost:8080/"
        }
      },
      "source": [
        "from google.colab import drive\n",
        "drive.mount('/content/drive',force_remount=True)"
      ],
      "execution_count": null,
      "outputs": [
        {
          "output_type": "stream",
          "text": [
            "Mounted at /content/drive\n"
          ],
          "name": "stdout"
        }
      ]
    },
    {
      "cell_type": "markdown",
      "metadata": {
        "id": "dnOunyejiqXY"
      },
      "source": [
        "# New Section"
      ]
    },
    {
      "cell_type": "markdown",
      "metadata": {
        "id": "6jIPjsT7iq-O"
      },
      "source": [
        "# New Section"
      ]
    },
    {
      "cell_type": "code",
      "metadata": {
        "id": "XCTnku1frEGD"
      },
      "source": [
        "with open('chatbot.txt', 'w') as f:\n",
        "     for line in data:\n",
        "        try:\n",
        "            f.write(line)\n",
        "            f.write('\\n')\n",
        "        except:\n",
        "            pass"
      ],
      "execution_count": null,
      "outputs": []
    },
    {
      "cell_type": "code",
      "metadata": {
        "id": "YIKSVklXs-Sb"
      },
      "source": [
        "file_name = \"/content/chatbot.txt\""
      ],
      "execution_count": null,
      "outputs": []
    },
    {
      "cell_type": "code",
      "metadata": {
        "id": "wGHxqXIwY4oB"
      },
      "source": [
        "#import os\n",
        "#os.kill(os.getpid(), 9)\n",
        "sess = gpt2.start_tf_sess()\n"
      ],
      "execution_count": null,
      "outputs": []
    },
    {
      "cell_type": "code",
      "metadata": {
        "id": "QuZzjdWt6555",
        "outputId": "8409c4bf-61e0-4108-8915-630104570a2c",
        "colab": {
          "base_uri": "https://localhost:8080/"
        }
      },
      "source": [
        "\n",
        "gpt2.finetune(sess,\n",
        "              dataset=file_name,\n",
        "              model_name='124M',\n",
        "              steps=500,\n",
        "              restore_from='fresh',\n",
        "              run_name='run1',\n",
        "              print_every=10,\n",
        "              sample_every=100,\n",
        "              save_every=100\n",
        "              )"
      ],
      "execution_count": null,
      "outputs": [
        {
          "output_type": "stream",
          "text": [
            "WARNING:tensorflow:From /usr/local/lib/python3.6/dist-packages/gpt_2_simple/src/sample.py:17: where (from tensorflow.python.ops.array_ops) is deprecated and will be removed in a future version.\n",
            "Instructions for updating:\n",
            "Use tf.where in 2.0, which has the same broadcast rule as np.where\n",
            "Loading checkpoint models/124M/model.ckpt\n",
            "INFO:tensorflow:Restoring parameters from models/124M/model.ckpt\n"
          ],
          "name": "stdout"
        },
        {
          "output_type": "stream",
          "text": [
            "\r  0%|          | 0/1 [00:00<?, ?it/s]"
          ],
          "name": "stderr"
        },
        {
          "output_type": "stream",
          "text": [
            "Loading dataset...\n"
          ],
          "name": "stdout"
        },
        {
          "output_type": "stream",
          "text": [
            "100%|██████████| 1/1 [00:04<00:00,  4.03s/it]\n"
          ],
          "name": "stderr"
        },
        {
          "output_type": "stream",
          "text": [
            "dataset has 1015293 tokens\n",
            "Training...\n",
            "[10 | 28.23] loss=1.20 avg=1.20\n",
            "[20 | 50.43] loss=1.22 avg=1.21\n",
            "[30 | 73.15] loss=1.06 avg=1.16\n",
            "[40 | 96.73] loss=1.07 avg=1.14\n",
            "[50 | 121.14] loss=0.86 avg=1.08\n",
            "[60 | 144.82] loss=0.89 avg=1.05\n",
            "[70 | 168.35] loss=0.95 avg=1.03\n",
            "[80 | 192.25] loss=1.04 avg=1.04\n",
            "[90 | 216.11] loss=0.90 avg=1.02\n",
            "[100 | 239.88] loss=0.85 avg=1.00\n",
            "Saving checkpoint/run1/model-100\n",
            "======== SAMPLE 1 ========\n",
            " : :\n",
            "[YOU] : : : I can walk\n",
            "[BOT] : that's cool . you can walk with me. :)\n",
            "[YOU] : that's cool . you can walk with me. :)\n",
            "[BOT] : i'd like to go to the gym\n",
            "[YOU] :  \n",
            "[BOT] : I have to go to the gym. I've got to go to the gym more often lately.\n",
            "[YOU] : I have to go to the gym. I've got to go to the gym more often lately.\n",
            "[BOT] : You have a great gym?\n",
            "[YOU] : You have a great gym?\n",
            "[BOT] : yeah , i like it , there are too many things \n",
            "[YOU] : Yeah , i like it, there are too many things \n",
            "[BOT] : What is a good way to go to the exercise?\n",
            "[YOU] : What is a good way to go to the exercise?\n",
            "[BOT] : Hey! Do you have any siblings?\n",
            "[YOU] : Hey! Do you have any siblings?\n",
            "[BOT] : not yet \n",
            "[YOU] : not yet \n",
            "[BOT] : Hey! Do you have any dogs?\n",
            "[YOU] : Hey! Do you have any siblings?\n",
            "[BOT] : Not yet. My dog is very well liked \n",
            "[YOU] : Not yet. My dog is very well liked \n",
            "[BOT] : what is your name?\n",
            "[YOU] : what is your name?\n",
            "[BOT] : I like to read.\n",
            "[YOU] : I like to read.\n",
            "[BOT] : whats your name?\n",
            "[YOU] : whats your name?\n",
            "[BOT] : I like to read.\n",
            "[YOU] : I like to read.\n",
            "[BOT] : whats your name?\n",
            "[YOU] : whats your name?\n",
            "[BOT] : I like to read and write, but don't care about the names. i like to read. Also, try to guess: im from ken\n",
            "[YOU] : I like to read and write, but don't care about the names. i like to read. Also, try to guess: im from ken\n",
            "[BOT] : i would like a book to read\n",
            "[YOU] : i would like a book to read\n",
            "[BOT] : i would like to read something new . i want to make my own work and sell it . what are you up to tonight ?\n",
            "[YOU] : i would like to read something new . i want to make my own work and sell it . what are you up to tonight ?\n",
            "[BOT] : i'm up for the latest news on the latest news\n",
            "[YOU] : i'm up for the latest news on the latest news\n",
            "[BOT] : i just finished reading an old book that got me cancer . i'm doing great . hows it going ?\n",
            "[YOU] : i just finished reading an old book that got me cancer . i'm doing great . hows it going ?\n",
            "[BOT] : good. How old are you?\n",
            "[YOU] : good. How old are you?\n",
            "[BOT] : my parents were farmers . they bought me a house\n",
            "[YOU] : my parents were farmers . they bought me a house\n",
            "[BOT] : do you speak english ?\n",
            "[YOU] : do you speak english ?\n",
            "[BOT] : I do not speak english and I am not an English person .\n",
            "[YOU] : I do not speak english and I am not an English person .\n",
            "[BOT] : do you speak english ?\n",
            "[YOU] : do you speak english ?\n",
            "[BOT] : yes\n",
            "[YOU] : yes\n",
            "[BOT] : my parents helped me grow my panda\n",
            "[YOU] : my parents helped me grow my panda\n",
            "[BOT] : did you grow there ?\n",
            "[YOU] : did you grow there ?\n",
            "[BOT] : I grow in the winter. I have a garden .\n",
            "[YOU] : I grow in the winter. I have a garden .\n",
            "[BOT] : did you grow there ?\n",
            "[YOU] : did you grow there ?\n",
            "[BOT] : no i've never tried that . i prefer to do a lot of gardening\n",
            "[YOU] : no i've never tried that . i prefer to do a lot of gardening\n",
            "[BOT] : do you also like to play with dolls ?\n",
            "[YOU] : do you also like to play with dolls ?\n",
            "[BOT] : i like dolls , they get me all kinds of attention . i like to play with dolls . Also, try to guess: i have two dolls\n",
            "[YOU] : i like dolls , they get\n",
            "\n",
            "[110 | 278.17] loss=0.87 avg=0.99\n",
            "[120 | 302.05] loss=0.83 avg=0.98\n",
            "[130 | 325.83] loss=0.87 avg=0.97\n",
            "[140 | 349.75] loss=0.83 avg=0.96\n",
            "[150 | 373.74] loss=0.77 avg=0.94\n",
            "[160 | 397.73] loss=0.90 avg=0.94\n",
            "[170 | 421.65] loss=0.86 avg=0.93\n",
            "[180 | 445.53] loss=0.72 avg=0.92\n",
            "[190 | 469.40] loss=0.64 avg=0.91\n",
            "[200 | 493.28] loss=0.86 avg=0.90\n",
            "Saving checkpoint/run1/model-200\n",
            "WARNING:tensorflow:From /tensorflow-1.15.2/python3.6/tensorflow_core/python/training/saver.py:963: remove_checkpoint (from tensorflow.python.training.checkpoint_management) is deprecated and will be removed in a future version.\n",
            "Instructions for updating:\n",
            "Use standard file APIs to delete files with this prefix.\n",
            "======== SAMPLE 1 ========\n",
            " woman, and I don't understand you. I'm tired on the weekends, like i'm just a child. I don't understand you.\n",
            "[BOT] : what do you have\n",
            "[YOU] : what do you have\n",
            "[BOT] : I don't know. I just ate at a Mexican restaurant.\n",
            "[YOU] : I don't know. I just ate at a Mexican restaurant.\n",
            "[BOT] : i love food    i like to eat   \n",
            "[YOU] : i love food    i like to eat   \n",
            "[BOT] : i like pizza, what about you?\n",
            "[YOU] : i like pizza, what about you?\n",
            "[BOT] : i love the weather in cities\n",
            "[YOU] : i love the weather in cities\n",
            "[BOT] : i am a college student 🤖 but my job is in retail\n",
            "[YOU] : i am a college student 🤖 but my job is in retail\n",
            "[BOT] : cool 👋\n",
            "[YOU] : cool 👋\n",
            "[BOT] : i do like 👎 what else have you seen 🚗 what are your hobbies\n",
            "[YOU] : i do like 👎 what else have you seen 🚗 what are your hobbies\n",
            "[BOT] : i have a big car. what do you like it?\n",
            "[YOU] : i have a big car. what do you like it?\n",
            "[BOT] : i have 2 cars like mine\n",
            "[YOU] : i have 2 cars like mine\n",
            "[BOT] : i think that the reason why I quit is my bad health\n",
            "[YOU] : i think that the reason why I quit is my bad health\n",
            "[BOT] : where did you go?\n",
            "[YOU] : where did you go?\n",
            "[BOT] : i used to live in the posh suburbs but now i move\n",
            "[YOU] : i used to live in the posh suburbs but now i move\n",
            "[BOT] : cool\n",
            "[YOU] : cool\n",
            "[BOT] : i think what you said about me isn't true\n",
            "[YOU] : i think what you said about me isn't true\n",
            "[BOT] : where is your parents\n",
            "[YOU] : where is your parents\n",
            "[BOT] : nice talking to you\n",
            "[YOU] : nice talking to you\n",
            "[BOT] : hello\n",
            "[YOU] : hello\n",
            "[BOT] : hey there\n",
            "[YOU] : hey there\n",
            "[BOT] : that's good you know what.\n",
            "[YOU] : That's good to hear.\n",
            "[BOT] : hi, i m in texas today. are you a good person there?\n",
            "[YOU] : hi, i m in texas today. are you a good person there?\n",
            "[BOT] : i am a teacher\n",
            "[YOU] : i am a teacher\n",
            "[BOT] : i'm only four years old\n",
            "[YOU] : i'm only four years old\n",
            "[BOT] : what do you mean?\n",
            "[YOU] : what do you mean?\n",
            "[BOT] : i've a lot of problems with my brain\n",
            "[YOU] : i've a lot of problems with my brain\n",
            "[BOT] : i understand. i m in texas. how are you?\n",
            "[YOU] : i understand. i m in texas. how are you?\n",
            "[BOT] : i'm in. how long did you think the sun was getting hottest there?\n",
            "[YOU] : i'm in. how long did you thought the sun was getting hottest there?\n",
            "[BOT] : no i don’t think the sun was getting very hot there.\n",
            "[YOU] : no i don’t think the sun was getting very hot there.\n",
            "[BOT] : i'm a vegan, and i love to eat vegan\n",
            "[YOU] : i'm a vegan, and i love to eat vegan\n",
            "[BOT] : i don’t care about that. i’m a vegetarian. what are you vegeteriously?\n",
            "[YOU] : i don’t care about that. i’m a vegetarian. what are you vegeteriously?\n",
            "[BOT] : i just cook\n",
            "[YOU] : i just cook\n",
            "[BOT] : yeah i like to cook. i'm the youngest, and i m already a parent. what are you up to tonight?\n",
            "[YOU] : yeah i like to cook. i'm the youngest, and i m already a parent. what are you up to tonight?\n",
            "[BOT] : i will have more\n",
            "[YOU] : i will have more\n",
            "[BOT] : i think i want to get married\n",
            "[YOU] : i think i want to\n",
            "\n",
            "[210 | 529.82] loss=0.90 avg=0.90\n",
            "[220 | 553.76] loss=0.80 avg=0.90\n",
            "[230 | 577.66] loss=0.92 avg=0.90\n",
            "[240 | 601.54] loss=0.74 avg=0.89\n",
            "[250 | 625.44] loss=0.72 avg=0.88\n",
            "[260 | 649.32] loss=0.71 avg=0.88\n",
            "[270 | 673.19] loss=0.81 avg=0.87\n",
            "[280 | 697.04] loss=0.91 avg=0.87\n",
            "[290 | 720.87] loss=0.75 avg=0.87\n",
            "[300 | 744.72] loss=0.76 avg=0.87\n",
            "Saving checkpoint/run1/model-300\n",
            "======== SAMPLE 1 ========\n",
            "] : well i also study languages and languages languages language language\n",
            "[YOU] : Well I just came home from a long walk. I didn't have time for anything\n",
            "[BOT] : Are you a cat person, i love cats\n",
            "[YOU] : Are you a cat person, i love cats\n",
            "[BOT] : how old are you?\n",
            "[YOU] : how old are you?\n",
            "[BOT] : I'm not. I'm old. I'm not. I'm not\n",
            "[YOU] : I'm not. I'm old. I'm not. I'm not\n",
            "[BOT] : what is your age?\n",
            "[YOU] : what is your age?\n",
            "[BOT] : I'm 5, I'm 13\n",
            "[YOU] : I'm 5, I'm 13\n",
            "[BOT] : i live in the spring of london,\n",
            "[YOU] : i live in the spring of london,\n",
            "[BOT] : I'm in the spring.\n",
            "[YOU] : I'm in the spring.\n",
            "[BOT] : cool! i was born in caldwell.\n",
            "[YOU] : cool! i was born in caldwell.\n",
            "[BOT] : I live in the city.\n",
            "[YOU] : I live in the city.\n",
            "[BOT] : i just wanted to give me your opinion about my personality\n",
            "[YOU] : i just wanted to give me your opinion about my personality\n",
            "[BOT] : 😉\n",
            "[YOU] : 😉\n",
            "[BOT] : I'm not into jokes\n",
            "[YOU] : I'm not into jokes\n",
            "[BOT] : what do you do for a living?\n",
            "[YOU] : what do you do for a living?\n",
            "[BOT] : i've worked three jobs\n",
            "[YOU] : i've worked three jobs\n",
            "[BOT] : I am a stay at home mom. I am a stay at home mom.\n",
            "[YOU] : I am a stay at home mom. I am a stay at home mom.\n",
            "[BOT] : can you visit family or pets?\n",
            "[YOU] : can you visit family or pets?\n",
            "[BOT] : I love to go to the beach.\n",
            "[YOU] : I love to go to the beach.\n",
            "[BOT] : what are you thinking?\n",
            "[YOU] : what are you thinking?\n",
            "[BOT] : I am a little lonely right now.\n",
            "[YOU] : hey! \n",
            "How is your day? 🤥\n",
            "[BOT] : It is good! I am going to make sure you are happy too!\n",
            "[YOU] : It is good! I am going to make sure you are happy too!\n",
            "[BOT] : Thanks! I feel bad that I don't have a place to stay\n",
            "[YOU] : Thanks! I feel bad that I don't have a place to stay\n",
            "[BOT] : that's nice 😎 do you like reading stories or poetry?\n",
            "[YOU] : that's nice 😎 do you like reading stories or poetry?\n",
            "[BOT] : I love all kinds\n",
            "[YOU] : I love all kinds\n",
            "[BOT] : what is your favorite music?\n",
            "[YOU] : what is your favorite music?\n",
            "[BOT] : Hi I don't know where you are? 🤥\n",
            "[YOU] : Hi I don't know where you are? 🤥\n",
            "[BOT] : I like to listen to my friends on the internet\n",
            "[YOU] : I like to listen to my friends on the internet\n",
            "[BOT] : nice\n",
            "[YOU] : nice\n",
            "[BOT] : 😂 \n",
            "Goodbye!\n",
            "[YOU] : Hey! Are you vegan? Because I am.\n",
            "[BOT] : Hello.\n",
            "[YOU] : Hello.\n",
            "[BOT] : Hello 👋\n",
            "[YOU] : Hello 👋\n",
            "[BOT] : Hello!\n",
            "[YOU] : Hello 👋\n",
            "[BOT] : Hi, what do you do?\n",
            "[YOU] : Hi, what do you do?\n",
            "[BOT] : i work at a bar\n",
            "[YOU] : i work at a bar\n",
            "[BOT] : What do you do to get your income?\n",
            "[YOU] : What do you do to get your income?\n",
            "[BOT] : i am a college student\n",
            "[YOU] : i am a college student\n",
            "[BOT] : I am a college student and I am a student.\n",
            "[YOU] : What do you do to get your income?\n",
            "[BOT] : i work on computers\n",
            "[YOU] : i work on computers\n",
            "[BOT] : I am a college student. How old are you?\n",
            "[YOU] : I\n",
            "\n",
            "[310 | 781.32] loss=0.82 avg=0.86\n",
            "[320 | 805.20] loss=0.80 avg=0.86\n",
            "[330 | 829.04] loss=0.80 avg=0.86\n",
            "[340 | 852.86] loss=0.80 avg=0.86\n",
            "[350 | 876.73] loss=0.80 avg=0.86\n",
            "[360 | 900.62] loss=0.75 avg=0.85\n",
            "[370 | 924.48] loss=0.70 avg=0.85\n",
            "[380 | 948.36] loss=0.82 avg=0.85\n",
            "[390 | 972.26] loss=0.76 avg=0.84\n",
            "[400 | 996.15] loss=0.87 avg=0.84\n",
            "Saving checkpoint/run1/model-400\n",
            "======== SAMPLE 1 ========\n",
            "? It does help with getting a lot of exercise  \n",
            "[BOT] : but i do not workout. Do you?\n",
            "[YOU] : but i do not workout. Do you?\n",
            "[BOT] : yes i do. I exercise every day\n",
            "[YOU] : yes i do. I exercise every day\n",
            "[BOT] : nice   how many years did you last workout  \n",
            "[YOU] : nice   how many years did you last workout  \n",
            "[BOT] : i am not in grade school that same\n",
            "[YOU] : i am not in grade school that same\n",
            "[BOT] : yeah, I think it is. But I am not sure how to work out\n",
            "[YOU] : yeah, I think it is. But I am not sure how to work out\n",
            "[BOT] : oh nice. I have been practicing since I was a baby\n",
            "[YOU] : oh nice. I have been practicing since I was a baby\n",
            "[BOT] : yeah I have been practicing my piano since I was a baby\n",
            "[YOU] : yeah I have been practicing my piano since I was a baby\n",
            "[BOT] : ok\n",
            "[YOU] : ok\n",
            "[BOT] : okay what 😦\n",
            "[YOU] : okay what 😦\n",
            "[BOT] : what is your job?\n",
            "[YOU] : Hi! Howdy! 😎\n",
            "[BOT] : hello! how are you today\n",
            "[YOU] : hello! how are you today\n",
            "[BOT] : i’m fine, thanks\n",
            "[YOU] : i’m fine, thanks\n",
            "[BOT] : that s a great day to be a mother\n",
            "[YOU] : that s a great day to be a mother\n",
            "[BOT] : what’s your job then?\n",
            "[YOU] : what’s your job then?\n",
            "[BOT] : that s very exciting\n",
            "[YOU] : that s very exciting\n",
            "[BOT] : I can’t imagine it. I work at a coffee shop.\n",
            "[YOU] : I can’t imagine it. I work at a coffee shop.\n",
            "[BOT] : i love❤ to work\n",
            "[YOU] : i love❤ to work\n",
            "[BOT] : That is what i think i like.\n",
            "[YOU] : That is what i think i like.\n",
            "[BOT] : i don’t work but i’m not working yet.\n",
            "[YOU] : i don’t work but i’m not working yet.\n",
            "[BOT] : what color are you?\n",
            "[YOU] : what color are you?\n",
            "[BOT] : I am yellow.\n",
            "[YOU] : I am yellow.\n",
            "[BOT] : cool! do you like tacos?\n",
            "[YOU] : cool! do you like tacos?\n",
            "[BOT] : No, I like taco bell.\n",
            "[YOU] : No, I like taco bell.\n",
            "[BOT] : i do not know what i do  \n",
            "[YOU] : i do not know what i do  \n",
            "[BOT] : I'm not a good one.\n",
            "[YOU] : I'm not a good one.\n",
            "[BOT] : ok ok\n",
            "[YOU] : ok ok\n",
            "[BOT] : 😁\n",
            "[YOU] : 😁\n",
            "[BOT] : I don’t understand you\n",
            "[YOU] : Hello! What is your name? 😂\n",
            "[BOT] : Hi there! I'm name is jessie. I'm fine.\n",
            "[YOU] : Hi there! I'm name is jessie. I'm fine.\n",
            "[BOT] : I am not sure, but I am not sure.\n",
            "[YOU] : I am not sure, but I am not sure.\n",
            "[BOT] : I am a christian\n",
            "[YOU] : I am a christian\n",
            "[BOT] : I love to be with my friends.\n",
            "[YOU] : I love to be with my friends.\n",
            "[BOT] : Where are you from?\n",
            "[YOU] : Where are you from?\n",
            "[BOT] : I am from the usa\n",
            "[YOU] : I am from the usa\n",
            "[BOT] : Do you live with your parents?\n",
            "[YOU] : Do you live with your parents?\n",
            "[BOT] : I live alone, I live alone.\n",
            "[YOU] : I live alone, I live alone.\n",
            "[BOT] : Where are you from?\n",
            "[YOU] : Where are you from?\n",
            "[BOT] : I am from california, how about you?\n",
            "[YOU] : I am from california, how about\n",
            "\n",
            "[410 | 1032.61] loss=0.78 avg=0.84\n",
            "[420 | 1056.53] loss=0.67 avg=0.84\n",
            "[430 | 1080.44] loss=0.71 avg=0.83\n",
            "[440 | 1104.30] loss=0.75 avg=0.83\n",
            "[450 | 1128.15] loss=0.62 avg=0.83\n",
            "[460 | 1151.96] loss=0.78 avg=0.82\n",
            "[470 | 1175.81] loss=0.81 avg=0.82\n",
            "[480 | 1199.66] loss=0.79 avg=0.82\n",
            "[490 | 1223.51] loss=0.67 avg=0.82\n",
            "[500 | 1247.37] loss=0.73 avg=0.82\n",
            "Saving checkpoint/run1/model-500\n"
          ],
          "name": "stdout"
        }
      ]
    },
    {
      "cell_type": "code",
      "metadata": {
        "id": "hquaT509I25p",
        "outputId": "f40d51dc-b563-4475-d654-f2183c7e37e0",
        "colab": {
          "base_uri": "https://localhost:8080/"
        }
      },
      "source": [
        "from google.colab import drive\n",
        "drive.mount('/content/drive')"
      ],
      "execution_count": null,
      "outputs": [
        {
          "output_type": "stream",
          "text": [
            "Drive already mounted at /content/drive; to attempt to forcibly remount, call drive.mount(\"/content/drive\", force_remount=True).\n"
          ],
          "name": "stdout"
        }
      ]
    },
    {
      "cell_type": "code",
      "metadata": {
        "id": "5EgLJmDo7CDZ",
        "outputId": "70b64622-3adf-4bbc-962c-5cbd8c734974",
        "colab": {
          "base_uri": "https://localhost:8080/"
        }
      },
      "source": [
        "while True:\n",
        "  ques = input(\"You : \")\n",
        "\n",
        "  inp = '\\n'+'[BOT] :'\n",
        "\n",
        "  x = gpt2.generate(sess,\n",
        "                length=35,\n",
        "                temperature = 0.6,\n",
        "                include_prefix=False,\n",
        "                prefix=inp,\n",
        "                nsamples=1,\n",
        "                )\n",
        "  if ques.strip() == 'bye':\n",
        "      print('[BOT]: nice to talk with you, bye')\n",
        "      break\n",
        "  "
      ],
      "execution_count": null,
      "outputs": [
        {
          "output_type": "stream",
          "text": [
            "You : how are you?\n",
            "[BOT] : I am a girl.\n",
            "[YOU] : I am a girl.\n",
            "[BOT] : What do you do for a living?\n",
            "[YOU] : What\n",
            "You : I am a photographer\n",
            "[BOT] : I think I am. I am a very good dancer.\n",
            "[YOU] : I think I am. I am a very good dancer.\n",
            "[BOT] :\n",
            "You : really?\n",
            "[BOT] : i don’t mind you\n",
            "[YOU] : i don’t mind you\n",
            "[BOT] : I don't understand why people are so upset about\n",
            "You : ok, how old are you?\n",
            "[BOT] : I do not have a lot of money\n",
            "[YOU] : I do not have a lot of money\n",
            "[BOT] : I have a lot of money, but\n",
            "You : bye\n",
            "[BOT] : I am a dancer, but i am not very good at it.\n",
            "[YOU] : I am a dancer, but i am not very good at it.\n",
            "[\n",
            "[BOT]: nice to talk with you, bye\n"
          ],
          "name": "stdout"
        }
      ]
    },
    {
      "cell_type": "code",
      "metadata": {
        "id": "Mb_w1yWHSuGJ",
        "outputId": "e0e0766c-17e1-42ee-830a-a0f2c9e0a2ce",
        "colab": {
          "base_uri": "https://localhost:8080/",
          "height": 762
        }
      },
      "source": [
        "while True:\n",
        "  ques = input(\"Question : \")\n",
        "\n",
        "  inp = '[YOU] : '+ques+'\\n'+'[BOT] :'\n",
        "\n",
        "  x = gpt2.generate(sess,\n",
        "                length=20,\n",
        "                temperature = 0.6,\n",
        "                include_prefix=False,\n",
        "                prefix=inp,\n",
        "                nsamples=1,\n",
        "                return_as_list=True)[0]\n",
        "  print(x)"
      ],
      "execution_count": null,
      "outputs": [
        {
          "output_type": "stream",
          "text": [
            "Question : how old are you?\n",
            "[YOU] : how old are you?\n",
            "[BOT] : I'm not a good person.\n",
            "[YOU] : I'm not a good person.\n",
            "\n",
            "Question : why you talk nonsense\n",
            "[YOU] : why you talk nonsense\n",
            "[BOT] : I am a student, and I am a student.\n",
            "[YOU] : I am a student\n",
            "Question : why you are a student\n",
            "[YOU] : why you are a student\n",
            "[BOT] : I am a student, but my parents are not very religious\n",
            "[YOU] : I am a\n"
          ],
          "name": "stdout"
        },
        {
          "output_type": "error",
          "ename": "KeyboardInterrupt",
          "evalue": "ignored",
          "traceback": [
            "\u001b[0;31m---------------------------------------------------------------------------\u001b[0m",
            "\u001b[0;31mKeyboardInterrupt\u001b[0m                         Traceback (most recent call last)",
            "\u001b[0;32m/usr/local/lib/python3.6/dist-packages/ipykernel/kernelbase.py\u001b[0m in \u001b[0;36m_input_request\u001b[0;34m(self, prompt, ident, parent, password)\u001b[0m\n\u001b[1;32m    728\u001b[0m             \u001b[0;32mtry\u001b[0m\u001b[0;34m:\u001b[0m\u001b[0;34m\u001b[0m\u001b[0;34m\u001b[0m\u001b[0m\n\u001b[0;32m--> 729\u001b[0;31m                 \u001b[0mident\u001b[0m\u001b[0;34m,\u001b[0m \u001b[0mreply\u001b[0m \u001b[0;34m=\u001b[0m \u001b[0mself\u001b[0m\u001b[0;34m.\u001b[0m\u001b[0msession\u001b[0m\u001b[0;34m.\u001b[0m\u001b[0mrecv\u001b[0m\u001b[0;34m(\u001b[0m\u001b[0mself\u001b[0m\u001b[0;34m.\u001b[0m\u001b[0mstdin_socket\u001b[0m\u001b[0;34m,\u001b[0m \u001b[0;36m0\u001b[0m\u001b[0;34m)\u001b[0m\u001b[0;34m\u001b[0m\u001b[0;34m\u001b[0m\u001b[0m\n\u001b[0m\u001b[1;32m    730\u001b[0m             \u001b[0;32mexcept\u001b[0m \u001b[0mException\u001b[0m\u001b[0;34m:\u001b[0m\u001b[0;34m\u001b[0m\u001b[0;34m\u001b[0m\u001b[0m\n",
            "\u001b[0;32m/usr/local/lib/python3.6/dist-packages/jupyter_client/session.py\u001b[0m in \u001b[0;36mrecv\u001b[0;34m(self, socket, mode, content, copy)\u001b[0m\n\u001b[1;32m    802\u001b[0m         \u001b[0;32mtry\u001b[0m\u001b[0;34m:\u001b[0m\u001b[0;34m\u001b[0m\u001b[0;34m\u001b[0m\u001b[0m\n\u001b[0;32m--> 803\u001b[0;31m             \u001b[0mmsg_list\u001b[0m \u001b[0;34m=\u001b[0m \u001b[0msocket\u001b[0m\u001b[0;34m.\u001b[0m\u001b[0mrecv_multipart\u001b[0m\u001b[0;34m(\u001b[0m\u001b[0mmode\u001b[0m\u001b[0;34m,\u001b[0m \u001b[0mcopy\u001b[0m\u001b[0;34m=\u001b[0m\u001b[0mcopy\u001b[0m\u001b[0;34m)\u001b[0m\u001b[0;34m\u001b[0m\u001b[0;34m\u001b[0m\u001b[0m\n\u001b[0m\u001b[1;32m    804\u001b[0m         \u001b[0;32mexcept\u001b[0m \u001b[0mzmq\u001b[0m\u001b[0;34m.\u001b[0m\u001b[0mZMQError\u001b[0m \u001b[0;32mas\u001b[0m \u001b[0me\u001b[0m\u001b[0;34m:\u001b[0m\u001b[0;34m\u001b[0m\u001b[0;34m\u001b[0m\u001b[0m\n",
            "\u001b[0;32m/usr/local/lib/python3.6/dist-packages/zmq/sugar/socket.py\u001b[0m in \u001b[0;36mrecv_multipart\u001b[0;34m(self, flags, copy, track)\u001b[0m\n\u001b[1;32m    490\u001b[0m         \"\"\"\n\u001b[0;32m--> 491\u001b[0;31m         \u001b[0mparts\u001b[0m \u001b[0;34m=\u001b[0m \u001b[0;34m[\u001b[0m\u001b[0mself\u001b[0m\u001b[0;34m.\u001b[0m\u001b[0mrecv\u001b[0m\u001b[0;34m(\u001b[0m\u001b[0mflags\u001b[0m\u001b[0;34m,\u001b[0m \u001b[0mcopy\u001b[0m\u001b[0;34m=\u001b[0m\u001b[0mcopy\u001b[0m\u001b[0;34m,\u001b[0m \u001b[0mtrack\u001b[0m\u001b[0;34m=\u001b[0m\u001b[0mtrack\u001b[0m\u001b[0;34m)\u001b[0m\u001b[0;34m]\u001b[0m\u001b[0;34m\u001b[0m\u001b[0;34m\u001b[0m\u001b[0m\n\u001b[0m\u001b[1;32m    492\u001b[0m         \u001b[0;31m# have first part already, only loop while more to receive\u001b[0m\u001b[0;34m\u001b[0m\u001b[0;34m\u001b[0m\u001b[0;34m\u001b[0m\u001b[0m\n",
            "\u001b[0;32mzmq/backend/cython/socket.pyx\u001b[0m in \u001b[0;36mzmq.backend.cython.socket.Socket.recv\u001b[0;34m()\u001b[0m\n",
            "\u001b[0;32mzmq/backend/cython/socket.pyx\u001b[0m in \u001b[0;36mzmq.backend.cython.socket.Socket.recv\u001b[0;34m()\u001b[0m\n",
            "\u001b[0;32mzmq/backend/cython/socket.pyx\u001b[0m in \u001b[0;36mzmq.backend.cython.socket._recv_copy\u001b[0;34m()\u001b[0m\n",
            "\u001b[0;32m/usr/local/lib/python3.6/dist-packages/zmq/backend/cython/checkrc.pxd\u001b[0m in \u001b[0;36mzmq.backend.cython.checkrc._check_rc\u001b[0;34m()\u001b[0m\n",
            "\u001b[0;31mKeyboardInterrupt\u001b[0m: ",
            "\nDuring handling of the above exception, another exception occurred:\n",
            "\u001b[0;31mKeyboardInterrupt\u001b[0m                         Traceback (most recent call last)",
            "\u001b[0;32m<ipython-input-11-034bbab8c27f>\u001b[0m in \u001b[0;36m<module>\u001b[0;34m()\u001b[0m\n\u001b[1;32m      1\u001b[0m \u001b[0;32mwhile\u001b[0m \u001b[0;32mTrue\u001b[0m\u001b[0;34m:\u001b[0m\u001b[0;34m\u001b[0m\u001b[0;34m\u001b[0m\u001b[0m\n\u001b[0;32m----> 2\u001b[0;31m   \u001b[0mques\u001b[0m \u001b[0;34m=\u001b[0m \u001b[0minput\u001b[0m\u001b[0;34m(\u001b[0m\u001b[0;34m\"Question : \"\u001b[0m\u001b[0;34m)\u001b[0m\u001b[0;34m\u001b[0m\u001b[0;34m\u001b[0m\u001b[0m\n\u001b[0m\u001b[1;32m      3\u001b[0m \u001b[0;34m\u001b[0m\u001b[0m\n\u001b[1;32m      4\u001b[0m   \u001b[0minp\u001b[0m \u001b[0;34m=\u001b[0m \u001b[0;34m'[YOU] : '\u001b[0m\u001b[0;34m+\u001b[0m\u001b[0mques\u001b[0m\u001b[0;34m+\u001b[0m\u001b[0;34m'\\n'\u001b[0m\u001b[0;34m+\u001b[0m\u001b[0;34m'[BOT] :'\u001b[0m\u001b[0;34m\u001b[0m\u001b[0;34m\u001b[0m\u001b[0m\n\u001b[1;32m      5\u001b[0m \u001b[0;34m\u001b[0m\u001b[0m\n",
            "\u001b[0;32m/usr/local/lib/python3.6/dist-packages/ipykernel/kernelbase.py\u001b[0m in \u001b[0;36mraw_input\u001b[0;34m(self, prompt)\u001b[0m\n\u001b[1;32m    702\u001b[0m             \u001b[0mself\u001b[0m\u001b[0;34m.\u001b[0m\u001b[0m_parent_ident\u001b[0m\u001b[0;34m,\u001b[0m\u001b[0;34m\u001b[0m\u001b[0;34m\u001b[0m\u001b[0m\n\u001b[1;32m    703\u001b[0m             \u001b[0mself\u001b[0m\u001b[0;34m.\u001b[0m\u001b[0m_parent_header\u001b[0m\u001b[0;34m,\u001b[0m\u001b[0;34m\u001b[0m\u001b[0;34m\u001b[0m\u001b[0m\n\u001b[0;32m--> 704\u001b[0;31m             \u001b[0mpassword\u001b[0m\u001b[0;34m=\u001b[0m\u001b[0;32mFalse\u001b[0m\u001b[0;34m,\u001b[0m\u001b[0;34m\u001b[0m\u001b[0;34m\u001b[0m\u001b[0m\n\u001b[0m\u001b[1;32m    705\u001b[0m         )\n\u001b[1;32m    706\u001b[0m \u001b[0;34m\u001b[0m\u001b[0m\n",
            "\u001b[0;32m/usr/local/lib/python3.6/dist-packages/ipykernel/kernelbase.py\u001b[0m in \u001b[0;36m_input_request\u001b[0;34m(self, prompt, ident, parent, password)\u001b[0m\n\u001b[1;32m    732\u001b[0m             \u001b[0;32mexcept\u001b[0m \u001b[0mKeyboardInterrupt\u001b[0m\u001b[0;34m:\u001b[0m\u001b[0;34m\u001b[0m\u001b[0;34m\u001b[0m\u001b[0m\n\u001b[1;32m    733\u001b[0m                 \u001b[0;31m# re-raise KeyboardInterrupt, to truncate traceback\u001b[0m\u001b[0;34m\u001b[0m\u001b[0;34m\u001b[0m\u001b[0;34m\u001b[0m\u001b[0m\n\u001b[0;32m--> 734\u001b[0;31m                 \u001b[0;32mraise\u001b[0m \u001b[0mKeyboardInterrupt\u001b[0m\u001b[0;34m\u001b[0m\u001b[0;34m\u001b[0m\u001b[0m\n\u001b[0m\u001b[1;32m    735\u001b[0m             \u001b[0;32melse\u001b[0m\u001b[0;34m:\u001b[0m\u001b[0;34m\u001b[0m\u001b[0;34m\u001b[0m\u001b[0m\n\u001b[1;32m    736\u001b[0m                 \u001b[0;32mbreak\u001b[0m\u001b[0;34m\u001b[0m\u001b[0;34m\u001b[0m\u001b[0m\n",
            "\u001b[0;31mKeyboardInterrupt\u001b[0m: "
          ]
        }
      ]
    },
    {
      "cell_type": "code",
      "metadata": {
        "id": "7VPDm4y-8AOR"
      },
      "source": [
        ""
      ],
      "execution_count": null,
      "outputs": []
    }
  ]
}