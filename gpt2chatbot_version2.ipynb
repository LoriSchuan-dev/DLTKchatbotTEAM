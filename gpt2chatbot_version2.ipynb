{
  "nbformat": 4,
  "nbformat_minor": 0,
  "metadata": {
    "colab": {
      "name": "gpt2chatbot_version2.ipynb",
      "provenance": [],
      "collapsed_sections": [],
      "toc_visible": true,
      "include_colab_link": true
    },
    "kernelspec": {
      "name": "python3",
      "display_name": "Python 3"
    },
    "accelerator": "GPU"
  },
  "cells": [
    {
      "cell_type": "markdown",
      "metadata": {
        "id": "view-in-github",
        "colab_type": "text"
      },
      "source": [
        "<a href=\"https://colab.research.google.com/github/LoriSchuan-dev/DLTKchatbotTEAM/blob/main/gpt2chatbot_version2.ipynb\" target=\"_parent\"><img src=\"https://colab.research.google.com/assets/colab-badge.svg\" alt=\"Open In Colab\"/></a>"
      ]
    },
    {
      "cell_type": "markdown",
      "metadata": {
        "id": "xWcBt-RTsrlF"
      },
      "source": [
        "Dataset: \n",
        "@inproceedings{ min2020ambigqa,\n",
        "    title={ {A}mbig{QA}: Answering Ambiguous Open-domain Questions },\n",
        "    author={ Min, Sewon and Michael, Julian and Hajishirzi, Hannaneh and Zettlemoyer, Luke },\n",
        "    booktitle={ EMNLP },\n",
        "    year={2020}\n",
        "}"
      ]
    },
    {
      "cell_type": "code",
      "metadata": {
        "id": "sUmTooTW3osf",
        "outputId": "f5df7080-2c08-465b-b52c-0abeda2a30e3",
        "colab": {
          "base_uri": "https://localhost:8080/"
        }
      },
      "source": [
        "!nvidia-smi"
      ],
      "execution_count": 1,
      "outputs": [
        {
          "output_type": "stream",
          "text": [
            "Sun Nov 15 20:42:05 2020       \n",
            "+-----------------------------------------------------------------------------+\n",
            "| NVIDIA-SMI 455.32.00    Driver Version: 418.67       CUDA Version: 10.1     |\n",
            "|-------------------------------+----------------------+----------------------+\n",
            "| GPU  Name        Persistence-M| Bus-Id        Disp.A | Volatile Uncorr. ECC |\n",
            "| Fan  Temp  Perf  Pwr:Usage/Cap|         Memory-Usage | GPU-Util  Compute M. |\n",
            "|                               |                      |               MIG M. |\n",
            "|===============================+======================+======================|\n",
            "|   0  Tesla T4            Off  | 00000000:00:04.0 Off |                    0 |\n",
            "| N/A   65C    P8    11W /  70W |      0MiB / 15079MiB |      0%      Default |\n",
            "|                               |                      |                 ERR! |\n",
            "+-------------------------------+----------------------+----------------------+\n",
            "                                                                               \n",
            "+-----------------------------------------------------------------------------+\n",
            "| Processes:                                                                  |\n",
            "|  GPU   GI   CI        PID   Type   Process name                  GPU Memory |\n",
            "|        ID   ID                                                   Usage      |\n",
            "|=============================================================================|\n",
            "|  No running processes found                                                 |\n",
            "+-----------------------------------------------------------------------------+\n"
          ],
          "name": "stdout"
        }
      ]
    },
    {
      "cell_type": "code",
      "metadata": {
        "id": "5He2U6op5X0Y",
        "outputId": "8355c7b6-f372-4dc1-ad71-ccdfa8a4429c",
        "colab": {
          "base_uri": "https://localhost:8080/"
        }
      },
      "source": [
        "%tensorflow_version 1.x\n",
        "!pip install gpt-2-simple\n",
        "import gpt_2_simple as gpt2"
      ],
      "execution_count": 2,
      "outputs": [
        {
          "output_type": "stream",
          "text": [
            "TensorFlow 1.x selected.\n",
            "Requirement already satisfied: gpt-2-simple in /usr/local/lib/python3.6/dist-packages (0.7.1)\n",
            "Requirement already satisfied: tqdm in /usr/local/lib/python3.6/dist-packages (from gpt-2-simple) (4.41.1)\n",
            "Requirement already satisfied: numpy in /usr/local/lib/python3.6/dist-packages (from gpt-2-simple) (1.18.5)\n",
            "Requirement already satisfied: regex in /usr/local/lib/python3.6/dist-packages (from gpt-2-simple) (2019.12.20)\n",
            "Requirement already satisfied: requests in /usr/local/lib/python3.6/dist-packages (from gpt-2-simple) (2.23.0)\n",
            "Requirement already satisfied: toposort in /usr/local/lib/python3.6/dist-packages (from gpt-2-simple) (1.5)\n",
            "Requirement already satisfied: chardet<4,>=3.0.2 in /usr/local/lib/python3.6/dist-packages (from requests->gpt-2-simple) (3.0.4)\n",
            "Requirement already satisfied: idna<3,>=2.5 in /usr/local/lib/python3.6/dist-packages (from requests->gpt-2-simple) (2.10)\n",
            "Requirement already satisfied: urllib3!=1.25.0,!=1.25.1,<1.26,>=1.21.1 in /usr/local/lib/python3.6/dist-packages (from requests->gpt-2-simple) (1.24.3)\n",
            "Requirement already satisfied: certifi>=2017.4.17 in /usr/local/lib/python3.6/dist-packages (from requests->gpt-2-simple) (2020.6.20)\n",
            "WARNING:tensorflow:\n",
            "The TensorFlow contrib module will not be included in TensorFlow 2.0.\n",
            "For more information, please see:\n",
            "  * https://github.com/tensorflow/community/blob/master/rfcs/20180907-contrib-sunset.md\n",
            "  * https://github.com/tensorflow/addons\n",
            "  * https://github.com/tensorflow/io (for I/O related ops)\n",
            "If you depend on functionality not listed there, please file an issue.\n",
            "\n"
          ],
          "name": "stdout"
        }
      ]
    },
    {
      "cell_type": "code",
      "metadata": {
        "id": "Cylvw0jt6zR6",
        "outputId": "6b99c55b-c0dc-4288-90cc-8a716d199464",
        "colab": {
          "base_uri": "https://localhost:8080/"
        }
      },
      "source": [
        "gpt2.download_gpt2(model_name=\"355M\")"
      ],
      "execution_count": 3,
      "outputs": [
        {
          "output_type": "stream",
          "text": [
            "Fetching checkpoint: 1.05Mit [00:00, 508Mit/s]                                                      \n",
            "Fetching encoder.json: 1.05Mit [00:00, 129Mit/s]                                                    \n",
            "Fetching hparams.json: 1.05Mit [00:00, 286Mit/s]                                                    \n",
            "Fetching model.ckpt.data-00000-of-00001: 1.42Git [00:05, 261Mit/s]                                  \n",
            "Fetching model.ckpt.index: 1.05Mit [00:00, 328Mit/s]                                                \n",
            "Fetching model.ckpt.meta: 1.05Mit [00:00, 136Mit/s]                                                 \n",
            "Fetching vocab.bpe: 1.05Mit [00:00, 176Mit/s]                                                       \n"
          ],
          "name": "stderr"
        }
      ]
    },
    {
      "cell_type": "markdown",
      "metadata": {
        "id": "_3BxNTxpR1ty"
      },
      "source": [
        "There are three released sizes of GPT-2:\n",
        "\n",
        "**124M** (default): the \"small\" model, 500MB on disk.\n",
        "\n",
        "**355M**: the \"medium\" model, 1.5GB on disk.\n",
        "\n",
        "**774M**: the \"large\" model, cannot currently be finetuned with Colaboratory but can be used to generate text from the pretrained model (see later in Notebook)\n",
        "\n",
        "**1558M**: the \"extra large\", true model. Will not work if a K80 GPU is attached to the notebook."
      ]
    },
    {
      "cell_type": "code",
      "metadata": {
        "id": "9H7dSkVzjM3g",
        "outputId": "9fa14dd5-f62f-42c5-9c6a-10ad426127b9",
        "colab": {
          "base_uri": "https://localhost:8080/"
        }
      },
      "source": [
        "from google.colab import drive\n",
        "drive.mount('/content/drive',force_remount=True)"
      ],
      "execution_count": 4,
      "outputs": [
        {
          "output_type": "stream",
          "text": [
            "Mounted at /content/drive\n"
          ],
          "name": "stdout"
        }
      ]
    },
    {
      "cell_type": "markdown",
      "metadata": {
        "id": "l_F-NK3jSmpN"
      },
      "source": [
        "Mounting Google Drive and get authentication code(copy and paste in the blank)\n",
        "find your dataset file and copy the path link to paste to raw_data"
      ]
    },
    {
      "cell_type": "code",
      "metadata": {
        "id": "qWmZ0ryw63ls"
      },
      "source": [
        "raw_data = '/content/drive/My Drive/train_light.json'"
      ],
      "execution_count": 5,
      "outputs": []
    },
    {
      "cell_type": "markdown",
      "metadata": {
        "id": "RHMSUPTrYzte"
      },
      "source": [
        "if your dataset is a json file, change the link"
      ]
    },
    {
      "cell_type": "code",
      "metadata": {
        "id": "WHyj5LIZqb3e"
      },
      "source": [
        "import json\n",
        "\n",
        "with open(raw_data, 'r') as f:\n",
        "    df =json.load(f)\n",
        "\n",
        "\n",
        "\n",
        "        "
      ],
      "execution_count": 6,
      "outputs": []
    },
    {
      "cell_type": "markdown",
      "metadata": {
        "id": "L6e5Y4C4TXtJ"
      },
      "source": [
        "if your dataset file is a json file, then use it to read the file"
      ]
    },
    {
      "cell_type": "markdown",
      "metadata": {
        "id": "zNriJV4uTePZ"
      },
      "source": [
        "this data file [] , is only for data.json dataset"
      ]
    },
    {
      "cell_type": "code",
      "metadata": {
        "id": "pb-eGEoGS1i9"
      },
      "source": [
        "#import os\n",
        "#os.kill(os.getpid(), 9)"
      ],
      "execution_count": null,
      "outputs": []
    },
    {
      "cell_type": "markdown",
      "metadata": {
        "id": "SSxQ6k95S6XQ"
      },
      "source": [
        "if you want to kill the previous session, uncomment the code"
      ]
    },
    {
      "cell_type": "code",
      "metadata": {
        "id": "wGHxqXIwY4oB"
      },
      "source": [
        "sess = gpt2.start_tf_sess()"
      ],
      "execution_count": 7,
      "outputs": []
    },
    {
      "cell_type": "code",
      "metadata": {
        "id": "0E_glPRcjdQk"
      },
      "source": [
        "file_name=\"/content/drive/My Drive/train_light.json\""
      ],
      "execution_count": 9,
      "outputs": []
    },
    {
      "cell_type": "code",
      "metadata": {
        "id": "QuZzjdWt6555",
        "outputId": "f4eb0b1f-6af4-4348-ea5c-598905683baf",
        "colab": {
          "base_uri": "https://localhost:8080/"
        }
      },
      "source": [
        "\n",
        "gpt2.finetune(sess,\n",
        "              dataset=file_name,\n",
        "              model_name='355M',\n",
        "              steps=500,\n",
        "              restore_from='fresh',\n",
        "              run_name='run2',\n",
        "              print_every=10,\n",
        "              sample_every=100,\n",
        "              save_every=100\n",
        "              )"
      ],
      "execution_count": 10,
      "outputs": [
        {
          "output_type": "stream",
          "text": [
            "WARNING:tensorflow:From /usr/local/lib/python3.6/dist-packages/gpt_2_simple/src/sample.py:17: where (from tensorflow.python.ops.array_ops) is deprecated and will be removed in a future version.\n",
            "Instructions for updating:\n",
            "Use tf.where in 2.0, which has the same broadcast rule as np.where\n",
            "WARNING:tensorflow:From /usr/local/lib/python3.6/dist-packages/gpt_2_simple/src/memory_saving_gradients.py:62: get_backward_walk_ops (from tensorflow.contrib.graph_editor.select) is deprecated and will be removed after 2019-06-06.\n",
            "Instructions for updating:\n",
            "Please use tensorflow.python.ops.op_selector.get_backward_walk_ops.\n",
            "Loading checkpoint models/355M/model.ckpt\n",
            "INFO:tensorflow:Restoring parameters from models/355M/model.ckpt\n"
          ],
          "name": "stdout"
        },
        {
          "output_type": "stream",
          "text": [
            "\r  0%|          | 0/1 [00:00<?, ?it/s]"
          ],
          "name": "stderr"
        },
        {
          "output_type": "stream",
          "text": [
            "Loading dataset...\n"
          ],
          "name": "stdout"
        },
        {
          "output_type": "stream",
          "text": [
            "100%|██████████| 1/1 [00:05<00:00,  5.42s/it]\n"
          ],
          "name": "stderr"
        },
        {
          "output_type": "stream",
          "text": [
            "dataset has 985641 tokens\n",
            "Training...\n",
            "[10 | 23.13] loss=1.77 avg=1.77\n",
            "[20 | 39.19] loss=1.55 avg=1.66\n",
            "[30 | 55.61] loss=1.36 avg=1.56\n",
            "[40 | 72.56] loss=1.77 avg=1.61\n",
            "[50 | 89.56] loss=1.43 avg=1.57\n",
            "[60 | 106.16] loss=1.65 avg=1.59\n",
            "[70 | 122.59] loss=1.43 avg=1.56\n",
            "[80 | 139.11] loss=1.41 avg=1.54\n",
            "[90 | 155.78] loss=1.59 avg=1.55\n",
            "[100 | 172.46] loss=1.80 avg=1.57\n",
            "Saving checkpoint/run2/model-100\n",
            "======== SAMPLE 1 ========\n",
            " data [\"0.4\"]}], \"id\": \"5476578477823895521\", \"question\": \"When did the world's oldest house was restored to its former glory?\"}, {\"annotations\": [{\"type\": \"singleAnswer\", \"answer\": [\"D.J.\"], \"qaPairs\": [{\"question\": \"When was the show in the movie The Lego Video Game made?\", \"answer\": [\"August 11, 2017\"]}, {\"question\": \"What is the name of the country in the movie The Lego Video Game?\", \"answer\": [\"Djibouti\"]}, {\"question\": \"What is the name of the country in the show it's just going to be a game?\", \"answer\": [\"United States\"]}, {\"question\": \"What year did the show in the movie The Lego Video Game filmed?\", \"answer\": [\"2001\"]}, {\"question\": \"What year did the show in the movie The Lego Video Game come out?\", \"answer\": [\"June 10, 2018\"]}], \"id\": \"-31984520482339096\", \"question\": \"When was the show and the game made in the movies?\"}, {\"annotations\": [{\"type\": \"singleAnswer\", \"answer\": [\"Cher\"]}], \"id\": \"-141455492848251769\", \"question\": \"Who plays the woman in the movie of your life?\"}, {\"annotations\": [{\"type\": \"singleAnswer\", \"answer\": [\"The Golden Rule\"], \"id\": \"257814384939363472\", \"question\": \"How does the golden rule relate to the religious laws of the ancient Greek states?\"}, {\"annotations\": [{\"type\": \"multipleQAs\", \"qaPairs\": [{\"question\": \"When is the story of the game of thrones filmed?\", \"answer\": [\"November 23, 2011\"]}, {\"question\": \"When is the story of the game of thrones animated?\", \"answer\": [\"November 23, 2011\"]}, {\"question\": \"When is the story of the game of thrones in the US?\", \"answer\": [\"October 7, 2014\"]}, {\"question\": \"When is the game of thrones animated in the UK?\", \"answer\": [\"October 27, 2015\"]}], \"id\": \"-242464985837246471\", \"question\": \"When is the game of thrones filmed?\"}, {\"annotations\": [{\"type\": \"multipleQAs\", \"qaPairs\": [{\"question\": \"When did the story of the game of thrones come out with all the characters mentioned?\", \"answer\": [\"late July 2015\"]}, {\"question\": \"When was the story of the game of thrones released?\", \"answer\": [\"April 17, 2016\"]}, {\"question\": \"When did the game of thrones come with the characters mentioned in the show?\", \"answer\": [\"June 16, 2017\"]}], \"id\": \"-484540297516782655\", \"question\": \"When was the story of the game of thrones tv show made?\"}, {\"annotations\": [{\"type\": \"multipleQAs\", \"qaPairs\": [{\"question\": \"What is the first name of the character who voices Astrid?\", \"answer\": [\"Faye\", \"The Strac\", \"the Strac\", \"Faye Strac\"]}, {\"question\": \"What is the name of the actress who is the voice of the character who is called Astrid in the main show?\", \"answer\": [\"Charlotte Jost\"]}, {\"question\": \"What is the name of the woman who is the voice of the character who is called astrid in the main show?\", \"answer\": [\"Eileen\"]}, {\"question\": \"What is the name of the woman who is the voice of the character who is called Astrid in the animated film?\", \"answer\": [\"Charlotte Jost\"]}], \"id\": \"53955373436781827\", \"question\": \"What is the name of the character who is called astrid?\"}, {\"annotations\": [{\"type\": \"singleAnswer\", \"answer\": [\"Dedric Ackermann\", \"Affe\"]}], \"id\": \"-552455454855359833\", \"question\": \"Who did the first ever album cover of rockin music called?\", \"answer\": [\"Bert\"]}], \"id\": \"-583387602834176544\", \"question\": \"Who did the first ever cover of rockin music?\"}, {\"annotations\": [{\"type\": \"singleAnswer\", \"answer\": [\"The Great Comet of 1812\"]}], \"id\": \"9396825558823751578\", \"question\": \"What book does michael wray have a picture of with clouds.\"}, {\"annotations\": [{\"type\": \"singleAnswer\",\n",
            "\n",
            "[110 | 221.03] loss=1.57 avg=1.57\n",
            "[120 | 237.78] loss=1.64 avg=1.58\n",
            "[130 | 254.48] loss=1.40 avg=1.57\n",
            "[140 | 271.23] loss=1.41 avg=1.55\n",
            "[150 | 288.06] loss=1.54 avg=1.55\n",
            "[160 | 304.92] loss=1.51 avg=1.55\n",
            "[170 | 321.74] loss=1.44 avg=1.54\n",
            "[180 | 338.48] loss=1.59 avg=1.55\n",
            "[190 | 355.25] loss=1.44 avg=1.54\n",
            "[200 | 372.00] loss=1.64 avg=1.54\n",
            "Saving checkpoint/run2/model-200\n",
            "WARNING:tensorflow:From /tensorflow-1.15.2/python3.6/tensorflow_core/python/training/saver.py:963: remove_checkpoint (from tensorflow.python.training.checkpoint_management) is deprecated and will be removed in a future version.\n",
            "Instructions for updating:\n",
            "Use standard file APIs to delete files with this prefix.\n",
            "======== SAMPLE 1 ========\n",
            "\", \"Aquarius\"]}], \"id\": \"-5471366276875872681\", \"question\": \"Where is the middle of the sun?\"}, {\"annotations\": [{\"type\": \"multipleQAs\", \"qaPairs\": [{\"question\": \"Who were the members of the cast of the 1974 film the good, the bad, and the ugly?\", \"answer\": [\"Peter Sarstedine\"]}, {\"question\": \"Who were the members of the 2007 film the good, the bad, and the ugly?\", \"answer\": [\"Matt Dillon, Mark Ruffalo, and Matt Grogan\"]}]}], \"id\": \"-412913383786452048\", \"question\": \"Who are the actors that are in the bad the ugly?\"}, {\"annotations\": [{\"type\": \"singleAnswer\", \"answer\": [\"Barry Bonds\"]}], \"id\": \"-417836242468657937\", \"question\": \"Who is the man in charge of the all-star game?\"}, {\"annotations\": [{\"type\": \"singleAnswer\", \"answer\": [\"Killer Queen\"]}], \"id\": \"681748696527251237\", \"question\": \"Who is the first movie to star as the voice of mister monica?\"}, {\"annotations\": [{\"type\": \"multipleQAs\", \"qaPairs\": [{\"question\": \"Which city in australia has a population of over 500,000?\", \"answer\": [\"Tasmania\"]}, {\"question\": \"Where in australia has a population of over 3 million?\", \"answer\": [\"Pascoe\"]}]}], \"id\": \"786869396945777938\", \"question\": \"Where in australia has a population of over 3 million?\"}, {\"annotations\": [{\"type\": \"multipleQAs\", \"qaPairs\": [{\"question\": \"How many members of the Australian Parliament are there?\", \"answer\": [\"17\"]}, {\"question\": \"How many members of the Australian Parliament are there and how many are present?\", \"answer\": [\"12\"]}, {\"question\": \"How many members of the Australian Parliamentary Standing Committee with legislative authority are there?\", \"answer\": [\"12\"]}]}], \"id\": \"484870952759057627\", \"question\": \"How many members of the aus parliament are there?\"}, {\"annotations\": [{\"type\": \"multipleQAs\", \"qaPairs\": [{\"question\": \"Where have been some of the names of the man who is leading the attack on the town of cinco de mio?\", \"answer\": [\"La Aurora\", \"La Aurora and the Tijuana Tunnel\"]}, {\"question\": \"Where is the main street of the town of cinco de mio located?\", \"answer\": [\"La Aurora\", \"La Aurora\"]}, {\"question\": \"Where is the main street of the village of cinco de mio located?\", \"answer\": [\"La Aurora, the Town Of Cinco de Mio and the Tijuana Tunnel\"]}, {\"question\": \"In what town of cinco de mio is the main street of the town of cinco de mio the Tijuana Tunnel?\", \"answer\": [\"Cinco de mio\", \"Cinco de Mio\"]}]}], \"id\": \"7728482779098385765\", \"question\": \"Where the main street of cinco de mio is located?\"}, {\"annotations\": [{\"type\": \"multipleQAs\", \"qaPairs\": [{\"question\": \"Why does the czech Republic have a capital in czech?\", \"answer\": [\"czech national anthem\"]}, {\"question\": \"Can the czech national anthem be played in english?\", \"answer\": [\"No\"]}]}], \"id\": \"-387860983645796875\", \"question\": \"What does the czech national anthem have in common with czech?\"}, {\"annotations\": [{\"type\": \"multipleQAs\", \"qaPairs\": [{\"question\": \"What is the name of the girl who won the second episode of House of Lies?\", \"answer\": [\"Candy Heart\"]}, {\"question\": \"What is the name of the girl who won the second episode of House of Lies the first season?\", \"answer\": [\"Dorothy M. Sorenson\"]}]}], \"id\": \"-3768673635674747881\", \"question\": \"Who won the second episode of house of lies?\"}, {\"annotations\": [{\"type\": \"multipleQAs\", \"qaPairs\": [{\"question\": \"Who wrote it's a long day at the office?\", \"answer\": [\"John Barrowman\"]}, {\"question\": \"Who wrote the song it's a long day at the office?\", \"answer\": [\"T\n",
            "\n",
            "[210 | 418.31] loss=1.58 avg=1.55\n",
            "[220 | 435.07] loss=1.72 avg=1.56\n",
            "[230 | 451.74] loss=1.51 avg=1.55\n",
            "[240 | 468.54] loss=1.75 avg=1.56\n",
            "[250 | 485.40] loss=1.48 avg=1.56\n",
            "[260 | 502.20] loss=1.64 avg=1.56\n",
            "[270 | 518.96] loss=1.70 avg=1.57\n",
            "[280 | 535.71] loss=1.53 avg=1.57\n",
            "[290 | 552.44] loss=1.68 avg=1.57\n",
            "[300 | 569.18] loss=1.45 avg=1.57\n",
            "Saving checkpoint/run2/model-300\n",
            "======== SAMPLE 1 ========\n",
            "Asations with their hands raised above their heads, as in the movie The Battle of New Orleans?\", \"answer\": [\"T'Chaka\", \"T'Chaka\", \"T'Chaka\"]}], \"id\": \"-27354870252367302701\", \"question\": \"When did the storm in new orleans happen?\"}, {\"annotations\": [{\"type\": \"multipleQAs\", \"qaPairs\": [{\"question\": \"Where did the first episode of season 3 of american horror story air?\", \"answer\": [\"The American Horror Story: Hotel\", \"the New York Theatre\", \"The New Orleans Film Theatre\"]}, {\"question\": \"Where was the first episode of season 4 of american horror story air?\", \"answer\": [\"The American Horror Story: Hotel\"]}, {\"question\": \"Where was the first episode of season 5 of american horror story air?\", \"answer\": [\"AHS: Hotel\"]}]}], \"id\": \"-22867520687865693466\", \"question\": \"Where was the first episode of american horror story air?\"}, {\"annotations\": [{\"type\": \"singleAnswer\", \"answer\": [\"Dolores de la Cruz\", \"Cable, Dolores\")}], \"id\": \"39186938336433790813\", \"question\": \"The character who lost love with a teacher?\"}, {\"annotations\": [{\"type\": \"multipleQAs\", \"qaPairs\": [{\"question\": \"Who won the 2017 american horror story film, The Big Chill?\", \"answer\": [\"Shelby Bradshaw\", \"Shelby\"]}, {\"question\": \"Where did the 2016 american horror story film, The Big Chill?\", \"answer\": [\"Vancouver, Canada\"]}, {\"question\": \"Where were the 2016 american horror story movie, The Big Chill produced?\", \"answer\": [\"Lincoln Memorial in Lincoln Center, New York\"]}, {\"question\": \"Where was the 2016 american horror story movie, The Big Chill filmed?\", \"answer\": [\"Gastown\"]}]}], \"id\": \"45662865794800581513\", \"question\": \"Where did the movies american horror story and big chill?\"}, {\"annotations\": [{\"type\": \"singleAnswer\", \"answer\": [\"March 3, 2017\", \"March 3, 2017\"]}], \"id\": \"92350290747490783865\", \"question\": \"When does the new season of the the mega monday rainforest start?\"}, {\"annotations\": [{\"type\": \"multipleQAs\", \"qaPairs\": [{\"question\": \"Where were first several movies in the american horror story filmed?\", \"answer\": [\"New York, New Jersey\"]}, {\"question\": \"Where were most of the films in the american horror story filmed?\", \"answer\": [\"New York, New Jersey\"]}, {\"question\": \"Where were most of the films in the american horror story in 2017?\", \"answer\": [\"London\"]}]}], \"id\": \"-504710351368271409\", \"question\": \"Where were most of the films in the american horror story?\"}, {\"annotations\": [{\"type\": \"singleAnswer\", \"answer\": [\"March 3, 2017\"]}], \"id\": \"-234565404412292407742\", \"question\": \"When did the american horror story movie come out?\"}, {\"annotations\": [{\"type\": \"singleAnswer\", \"answer\": [\"March 31, 2017\"]}], \"id\": \"-7241369487749552428\", \"question\": \"When did the first american horror story come out?\"}, {\"annotations\": [{\"type\": \"singleAnswer\", \"answer\": [\"March 4\"]}], \"id\": \"-5276826770026386800\", \"question\": \"When was the last time a danish team won a cs lee tournament?\"}, {\"annotations\": [{\"type\": \"singleAnswer\", \"answer\": [\"1891\"]}], \"id\": \"92618772949697789\", \"question\": \"When was the first car built without a front brake?\"}, {\"annotations\": [{\"type\": \"singleAnswer\", \"answer\": [\"Theatrical Stage\"]}], \"id\": \"493837147739485815\", \"question\": \"What stage did the original uk sing in?\"}, {\"annotations\": [{\"type\": \"singleAnswer\", \"answer\": [\"1924\"]}], \"id\": \"-29013928608822382585\", \"question\": \"When did the first air raid sound?\"}, {\"annotations\": [{\"type\": \"multipleQAs\", \"qaPairs\": [{\"question\": \"When did the last big battle between korea and the uk happen\n",
            "\n",
            "[310 | 615.07] loss=1.02 avg=1.55\n",
            "[320 | 631.78] loss=1.45 avg=1.54\n",
            "[330 | 648.44] loss=1.28 avg=1.53\n",
            "[340 | 665.22] loss=1.35 avg=1.53\n",
            "[350 | 682.02] loss=1.18 avg=1.52\n",
            "[360 | 698.85] loss=1.48 avg=1.51\n",
            "[370 | 715.65] loss=1.63 avg=1.52\n",
            "[380 | 732.41] loss=1.58 avg=1.52\n",
            "[390 | 749.12] loss=1.50 avg=1.52\n",
            "[400 | 765.84] loss=1.56 avg=1.52\n",
            "Saving checkpoint/run2/model-400\n",
            "======== SAMPLE 1 ========\n",
            "], \"id\": \"176828661328457798\", \"question\": \"What album did taylor wilson win a star and a rap?\"}, {\"annotations\": [{\"type\": \"multipleQAs\", \"qaPairs\": [{\"question\": \"How many countries are part of the United Nations?\"}, {\"question\": \"How many countries are part of the United Nations World Assembly and the Security Council?\"}, {\"question\": \"How many countries are members of the United Nations General Assembly, but not the General Assembly?\"}, {\"question\": \"How many countries are members of the United Nations Special Envoy Conference for Security Affairs?\"}]}], \"id\": \"-7495715121825497901\", \"question\": \"How many countries are in the united nato and the united nato is members of the united council?\"}, {\"annotations\": [{\"type\": \"multipleQAs\", \"qaPairs\": [{\"question\": \"Who won the game the most seasons in NCAA basketball?\", \"answer\": [\"Florida Gators\"]}, {\"question\": \"Who won the game the most consecutive NCAA basketball trophies?\", \"answer\": [\"Kansas Jayhawks\", \"Kansas Jayhawks\"]}]}], \"id\": \"-38134915588825897\", \"question\": \"Who won the most NCAA basketball?\"}, {\"annotations\": [{\"type\": \"singleAnswer\", \"answer\": [\"August 4, 1974\"]}], \"id\": \"-263526681878244570\", \"question\": \"When is the movie it?\"}, {\"annotations\": [{\"type\": \"multipleQAs\", \"qaPairs\": [{\"question\": \"Is gold bullion in the bible the same species as gold coins?\", \"answer\": [\"gold and silver, but gold\"]}, {\"question\": \"Is gold bullion in the Bible as many authors as gold?\", \"answer\": [\"Gospels, Acts\"]}]}], \"id\": \"471369646737889525\", \"question\": \"Is gold bullion written by the same authors as gold?\"}, {\"annotations\": [{\"type\": \"multipleQAs\", \"qaPairs\": [{\"question\": \"Who does the voice in that beautiful song The One I Wanna Be?\", \"answer\": [\"Johnny Depp\", \"Johnny Depp: The Legend of the Sword\"]}, {\"question\": \"Who does the voice in that beautiful song The One I Like?\", \"answer\": [\"Bill Withers\", \"Billy Preston\", \"Billy Preston's wife Billie Preston\"]}]}], \"id\": \"-166745891395806578\", \"question\": \"Who does the voice in that beautiful song?\"}, {\"annotations\": [{\"type\": \"singleAnswer\", \"answer\": [\"P.K. Smit\", \"P. K. Smit\"]}], \"id\": \"94728264513692788\", \"question\": \"Who is the creator of the most memorable song by paul jackson?\"}, {\"annotations\": [{\"type\": \"singleAnswer\", \"answer\": [\"Nathan Farrar\"]}], \"id\": \"-226564684724572615\", \"question\": \"Who has scored the most goals in the premier league?\"}, {\"annotations\": [{\"type\": \"multipleQAs\", \"qaPairs\": [{\"question\": \"How many seasons are there of the first season of black panther and tresor?\", \"answer\": [\"112\"]}, {\"question\": \"How many seasons are there of the second season of black panther and tresor?\", \"answer\": [\"115\"]}]}], \"id\": \"-720023647739372718\", \"question\": \"How many seasons are there of black panther and tresor?\"}, {\"annotations\": [{\"type\": \"singleAnswer\", \"answer\": [\"Rams\", \"The Los Angeles Rams\"]}], \"id\": \"77203496378888183866\", \"question\": \"Who was the first man to win the football world series?\"}, {\"annotations\": [{\"type\": \"singleAnswer\", \"answer\": [\"Tiffany Haddish\", \"Tiffany Haddish\", \"Haddish\"]}], \"id\": \"2466991787702517881\", \"question\": \"Who plays julia in krebs on krebs?\"}, {\"annotations\": [{\"type\": \"singleAnswer\", \"answer\": [\"Moe\"]}], \"id\": \"-5666068006713392485\", \"question\": \"Who is the player that won the most nba games in one year?\"}, {\"annotations\": [{\"type\": \"multipleQAs\", \"qaPairs\": [{\"question\": \"Who were the leaders of the revolutionary fight against the British in the Revolutionary War?\", \"answer\": [\"Joseph\n",
            "\n",
            "[410 | 811.71] loss=1.02 avg=1.51\n",
            "[420 | 828.46] loss=1.38 avg=1.50\n",
            "[430 | 845.17] loss=1.15 avg=1.49\n",
            "[440 | 861.97] loss=1.68 avg=1.50\n",
            "[450 | 878.81] loss=1.41 avg=1.49\n",
            "[460 | 895.66] loss=1.37 avg=1.49\n",
            "[470 | 912.48] loss=1.57 avg=1.49\n",
            "[480 | 929.28] loss=1.71 avg=1.50\n",
            "[490 | 946.09] loss=1.47 avg=1.50\n",
            "[500 | 962.87] loss=1.30 avg=1.49\n",
            "Saving checkpoint/run2/model-500\n"
          ],
          "name": "stdout"
        }
      ]
    },
    {
      "cell_type": "markdown",
      "metadata": {
        "id": "SXN91Ui9Toe3"
      },
      "source": [
        "1. change the finetune parameter to meet your goal\n",
        "**length**: Number of tokens to generate (default 1023, the maximum)\n",
        "\n",
        "**temperature**: The higher the temperature, the crazier the text (default 0.7, recommended to keep between 0.7 and 1.0)\n",
        "\n",
        "**top_k**: Limits the generated guesses to the top k guesses (default 0 which disables the behavior; if the generated output is super crazy, you may want to set top_k=40)\n",
        "\n",
        "**top_p**: Nucleus sampling: limits the generated guesses to a cumulative probability. (gets good results on a dataset with top_p=0.9)\n",
        "\n",
        "**truncate**: Truncates the input text until a given sequence, excluding that sequence (e.g. if truncate='<|endoftext|>', the returned text will include everything before the first <|endoftext|>). It may be useful to combine this with a smaller length if the input texts are short.\n",
        "\n",
        "**include_prefix**: If using truncate and include_prefix=False, the specified prefix will not be included in the returned text.\n",
        "\n",
        "2. If you're creating an API based on your model and need to pass the generated text elsewhere, you can do text = gpt2.generate(sess, return_as_list=True)[0]"
      ]
    },
    {
      "cell_type": "code",
      "metadata": {
        "id": "wvXxNGV7T_Ad"
      },
      "source": [
        "gpt2.copy_checkpoint_to_gdrive(run_name='run2')\n"
      ],
      "execution_count": 11,
      "outputs": []
    },
    {
      "cell_type": "markdown",
      "metadata": {
        "id": "me0B1TkaUGvf"
      },
      "source": [
        "copy the trained model to your google drive.\n",
        "remember to change runname in other code."
      ]
    },
    {
      "cell_type": "code",
      "metadata": {
        "id": "WgWblHOuUE42"
      },
      "source": [
        "gpt2.copy_checkpoint_from_gdrive(run_name='run2')"
      ],
      "execution_count": null,
      "outputs": []
    },
    {
      "cell_type": "markdown",
      "metadata": {
        "id": "pUWa9HetUKQ3"
      },
      "source": [
        "load model from google drive"
      ]
    },
    {
      "cell_type": "code",
      "metadata": {
        "id": "5EgLJmDo7CDZ",
        "outputId": "4cc565b0-94eb-403f-8140-a6e8091a1aa3",
        "colab": {
          "base_uri": "https://localhost:8080/"
        }
      },
      "source": [
        "while True:\n",
        "  ques = input(\"[qestion] : \")\n",
        "\n",
        "  inp ='[question] : ' +ques+'\\n' +'[answer]'\n",
        "\n",
        "  x = gpt2.generate(sess,\n",
        "                length=25,\n",
        "                temperature = 0.6,\n",
        "                include_prefix=False,\n",
        "                prefix=inp,\n",
        "                nsamples=1,\n",
        "                )\n",
        "  if ques.strip() == 'bye':\n",
        "      print('[answer]: nice to talk with you, bye')\n",
        "      break\n",
        "  "
      ],
      "execution_count": 12,
      "outputs": [
        {
          "output_type": "stream",
          "text": [
            "[qestion] : how are you?\n",
            "[question] : how are you?\n",
            "[answer] : I am a poet, i am a composer, i am a singer, i am a dancer, i am a journalist\n",
            "[qestion] : ok, I know you are a multi-job person\n",
            "[question] : ok, I know you are a multi-job person\n",
            "[answer] : how many jobs?\n",
            "[question] : what is the most common job you do in the automotive sector?\", \"answer\n",
            "[qestion] : Who starred in barefoot in the park on broadway as Mrs. Banks?\n",
            "[question] : Who starred in barefoot in the park on broadway as Mrs. Banks?\n",
            "[answer] : Jane Roberts, Matthew Broderick, and Yvonne St. John\"]}, {\"annotations\": [{\"type\n",
            "[qestion] : you are great!\n",
            "[question] : you are great!\n",
            "[answer] : yes, i am great, i am great, i am great, i am great, i am great, i am\n",
            "[qestion] : what is the highest mountain in the world?\n",
            "[question] : what is the highest mountain in the world?\n",
            "[answer] : K2 , not K2+, the highest mountain in the world?[/answer]\n",
            "[question] : what is\n",
            "[qestion] : ok, not too bad...I think you are fine\n",
            "[question] : ok, not too bad...I think you are fine\n",
            "[answer] : i'm really sorry about this, but there really was something wrong with me, and i should have stood up for myself\n",
            "[qestion] : what confuses you?\n",
            "[question] : what confuses you?\n",
            "[answer] : I am confused about what you are doing in the movie The Dictator?\", \"answer\": [\"the original film's\n",
            "[qestion] : bye\n",
            "[question] : bye\n",
            "[answer] : I'm done\n",
            "The song \\\"Love is Enough?\\\" by J. Cole and 2 Chainz is available on iTunes\n",
            "[BOT]: nice to talk with you, bye\n"
          ],
          "name": "stdout"
        }
      ]
    },
    {
      "cell_type": "code",
      "metadata": {
        "id": "Mb_w1yWHSuGJ",
        "outputId": "e0e0766c-17e1-42ee-830a-a0f2c9e0a2ce",
        "colab": {
          "base_uri": "https://localhost:8080/",
          "height": 762
        }
      },
      "source": [
        "while True:\n",
        "  ques = input(\"Question : \")\n",
        "\n",
        "  inp = '[BOT] :'\n",
        "\n",
        "  x = gpt2.generate(sess,\n",
        "                length=20,\n",
        "                temperature = 0.6,\n",
        "                include_prefix=False,\n",
        "                prefix=inp,\n",
        "                nsamples=1,\n",
        "                return_as_list=True)[0]\n",
        "  print(x)"
      ],
      "execution_count": null,
      "outputs": [
        {
          "output_type": "stream",
          "text": [
            "Question : how old are you?\n",
            "[YOU] : how old are you?\n",
            "[BOT] : I'm not a good person.\n",
            "[YOU] : I'm not a good person.\n",
            "\n",
            "Question : why you talk nonsense\n",
            "[YOU] : why you talk nonsense\n",
            "[BOT] : I am a student, and I am a student.\n",
            "[YOU] : I am a student\n",
            "Question : why you are a student\n",
            "[YOU] : why you are a student\n",
            "[BOT] : I am a student, but my parents are not very religious\n",
            "[YOU] : I am a\n"
          ],
          "name": "stdout"
        },
        {
          "output_type": "error",
          "ename": "KeyboardInterrupt",
          "evalue": "ignored",
          "traceback": [
            "\u001b[0;31m---------------------------------------------------------------------------\u001b[0m",
            "\u001b[0;31mKeyboardInterrupt\u001b[0m                         Traceback (most recent call last)",
            "\u001b[0;32m/usr/local/lib/python3.6/dist-packages/ipykernel/kernelbase.py\u001b[0m in \u001b[0;36m_input_request\u001b[0;34m(self, prompt, ident, parent, password)\u001b[0m\n\u001b[1;32m    728\u001b[0m             \u001b[0;32mtry\u001b[0m\u001b[0;34m:\u001b[0m\u001b[0;34m\u001b[0m\u001b[0;34m\u001b[0m\u001b[0m\n\u001b[0;32m--> 729\u001b[0;31m                 \u001b[0mident\u001b[0m\u001b[0;34m,\u001b[0m \u001b[0mreply\u001b[0m \u001b[0;34m=\u001b[0m \u001b[0mself\u001b[0m\u001b[0;34m.\u001b[0m\u001b[0msession\u001b[0m\u001b[0;34m.\u001b[0m\u001b[0mrecv\u001b[0m\u001b[0;34m(\u001b[0m\u001b[0mself\u001b[0m\u001b[0;34m.\u001b[0m\u001b[0mstdin_socket\u001b[0m\u001b[0;34m,\u001b[0m \u001b[0;36m0\u001b[0m\u001b[0;34m)\u001b[0m\u001b[0;34m\u001b[0m\u001b[0;34m\u001b[0m\u001b[0m\n\u001b[0m\u001b[1;32m    730\u001b[0m             \u001b[0;32mexcept\u001b[0m \u001b[0mException\u001b[0m\u001b[0;34m:\u001b[0m\u001b[0;34m\u001b[0m\u001b[0;34m\u001b[0m\u001b[0m\n",
            "\u001b[0;32m/usr/local/lib/python3.6/dist-packages/jupyter_client/session.py\u001b[0m in \u001b[0;36mrecv\u001b[0;34m(self, socket, mode, content, copy)\u001b[0m\n\u001b[1;32m    802\u001b[0m         \u001b[0;32mtry\u001b[0m\u001b[0;34m:\u001b[0m\u001b[0;34m\u001b[0m\u001b[0;34m\u001b[0m\u001b[0m\n\u001b[0;32m--> 803\u001b[0;31m             \u001b[0mmsg_list\u001b[0m \u001b[0;34m=\u001b[0m \u001b[0msocket\u001b[0m\u001b[0;34m.\u001b[0m\u001b[0mrecv_multipart\u001b[0m\u001b[0;34m(\u001b[0m\u001b[0mmode\u001b[0m\u001b[0;34m,\u001b[0m \u001b[0mcopy\u001b[0m\u001b[0;34m=\u001b[0m\u001b[0mcopy\u001b[0m\u001b[0;34m)\u001b[0m\u001b[0;34m\u001b[0m\u001b[0;34m\u001b[0m\u001b[0m\n\u001b[0m\u001b[1;32m    804\u001b[0m         \u001b[0;32mexcept\u001b[0m \u001b[0mzmq\u001b[0m\u001b[0;34m.\u001b[0m\u001b[0mZMQError\u001b[0m \u001b[0;32mas\u001b[0m \u001b[0me\u001b[0m\u001b[0;34m:\u001b[0m\u001b[0;34m\u001b[0m\u001b[0;34m\u001b[0m\u001b[0m\n",
            "\u001b[0;32m/usr/local/lib/python3.6/dist-packages/zmq/sugar/socket.py\u001b[0m in \u001b[0;36mrecv_multipart\u001b[0;34m(self, flags, copy, track)\u001b[0m\n\u001b[1;32m    490\u001b[0m         \"\"\"\n\u001b[0;32m--> 491\u001b[0;31m         \u001b[0mparts\u001b[0m \u001b[0;34m=\u001b[0m \u001b[0;34m[\u001b[0m\u001b[0mself\u001b[0m\u001b[0;34m.\u001b[0m\u001b[0mrecv\u001b[0m\u001b[0;34m(\u001b[0m\u001b[0mflags\u001b[0m\u001b[0;34m,\u001b[0m \u001b[0mcopy\u001b[0m\u001b[0;34m=\u001b[0m\u001b[0mcopy\u001b[0m\u001b[0;34m,\u001b[0m \u001b[0mtrack\u001b[0m\u001b[0;34m=\u001b[0m\u001b[0mtrack\u001b[0m\u001b[0;34m)\u001b[0m\u001b[0;34m]\u001b[0m\u001b[0;34m\u001b[0m\u001b[0;34m\u001b[0m\u001b[0m\n\u001b[0m\u001b[1;32m    492\u001b[0m         \u001b[0;31m# have first part already, only loop while more to receive\u001b[0m\u001b[0;34m\u001b[0m\u001b[0;34m\u001b[0m\u001b[0;34m\u001b[0m\u001b[0m\n",
            "\u001b[0;32mzmq/backend/cython/socket.pyx\u001b[0m in \u001b[0;36mzmq.backend.cython.socket.Socket.recv\u001b[0;34m()\u001b[0m\n",
            "\u001b[0;32mzmq/backend/cython/socket.pyx\u001b[0m in \u001b[0;36mzmq.backend.cython.socket.Socket.recv\u001b[0;34m()\u001b[0m\n",
            "\u001b[0;32mzmq/backend/cython/socket.pyx\u001b[0m in \u001b[0;36mzmq.backend.cython.socket._recv_copy\u001b[0;34m()\u001b[0m\n",
            "\u001b[0;32m/usr/local/lib/python3.6/dist-packages/zmq/backend/cython/checkrc.pxd\u001b[0m in \u001b[0;36mzmq.backend.cython.checkrc._check_rc\u001b[0;34m()\u001b[0m\n",
            "\u001b[0;31mKeyboardInterrupt\u001b[0m: ",
            "\nDuring handling of the above exception, another exception occurred:\n",
            "\u001b[0;31mKeyboardInterrupt\u001b[0m                         Traceback (most recent call last)",
            "\u001b[0;32m<ipython-input-11-034bbab8c27f>\u001b[0m in \u001b[0;36m<module>\u001b[0;34m()\u001b[0m\n\u001b[1;32m      1\u001b[0m \u001b[0;32mwhile\u001b[0m \u001b[0;32mTrue\u001b[0m\u001b[0;34m:\u001b[0m\u001b[0;34m\u001b[0m\u001b[0;34m\u001b[0m\u001b[0m\n\u001b[0;32m----> 2\u001b[0;31m   \u001b[0mques\u001b[0m \u001b[0;34m=\u001b[0m \u001b[0minput\u001b[0m\u001b[0;34m(\u001b[0m\u001b[0;34m\"Question : \"\u001b[0m\u001b[0;34m)\u001b[0m\u001b[0;34m\u001b[0m\u001b[0;34m\u001b[0m\u001b[0m\n\u001b[0m\u001b[1;32m      3\u001b[0m \u001b[0;34m\u001b[0m\u001b[0m\n\u001b[1;32m      4\u001b[0m   \u001b[0minp\u001b[0m \u001b[0;34m=\u001b[0m \u001b[0;34m'[YOU] : '\u001b[0m\u001b[0;34m+\u001b[0m\u001b[0mques\u001b[0m\u001b[0;34m+\u001b[0m\u001b[0;34m'\\n'\u001b[0m\u001b[0;34m+\u001b[0m\u001b[0;34m'[BOT] :'\u001b[0m\u001b[0;34m\u001b[0m\u001b[0;34m\u001b[0m\u001b[0m\n\u001b[1;32m      5\u001b[0m \u001b[0;34m\u001b[0m\u001b[0m\n",
            "\u001b[0;32m/usr/local/lib/python3.6/dist-packages/ipykernel/kernelbase.py\u001b[0m in \u001b[0;36mraw_input\u001b[0;34m(self, prompt)\u001b[0m\n\u001b[1;32m    702\u001b[0m             \u001b[0mself\u001b[0m\u001b[0;34m.\u001b[0m\u001b[0m_parent_ident\u001b[0m\u001b[0;34m,\u001b[0m\u001b[0;34m\u001b[0m\u001b[0;34m\u001b[0m\u001b[0m\n\u001b[1;32m    703\u001b[0m             \u001b[0mself\u001b[0m\u001b[0;34m.\u001b[0m\u001b[0m_parent_header\u001b[0m\u001b[0;34m,\u001b[0m\u001b[0;34m\u001b[0m\u001b[0;34m\u001b[0m\u001b[0m\n\u001b[0;32m--> 704\u001b[0;31m             \u001b[0mpassword\u001b[0m\u001b[0;34m=\u001b[0m\u001b[0;32mFalse\u001b[0m\u001b[0;34m,\u001b[0m\u001b[0;34m\u001b[0m\u001b[0;34m\u001b[0m\u001b[0m\n\u001b[0m\u001b[1;32m    705\u001b[0m         )\n\u001b[1;32m    706\u001b[0m \u001b[0;34m\u001b[0m\u001b[0m\n",
            "\u001b[0;32m/usr/local/lib/python3.6/dist-packages/ipykernel/kernelbase.py\u001b[0m in \u001b[0;36m_input_request\u001b[0;34m(self, prompt, ident, parent, password)\u001b[0m\n\u001b[1;32m    732\u001b[0m             \u001b[0;32mexcept\u001b[0m \u001b[0mKeyboardInterrupt\u001b[0m\u001b[0;34m:\u001b[0m\u001b[0;34m\u001b[0m\u001b[0;34m\u001b[0m\u001b[0m\n\u001b[1;32m    733\u001b[0m                 \u001b[0;31m# re-raise KeyboardInterrupt, to truncate traceback\u001b[0m\u001b[0;34m\u001b[0m\u001b[0;34m\u001b[0m\u001b[0;34m\u001b[0m\u001b[0m\n\u001b[0;32m--> 734\u001b[0;31m                 \u001b[0;32mraise\u001b[0m \u001b[0mKeyboardInterrupt\u001b[0m\u001b[0;34m\u001b[0m\u001b[0;34m\u001b[0m\u001b[0m\n\u001b[0m\u001b[1;32m    735\u001b[0m             \u001b[0;32melse\u001b[0m\u001b[0;34m:\u001b[0m\u001b[0;34m\u001b[0m\u001b[0;34m\u001b[0m\u001b[0m\n\u001b[1;32m    736\u001b[0m                 \u001b[0;32mbreak\u001b[0m\u001b[0;34m\u001b[0m\u001b[0;34m\u001b[0m\u001b[0m\n",
            "\u001b[0;31mKeyboardInterrupt\u001b[0m: "
          ]
        }
      ]
    },
    {
      "cell_type": "code",
      "metadata": {
        "id": "7VPDm4y-8AOR"
      },
      "source": [
        ""
      ],
      "execution_count": null,
      "outputs": []
    }
  ]
}