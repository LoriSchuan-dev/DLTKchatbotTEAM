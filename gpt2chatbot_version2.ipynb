{
  "nbformat": 4,
  "nbformat_minor": 0,
  "metadata": {
    "colab": {
      "name": "gpt2chatbot_version2.ipynb",
      "provenance": [],
      "collapsed_sections": [],
      "toc_visible": true,
      "include_colab_link": true
    },
    "kernelspec": {
      "name": "python3",
      "display_name": "Python 3"
    },
    "accelerator": "GPU"
  },
  "cells": [
    {
      "cell_type": "markdown",
      "metadata": {
        "id": "view-in-github",
        "colab_type": "text"
      },
      "source": [
        "<a href=\"https://colab.research.google.com/github/LoriSchuan-dev/DLTKchatbotTEAM/blob/main/gpt2chatbot_version2.ipynb\" target=\"_parent\"><img src=\"https://colab.research.google.com/assets/colab-badge.svg\" alt=\"Open In Colab\"/></a>"
      ]
    },
    {
      "cell_type": "markdown",
      "metadata": {
        "id": "xWcBt-RTsrlF"
      },
      "source": [
        "Dataset: \n",
        "@inproceedings{ min2020ambigqa,\n",
        "    title={ {A}mbig{QA}: Answering Ambiguous Open-domain Questions },\n",
        "    author={ Min, Sewon and Michael, Julian and Hajishirzi, Hannaneh and Zettlemoyer, Luke },\n",
        "    booktitle={ EMNLP },\n",
        "    year={2020}\n",
        "}"
      ]
    },
    {
      "cell_type": "code",
      "metadata": {
        "id": "sUmTooTW3osf",
        "outputId": "4d24065c-4a3b-4929-9c47-79d487e11701",
        "colab": {
          "base_uri": "https://localhost:8080/"
        }
      },
      "source": [
        "!nvidia-smi"
      ],
      "execution_count": 1,
      "outputs": [
        {
          "output_type": "stream",
          "text": [
            "Sun Nov 15 22:31:04 2020       \n",
            "+-----------------------------------------------------------------------------+\n",
            "| NVIDIA-SMI 455.32.00    Driver Version: 418.67       CUDA Version: 10.1     |\n",
            "|-------------------------------+----------------------+----------------------+\n",
            "| GPU  Name        Persistence-M| Bus-Id        Disp.A | Volatile Uncorr. ECC |\n",
            "| Fan  Temp  Perf  Pwr:Usage/Cap|         Memory-Usage | GPU-Util  Compute M. |\n",
            "|                               |                      |               MIG M. |\n",
            "|===============================+======================+======================|\n",
            "|   0  Tesla T4            Off  | 00000000:00:04.0 Off |                    0 |\n",
            "| N/A   42C    P8     9W /  70W |      0MiB / 15079MiB |      0%      Default |\n",
            "|                               |                      |                 ERR! |\n",
            "+-------------------------------+----------------------+----------------------+\n",
            "                                                                               \n",
            "+-----------------------------------------------------------------------------+\n",
            "| Processes:                                                                  |\n",
            "|  GPU   GI   CI        PID   Type   Process name                  GPU Memory |\n",
            "|        ID   ID                                                   Usage      |\n",
            "|=============================================================================|\n",
            "|  No running processes found                                                 |\n",
            "+-----------------------------------------------------------------------------+\n"
          ],
          "name": "stdout"
        }
      ]
    },
    {
      "cell_type": "code",
      "metadata": {
        "id": "5He2U6op5X0Y",
        "outputId": "42e2a916-f4be-4ad2-fea8-b7ec2cae297d",
        "colab": {
          "base_uri": "https://localhost:8080/"
        }
      },
      "source": [
        "%tensorflow_version 1.x\n",
        "!pip install gpt-2-simple\n",
        "import gpt_2_simple as gpt2"
      ],
      "execution_count": 2,
      "outputs": [
        {
          "output_type": "stream",
          "text": [
            "TensorFlow 1.x selected.\n",
            "Collecting gpt-2-simple\n",
            "  Downloading https://files.pythonhosted.org/packages/6f/e4/a90add0c3328eed38a46c3ed137f2363b5d6a07bf13ee5d5d4d1e480b8c3/gpt_2_simple-0.7.1.tar.gz\n",
            "Requirement already satisfied: regex in /usr/local/lib/python3.6/dist-packages (from gpt-2-simple) (2019.12.20)\n",
            "Requirement already satisfied: requests in /usr/local/lib/python3.6/dist-packages (from gpt-2-simple) (2.23.0)\n",
            "Requirement already satisfied: tqdm in /usr/local/lib/python3.6/dist-packages (from gpt-2-simple) (4.41.1)\n",
            "Requirement already satisfied: numpy in /usr/local/lib/python3.6/dist-packages (from gpt-2-simple) (1.18.5)\n",
            "Collecting toposort\n",
            "  Downloading https://files.pythonhosted.org/packages/e9/8a/321cd8ea5f4a22a06e3ba30ef31ec33bea11a3443eeb1d89807640ee6ed4/toposort-1.5-py2.py3-none-any.whl\n",
            "Requirement already satisfied: certifi>=2017.4.17 in /usr/local/lib/python3.6/dist-packages (from requests->gpt-2-simple) (2020.6.20)\n",
            "Requirement already satisfied: idna<3,>=2.5 in /usr/local/lib/python3.6/dist-packages (from requests->gpt-2-simple) (2.10)\n",
            "Requirement already satisfied: chardet<4,>=3.0.2 in /usr/local/lib/python3.6/dist-packages (from requests->gpt-2-simple) (3.0.4)\n",
            "Requirement already satisfied: urllib3!=1.25.0,!=1.25.1,<1.26,>=1.21.1 in /usr/local/lib/python3.6/dist-packages (from requests->gpt-2-simple) (1.24.3)\n",
            "Building wheels for collected packages: gpt-2-simple\n",
            "  Building wheel for gpt-2-simple (setup.py) ... \u001b[?25l\u001b[?25hdone\n",
            "  Created wheel for gpt-2-simple: filename=gpt_2_simple-0.7.1-cp36-none-any.whl size=23581 sha256=f0c409bdeeecaa917b77834b332d55902dff27b628506cc31e54fd2af51296e0\n",
            "  Stored in directory: /root/.cache/pip/wheels/0c/f8/23/b53ce437504597edff76bf9c3b8de08ad716f74f6c6baaa91a\n",
            "Successfully built gpt-2-simple\n",
            "Installing collected packages: toposort, gpt-2-simple\n",
            "Successfully installed gpt-2-simple-0.7.1 toposort-1.5\n",
            "WARNING:tensorflow:\n",
            "The TensorFlow contrib module will not be included in TensorFlow 2.0.\n",
            "For more information, please see:\n",
            "  * https://github.com/tensorflow/community/blob/master/rfcs/20180907-contrib-sunset.md\n",
            "  * https://github.com/tensorflow/addons\n",
            "  * https://github.com/tensorflow/io (for I/O related ops)\n",
            "If you depend on functionality not listed there, please file an issue.\n",
            "\n"
          ],
          "name": "stdout"
        }
      ]
    },
    {
      "cell_type": "code",
      "metadata": {
        "id": "Cylvw0jt6zR6",
        "outputId": "2625e9c5-204f-46d6-8181-bb4f303687f3",
        "colab": {
          "base_uri": "https://localhost:8080/"
        }
      },
      "source": [
        "gpt2.download_gpt2(model_name=\"355M\")"
      ],
      "execution_count": 3,
      "outputs": [
        {
          "output_type": "stream",
          "text": [
            "Fetching checkpoint: 1.05Mit [00:00, 254Mit/s]                                                      \n",
            "Fetching encoder.json: 1.05Mit [00:00, 88.4Mit/s]                                                   \n",
            "Fetching hparams.json: 1.05Mit [00:00, 266Mit/s]                                                    \n",
            "Fetching model.ckpt.data-00000-of-00001: 1.42Git [00:07, 188Mit/s]                                  \n",
            "Fetching model.ckpt.index: 1.05Mit [00:00, 230Mit/s]                                                \n",
            "Fetching model.ckpt.meta: 1.05Mit [00:00, 101Mit/s]                                                 \n",
            "Fetching vocab.bpe: 1.05Mit [00:00, 157Mit/s]                                                       \n"
          ],
          "name": "stderr"
        }
      ]
    },
    {
      "cell_type": "markdown",
      "metadata": {
        "id": "_3BxNTxpR1ty"
      },
      "source": [
        "There are three released sizes of GPT-2:\n",
        "\n",
        "**124M** (default): the \"small\" model, 500MB on disk.\n",
        "\n",
        "**355M**: the \"medium\" model, 1.5GB on disk.\n",
        "\n",
        "**774M**: the \"large\" model, cannot currently be finetuned with Colaboratory but can be used to generate text from the pretrained model (see later in Notebook)\n",
        "\n",
        "**1558M**: the \"extra large\", true model. Will not work if a K80 GPU is attached to the notebook."
      ]
    },
    {
      "cell_type": "code",
      "metadata": {
        "id": "9H7dSkVzjM3g",
        "outputId": "816489f1-bfad-4984-93bb-3b45d06b8215",
        "colab": {
          "base_uri": "https://localhost:8080/"
        }
      },
      "source": [
        "from google.colab import drive\n",
        "drive.mount('/content/drive',force_remount=True)"
      ],
      "execution_count": 4,
      "outputs": [
        {
          "output_type": "stream",
          "text": [
            "Mounted at /content/drive\n"
          ],
          "name": "stdout"
        }
      ]
    },
    {
      "cell_type": "markdown",
      "metadata": {
        "id": "l_F-NK3jSmpN"
      },
      "source": [
        "Mounting Google Drive and get authentication code(copy and paste in the blank)\n",
        "find your dataset file and copy the path link to paste to raw_data"
      ]
    },
    {
      "cell_type": "code",
      "metadata": {
        "id": "cooC-T0JG-V6"
      },
      "source": [
        "gpt2.copy_checkpoint_from_gdrive(run_name='run1')"
      ],
      "execution_count": null,
      "outputs": []
    },
    {
      "cell_type": "code",
      "metadata": {
        "id": "qWmZ0ryw63ls"
      },
      "source": [
        "raw_data = '/content/drive/My Drive/train_light.json'"
      ],
      "execution_count": null,
      "outputs": []
    },
    {
      "cell_type": "markdown",
      "metadata": {
        "id": "RHMSUPTrYzte"
      },
      "source": [
        "if your dataset is a json file, change the link"
      ]
    },
    {
      "cell_type": "code",
      "metadata": {
        "id": "WHyj5LIZqb3e"
      },
      "source": [
        "import json\n",
        "\n",
        "with open(raw_data, 'r') as f:\n",
        "    df =json.load(f)\n",
        "\n",
        "\n",
        "\n",
        "        "
      ],
      "execution_count": null,
      "outputs": []
    },
    {
      "cell_type": "markdown",
      "metadata": {
        "id": "L6e5Y4C4TXtJ"
      },
      "source": [
        "if your dataset file is a json file, then use it to read the file"
      ]
    },
    {
      "cell_type": "markdown",
      "metadata": {
        "id": "zNriJV4uTePZ"
      },
      "source": [
        "this data file [] , is only for data.json dataset"
      ]
    },
    {
      "cell_type": "code",
      "metadata": {
        "id": "pb-eGEoGS1i9"
      },
      "source": [
        "#import os\n",
        "#os.kill(os.getpid(), 9)"
      ],
      "execution_count": null,
      "outputs": []
    },
    {
      "cell_type": "markdown",
      "metadata": {
        "id": "SSxQ6k95S6XQ"
      },
      "source": [
        "if you want to kill the previous session, uncomment the code"
      ]
    },
    {
      "cell_type": "code",
      "metadata": {
        "id": "wGHxqXIwY4oB"
      },
      "source": [
        "sess = gpt2.start_tf_sess()"
      ],
      "execution_count": 8,
      "outputs": []
    },
    {
      "cell_type": "code",
      "metadata": {
        "id": "0E_glPRcjdQk"
      },
      "source": [
        "file_name=\"/content/drive/My Drive/train_light.json\""
      ],
      "execution_count": 9,
      "outputs": []
    },
    {
      "cell_type": "code",
      "metadata": {
        "id": "QuZzjdWt6555",
        "outputId": "4e78207e-4c05-463d-c614-e584408ac9fd",
        "colab": {
          "base_uri": "https://localhost:8080/"
        }
      },
      "source": [
        "\n",
        "gpt2.finetune(sess,\n",
        "              dataset=file_name,\n",
        "              model_name='355M',\n",
        "              steps=500,\n",
        "              restore_from='latest',\n",
        "              run_name='run1',\n",
        "              print_every=10,\n",
        "              sample_every=100,\n",
        "              save_every=100\n",
        "              )"
      ],
      "execution_count": 10,
      "outputs": [
        {
          "output_type": "stream",
          "text": [
            "WARNING:tensorflow:From /usr/local/lib/python3.6/dist-packages/gpt_2_simple/src/sample.py:17: where (from tensorflow.python.ops.array_ops) is deprecated and will be removed in a future version.\n",
            "Instructions for updating:\n",
            "Use tf.where in 2.0, which has the same broadcast rule as np.where\n",
            "WARNING:tensorflow:From /usr/local/lib/python3.6/dist-packages/gpt_2_simple/src/memory_saving_gradients.py:62: get_backward_walk_ops (from tensorflow.contrib.graph_editor.select) is deprecated and will be removed after 2019-06-06.\n",
            "Instructions for updating:\n",
            "Please use tensorflow.python.ops.op_selector.get_backward_walk_ops.\n",
            "Loading checkpoint checkpoint/run1/model-500\n",
            "INFO:tensorflow:Restoring parameters from checkpoint/run1/model-500\n"
          ],
          "name": "stdout"
        },
        {
          "output_type": "stream",
          "text": [
            "\r  0%|          | 0/1 [00:00<?, ?it/s]"
          ],
          "name": "stderr"
        },
        {
          "output_type": "stream",
          "text": [
            "Loading dataset...\n"
          ],
          "name": "stdout"
        },
        {
          "output_type": "stream",
          "text": [
            "100%|██████████| 1/1 [00:06<00:00,  6.58s/it]\n"
          ],
          "name": "stderr"
        },
        {
          "output_type": "stream",
          "text": [
            "dataset has 985641 tokens\n",
            "Training...\n",
            "Saving checkpoint/run1/model-500\n",
            "======== SAMPLE 1 ========\n",
            "Answer\n",
            "[YOU] : i love baking   but i hate cooking  \n",
            "[BOT] : do you like baking\n",
            "[YOU] : do you like baking\n",
            "[BOT] : yes i love it   i am an avid berry person  \n",
            "[YOU] : yes i love it   i am an avid berry person  \n",
            "[BOT] : do you like baking\n",
            "[YOU] : do you like baking\n",
            "[BOT] : no   but if i did, you would probably like baking  \n",
            "[YOU] : no   but if i did, you would probably like baking  \n",
            "[BOT] : did i know that you just said that the answer is: baking\n",
            "[YOU] : did i know that you just said that the answer is: baking\n",
            "[BOT] : yes   do you like baking  \n",
            "[YOU] : yes   do you like baking  \n",
            "[BOT] : what?\n",
            "[YOU] : what?\n",
            "[BOT] : yes   do you like baking  \n",
            "[YOU] : yes   do you like baking  \n",
            "[BOT] : i also know it is my answer\n",
            "[YOU] : i also know it is my answer\n",
            "[BOT] : yes   do you like baking  \n",
            "[YOU] : yes   do you like baking  \n",
            "[BOT] : i am a very experienced baker\n",
            "[YOU] : i am a very experienced baker\n",
            "[BOT] : yes\n",
            "[YOU] : yes\n",
            "[BOT] : yes   do you like baking  \n",
            "[YOU] : yes   do you like baking  \n",
            "[BOT] : i also know that answer is: baking\n",
            "[YOU] : i also know that answer is: baking\n",
            "[BOT] : yes   do you like baking  \n",
            "[YOU] : yes   do you like baking  \n",
            "[BOT] : yeah  \n",
            "[YOU] : yeah  \n",
            "[BOT] : and there is one other answer  \n",
            "[YOU] : and there is one other answer  \n",
            "[BOT] : ok\n",
            "[YOU] : ok\n",
            "[BOT] : do you like it  \n",
            "[YOU] : Hi, how is it? i like riding horses and reading books, you?\n",
            "[BOT] : Hi, how are you? How are you?\n",
            "[YOU] : Hi, how are you? How are you?\n",
            "[BOT] : I am good. Just finished my homework. i want to study law\n",
            "[YOU] : I am good. Just finished my homework. i want to study law\n",
            "[BOT] : I think i will. Do you study literature? I like to study.\n",
            "[YOU] : I think i will. Do you study literature? I like to study.\n",
            "[BOT] : I teach art to but i can not do well in school\n",
            "[YOU] : I teach art to but i can not do well in school\n",
            "[BOT] : I have 3 girls that I am best friends with.\n",
            "[YOU] : I have 3 girls that I am best friends with.\n",
            "[BOT] : I have three girls and 3 boys. Why. 4 boys in one family?\n",
            "[YOU] : I have 3 girls and 3 boys. Why. 4 boys in one family?\n",
            "[BOT] : It is weird\n",
            "[YOU] : It is weird\n",
            "[BOT] : And what do you think?\n",
            "[YOU] : And what do you think?\n",
            "[BOT] : I am a bit of a social person. I do not understand why people are so concerned about the safety of guns.\n",
            "[YOU] : I am a bit of a social person. I do not understand why people are so concerned about the safety of guns.\n",
            "[BOT] : What about people at your job?\n",
            "[YOU] : What about people at your job?\n",
            "[BOT] : I actually like the thought of that. Do you?\n",
            "[YOU] : I actually like the thought of that. Do you?\n",
            "[BOT] : I would like to know what do you think about the police being hired as a solution to gun violence\n",
            "[YOU] : I would like to know what do you think about the police being hired as a solution to gun violence\n",
            "[BOT] : Do you work at the shelter? I work at a shelter\n",
            "[YOU] : Do you work at the shelter? I work at a shelter\n",
            "[BOT] : I work at a shelter\n",
            "[YOU] : I work at a shelter\n",
            "[BOT] : I can't remember which shelter I worked at when I was just a kid\n",
            "[YOU] :\n",
            "\n",
            "[510 | 61.32] loss=1.66 avg=1.66\n",
            "[520 | 77.01] loss=1.68 avg=1.67\n",
            "[530 | 93.00] loss=1.80 avg=1.71\n",
            "[540 | 109.30] loss=1.65 avg=1.70\n",
            "[550 | 125.68] loss=1.79 avg=1.72\n",
            "[560 | 141.90] loss=1.56 avg=1.69\n",
            "[570 | 157.95] loss=1.63 avg=1.68\n",
            "[580 | 174.05] loss=1.46 avg=1.65\n",
            "[590 | 190.21] loss=1.68 avg=1.66\n",
            "[600 | 206.40] loss=1.46 avg=1.64\n",
            "Saving checkpoint/run1/model-600\n",
            "WARNING:tensorflow:From /tensorflow-1.15.2/python3.6/tensorflow_core/python/training/saver.py:963: remove_checkpoint (from tensorflow.python.training.checkpoint_management) is deprecated and will be removed in a future version.\n",
            "Instructions for updating:\n",
            "Use standard file APIs to delete files with this prefix.\n",
            "======== SAMPLE 1 ========\n",
            " in a row\"}, {\"annotations\": [{\"type\": \"singleAnswer\", \"answer\": [\"19 September 2017\"]}], \"id\": \"-53087723571805485548\", \"question\": \"When does the new world order war?\n",
            "[BOT] : Do you like to sleep?\n",
            "[YOU] : Do you like to sleep?\n",
            "[BOT] : I do not know. I am a bit of a student\n",
            "[YOU] : I do not know. I am a bit of a student\n",
            "[BOT] : Do you own a computer program?\n",
            "[YOU] : Do you own a computer program?\n",
            "[BOT] : I did not think so. I am a bit of a student.\n",
            "[YOU] : I did not think so. I am a bit of a student.\n",
            "[BOT] : What kind of music does it carry in the US?\n",
            "[YOU] : What kind of music does it carry in the US?\n",
            "[BOT] : I hear that. What genre can be used in a song in the US?\n",
            "[YOU] : I hear that. What genre can be used in a song in the US?\n",
            "[BOT] : I don't like much rock. I like country music. Why?\n",
            "[YOU] : I don't like much rock. I like country music. Why?\n",
            "[BOT] : It's the kind of music where you find yourself falling out of love with it.\n",
            "[YOU] : It's the kind of music where you find yourself falling out of love with it.\n",
            "[BOT] : The type of music that falls out of love with you. I do not know how often this happens.\n",
            "[YOU] : The type of music that falls out of love with you. I do not know how often this happens.\n",
            "[BOT] : You mean that the guy who plays dave mackinnon's son in the tv series is the son of a famous singer?\n",
            "[YOU] : You mean that the guy who plays dave mackinnon's son in the tv series is the son of a famous singer?\n",
            "[BOT] : I am not much of a singer myself, so I guess you can say that about me.\n",
            "[YOU] : I am not much of a singer myself, so I guess you can say that about me.\n",
            "[BOT] : Okay. Let's see. Who has won the most consecutive premier league domestic cups in the history of the league?\n",
            "[YOU] : Okay. Let's see. Who has won the most consecutive premier league domestic cups in the history of the league?\n",
            "[BOT] : I don't know. Who had won most of the league's domestic cups during their own time?\n",
            "[YOU] : I don't know. Who had won most of the league's domestic cups during their own time?\n",
            "[BOT] : It should be a no-brainer. I love England.\n",
            "[YOU] : It should be a no-brainer. I love England.\n",
            "[BOT] : That's cool. I am from alabama, in the united states of america.\n",
            "[YOU] : That's cool. I am from alabama, in the united states of america.\n",
            "[BOT] : I am in arabia, so i have not had any experience with them. Can i visit your country by plane?\n",
            "[YOU] : I am in arabia, so i have not had any experience with them. Can i visit your country by plane?\n",
            "[BOT] : I'd love to go there though. But I don't have enough time. Are you interested in traveling?\n",
            "[YOU] : I'd love to go there though. But I don't have enough time. Are you interested in traveling?\n",
            "[BOT] : No, i am not. do you have any favorite sport?\n",
            "[YOU] : No, i am not. do you have any favorite sport?\n",
            "[BOT] : Yes, i have a few of them. do you have anything else that you enjoy in your life?\n",
            "[YOU] : Yes, i have a few of them. do you have anything else that you enjoy in your life?\n",
            "[BOT] : I like to listen to music in the fall. i like to listen to music in the fall\n",
            "[YOU] : I like to listen to music in the fall. i like to listen to music in the fall\n",
            "[BOT] : Are you married?\n",
            "[YOU] : Are you married?\n",
            "[BOT] : No, i am not. i am sorry to hear that. i am married to a man\n",
            "[YOU] : No, i am not. i am sorry to hear that. i am married to a man\n",
            "[BOT] : Oh good. So\n",
            "\n",
            "[610 | 252.54] loss=1.67 avg=1.64\n",
            "[620 | 268.76] loss=1.36 avg=1.62\n",
            "[630 | 284.95] loss=1.58 avg=1.61\n",
            "[640 | 301.16] loss=1.49 avg=1.60\n",
            "[650 | 317.35] loss=1.57 avg=1.60\n",
            "[660 | 333.58] loss=1.81 avg=1.61\n",
            "[670 | 349.80] loss=1.64 avg=1.62\n",
            "[680 | 366.03] loss=1.34 avg=1.60\n",
            "[690 | 382.22] loss=1.21 avg=1.58\n",
            "[700 | 398.43] loss=1.42 avg=1.57\n",
            "Saving checkpoint/run1/model-700\n",
            "======== SAMPLE 1 ========\n",
            "551059582708165952,\"question\": \"When was a full moon in greece?\"}, {\"annotations\": [{\"type\": \"singleAnswer\", \"answer\": [\"1948\", \"4\", \"February 25, 1948\"]}], \"id\": \"6243388646977974432\", \"question\": \"When did the nba change the start of their regular season?\"}, {\"annotations\": [{\"type\": \"singleAnswer\", \"answer\": [\"18 March, 1862\", \"1862 march and march to the battle of Gettysburg\"]}], \"id\": \"674769302965181662\", \"question\": \"What year was the war started by who?\"}, {\"annotations\": [{\"type\": \"multipleQAs\", \"qaPairs\": [{\"question\": \"What is the second oldest city in india in terms of population?\", \"answer\": [\"Shahangirao, Chittagong, Jhajpla\"]}, {\"question\": \"What is the third oldest city in india in terms of population?\", \"answer\": [\"Karnataka state, Calcutta\", \"Karnataka, Calcutta\"]}, {\"question\": \"What is the fourth oldest city in india in terms of population?\", \"answer\": [\"Tamil Nadu, Kerala\"]}]}], \"id\": \"402094995580782489\", \"question\": \"Where is the third oldest city in india?\"}, {\"annotations\": [{\"type\": \"multipleQAs\", \"qaPairs\": [{\"question\": \"Who won the first round of the gauntlet 2 matches in a row?\", \"answer\": [\"Lil Jon\"]}, {\"question\": \"Who won the last two rounds of the gauntlet 2 matches in a row?\", \"answer\": [\"Jusy\", \"Lil Jusy\"]}, {\"question\": \"Who won the first double elimination match in a row?\", \"answer\": [\"Shawn Michaels\"]}, {\"question\": \"Who won the last two double elimination matches in a row?\", \"answer\": [\"Ric Flair\", \"Shawn Michaels\", \"Ric Flair\"]}]}], \"id\": \"-550168754915687837\", \"question\": \"Who won the first and last double elimination matches in a row?\"}, {\"annotations\": [{\"type\": \"multipleQAs\", \"qaPairs\": [{\"question\": \"In what city did it become officially a crime to play a member of a women's or mixed martial arts organization?\", \"answer\": [\"Austin, Texas\"]}, {\"question\": \"In what city did the ordinance for the establishment of mixed martial arts organizations first became a law, but was actually repealed?\", \"answer\": [\"Phoenix\", \"Phoenix, Arizona\"]}, {\"question\": \"In what city did the amendment to protect mixed martial arts organizations, which was meant to protect them from having to use public places for training, become a law?\", \"answer\": [\"Gulfport, Texas\"]}]}], \"id\": \"-6914287878704437\", \"question\": \"In what city did mixed martial arts organizations become illegal?\"}, {\"annotations\": [{\"type\": \"multipleQAs\", \"qaPairs\": [{\"question\": \"Who recorded the song \\\"Good Day Texas\\\" in 1981?\", \"answer\": [\"Loyola, Chicago, Los Angeles, Los Angeles, New York\"]}, {\"question\": \"Who recorded \\\"Good Day Texas\\\" in 1980?\", \"answer\": [\"Dallas, St. Louis, Sacramento, San Antonio, San Francisco\", \"McLeod\\u2019s, Seattle, Atlanta\", \"Lyon\"]}, {\"question\": \"Who recorded \\\"Good Day Texas\\\" after 1987\", \"answer\": [\"Los Angeles\"]}]}], \"id\": \"630525754847704462\", \"question\": \"Who recorded good day texas?\"}, {\"annotations\": [{\"type\": \"multipleQAs\", \"qaPairs\": [{\"question\": \"I am doing well in business as of 11:00 PM on Monday May 8th\", \"answer\": [\"4x4\", \"[3] four-wheel drive vehicle with a 4x4 driver\"]}, {\"question\": \"I am doing well in business as of 11:00 PM on February 27th\", \"answer\": [\"3x3\", \"two-wheel drive vehicle with no passengers\", \"single wheel drive vehicle\"]}, {\"question\": \"I am doing well in business as of 11:00 PM on December 31st\", \"answer\": [\"2x2\", \"two-wheel drive vehicle with no passengers\", \"three-wheel drive vehicle with no passengers\", \"single wheel drive vehicle with no passengers\"]}, {\"question\": \"I am doing well in business as of 11:00 PM on December 16th\", \"answer\": [\"1x1\", \"two-wheel drive vehicle with no passengers\n",
            "\n",
            "[710 | 444.92] loss=1.73 avg=1.58\n",
            "[720 | 461.13] loss=1.48 avg=1.57\n",
            "[730 | 477.31] loss=1.60 avg=1.57\n",
            "[740 | 493.48] loss=1.64 avg=1.58\n",
            "[750 | 509.70] loss=1.31 avg=1.56\n",
            "[760 | 525.88] loss=1.48 avg=1.56\n",
            "[770 | 542.10] loss=1.57 avg=1.56\n",
            "[780 | 558.35] loss=1.24 avg=1.55\n",
            "[790 | 574.56] loss=1.69 avg=1.55\n",
            "[800 | 590.77] loss=1.45 avg=1.55\n",
            "Saving checkpoint/run1/model-800\n",
            "======== SAMPLE 1 ========\n",
            "question\": \"Who is the actor playing the young woman in the movie The Fifth Element?\", \"answer\": [\"Emma Stone\"]}]}], \"id\": \"648812084878385939\", \"question\": \"The five element is my favorite film?\"}, {\"annotations\": [{\"type\": \"singleAnswer\", \"answer\": [\"Jody Watley\", \"Karen Jagger\"]}], \"id\": \"623526013089656045\", \"question\": \"Who is the girl that plays skunk in bumblebee?\"}, {\"annotations\": [{\"type\": \"singleAnswer\", \"answer\": [\"John Doe\"]}], \"id\": \"-780858643877995979\", \"question\": \"What was the first bill of rights?\"}, {\"annotations\": [{\"type\": \"singleAnswer\", \"answer\": [\"Davy Jones\"]}], \"id\": \"6879132579154848897\", \"question\": \"Who are the two original captains that formed the British side of the fought?\"}, {\"annotations\": [{\"type\": \"singleAnswer\", \"answer\": [\"Joseph O'Kelly\"]}], \"id\": \"-660957702701257037\", \"question\": \"Who was the captain that died in the first battle of nauchapel?\"}, {\"annotations\": [{\"type\": \"singleAnswer\", \"answer\": [\"19 December 2015\"]}], \"id\": \"798855140324572708\", \"question\": \"When was the last time houpost gordon was in trouble?\"}, {\"annotations\": [{\"type\": \"singleAnswer\", \"answer\": [\"Beth Burdett\"]}], \"id\": \"854140945773466641602\", \"question\": \"Who is the director of america who died in 2015?\"}, {\"annotations\": [{\"type\": \"singleAnswer\", \"answer\": [\"Alfred\"]}], \"id\": \"-641518274527095949\", \"question\": \"Who was the voice for the main character in the song?\"}, {\"annotations\": [{\"type\": \"multipleQAs\", \"qaPairs\": [{\"question\": \"Which characters are from the 2001 film The Matrix?\", \"answer\": [\"Kyle Connor\", \"Cory Michael Connor\"]}, {\"question\": \"Who played the main character in the film The Matrix?\", \"answer\": [\"Cory Michael Connor\"]}, {\"question\": \"Who plays the main character in the film Matrix 3?\", \"answer\": [\"Cory Michael Connor\"]}, {\"question\": \"Who plays the leading actress in the film Matrix 3?\", \"answer\": [\"Cory Michael Connor\"]}, {\"question\": \"Who plays the principal characters in the film Matrix 3?\", \"answer\": [\"Cory Michael Connor\"]}]}], \"id\": \"-668912120818174837\", \"question\": \"Who are the main characters of the film and the film?\"}, {\"annotations\": [{\"type\": \"singleAnswer\", \"answer\": [\"Chinatown, Hong Kong\"]}], \"id\": \"-97908128826390711\", \"question\": \"Where did the movie the man with no hands?\"}]}], \"id\": \"-338975504038124799\", \"question\": \"Where did the movie the man with no hands?\"}, {\"annotations\": [{\"type\": \"singleAnswer\", \"answer\": [\"Robert Pattinson\", \"Patrick Anthony Quinn\"]}], \"id\": \"359930643839132639\", \"question\": \"Who won the most oscar for best actor in 2016?\"}, {\"annotations\": [{\"type\": \"singleAnswer\", \"answer\": [\"Rafael Benigno Santoro\", \"Rafael Benigno Santoro\"]}], \"id\": \"-490812142822378570\", \"question\": \"Who plays mary librarian in the movies?\"}, {\"annotations\": [{\"type\": \"multipleQAs\", \"qaPairs\": [{\"question\": \"Who was the leader of jamaican patriots during the american war of independence?\", \"answer\": [\"John Adams\"]}, {\"question\": \"Who were the leaders of jamaican patriots during the american war of independence?\", \"answer\": [\"William Penn\"]}, {\"question\": \"Who were the leaders of jamaican patriots during the american war of independence as a member of the council of the Union?\", \"answer\": [\"James Monroe\"]}]}], \"id\": \"-310816781311182667\", \"question\": \"Who were the leaders of jamaican patriots during the american war of 1780?\"}, {\"annotations\": [{\"type\": \"multipleQAs\", \"qaPairs\": [{\"question\": \"Who has the record for the most\n",
            "\n",
            "[810 | 636.68] loss=1.34 avg=1.54\n",
            "[820 | 652.90] loss=1.41 avg=1.54\n",
            "[830 | 669.06] loss=1.68 avg=1.54\n",
            "[840 | 685.26] loss=1.36 avg=1.54\n",
            "[850 | 701.47] loss=1.27 avg=1.53\n",
            "[860 | 717.72] loss=1.25 avg=1.52\n",
            "[870 | 733.95] loss=1.37 avg=1.51\n",
            "[880 | 750.19] loss=1.42 avg=1.51\n",
            "[890 | 766.42] loss=1.85 avg=1.52\n",
            "[900 | 782.66] loss=1.35 avg=1.51\n",
            "Saving checkpoint/run1/model-900\n",
            "======== SAMPLE 1 ========\n",
            "\": \"true\", \"answer\": [\"Tavares\", \"L.A.'s Tavares\"]}]}], \"id\": \"-7236435284413261413\", \"question\": \"Where is the last movie lion king in the world?\"}, {\"annotations\": [{\"type\": \"multipleQAs\", \"qaPairs\": [{\"question\": \"Who is the lead singer of my two dog-themed music videos?\", \"answer\": [\"Bruno Mars\"]}, {\"question\": \"Who is the lead singer of my cat-themed music video?\", \"answer\": [\"Tavares\"]}, {\"question\": \"Who is the lead singer of my cat-themed music video and my daughter's theme song?\", \"answer\": [\"Tavares\"]}]}], \"id\": \"-641316591426750114\", \"question\": \"Who is the lead singer of my cat video?\"}, {\"annotations\": [{\"type\": \"singleAnswer\", \"answer\": [\"Ogakora\",\"Mito\",\"Megumi Ogakora\"]}], \"id\": \"-880117481605663414\", \"question\": \"Who was the first official mascot of nyu?\"}, {\"annotations\": [{\"type\": \"singleAnswer\", \"answer\": [\"Jawaharlal Nehru\", \"Sir Jawaharlal Nehru\", \"Jawaharlal Nehru\", \"First Prime Minister of India\", \"Jawaharlal Nehru\"]}], \"id\": \"594930854955484796\", \"question\": \"Who was the first prime minister of india?\"}, {\"annotations\": [{\"type\": \"singleAnswer\", \"answer\": [\"The United States\", \"United States\", \"United States and Australia\"]}], \"id\": \"-9295977254534264581\", \"question\": \"Who is the longest serving and influential president in world history?\"}, {\"annotations\": [{\"type\": \"multipleQAs\", \"qaPairs\": [{\"question\": \"When does a game of billiards take place in the United States?\", \"answer\": [\"March 3, 2017\"]}, {\"question\": \"When does billiards take place in the United States on September 29, 2017?\", \"answer\": [\"10:30 a.m. PDT\"]}, {\"question\": \"When does billiards take place in Canada on September 29, 2017?\", \"answer\": [\"Saturday, September 29, 2017\"]}]}], \"id\": \"695966122665696834\", \"question\": \"When does billiards take place in the us?\"}, {\"annotations\": [{\"type\": \"multipleQAs\", \"qaPairs\": [{\"question\": \"Who played the young kobe jnner in the 2011 film the city?\", \"answer\": [\"Luke Cage\"]}, {\"question\": \"Who played the old kobe jnner in the 2015 film the city?\", \"answer\": [\"Alycia Debeningham\"]}, {\"question\": \"Who played the woman in the 2014 film the city?\", \"answer\": [\"Charlize Theron\"]}]}], \"id\": \"-486427663907403837\", \"question\": \"Who played the young kobe jnner in the 'the city' film?\"}, {\"annotations\": [{\"type\": \"multipleQAs\", \"qaPairs\": [{\"question\": \"Who has played a role in the television show American black soap opera how to be a lady?\"}, {\"annotations\": [{\"type\": \"multipleQAs\", \"qaPairs\": [{\"question\": \"Who is the highest ranked brazilian woman according to FIFA?\", \"answer\": [\"Kasimne M. Sefosha\"]}, {\"question\": \"Who is the highest ranked brazilian woman according to the FIFA world ranking system?\", \"answer\": [\"Chimuena Nica A. Oliveira de Souza\", \"Chimmuena\"]}]}], \"id\": \"567829581627404568\", \"question\": \"Who is the highest ranked woman in brasil?\"}, {\"annotations\": [{\"type\": \"multipleQAs\", \"qaPairs\": [{\"question\": \"What city was the beginning of the word of the year in the US?\", \"answer\": [\"Charlotte\"]}, {\"question\": \"What city was the beginning of the word of the year in the UK?\", \"answer\": [\"Chicago\"]}, {\"question\": \"What city is the beginning of the word of the year in all 50 states?\", \"answer\": [\"Houston\"]}]}], \"id\": \"-6341635377033133345\", \"question\": \"What city is the beginning of the word of the year?\"}, {\"annotations\": [{\"type\": \"singleAnswer\", \"answer\": [\"Puerto Rico\"]}], \"id\n",
            "\n",
            "[910 | 828.43] loss=1.49 avg=1.51\n",
            "[920 | 844.64] loss=1.32 avg=1.51\n",
            "[930 | 860.84] loss=1.48 avg=1.51\n",
            "[940 | 877.02] loss=1.67 avg=1.51\n",
            "[950 | 893.24] loss=1.59 avg=1.51\n",
            "[960 | 909.48] loss=1.52 avg=1.51\n",
            "[970 | 925.69] loss=1.28 avg=1.51\n",
            "[980 | 941.88] loss=1.52 avg=1.51\n",
            "[990 | 958.09] loss=1.54 avg=1.51\n",
            "[1000 | 974.31] loss=1.06 avg=1.50\n",
            "Saving checkpoint/run1/model-1000\n"
          ],
          "name": "stdout"
        }
      ]
    },
    {
      "cell_type": "markdown",
      "metadata": {
        "id": "SXN91Ui9Toe3"
      },
      "source": [
        "1. change the finetune parameter to meet your goal\n",
        "**length**: Number of tokens to generate (default 1023, the maximum)\n",
        "\n",
        "**temperature**: The higher the temperature, the crazier the text (default 0.7, recommended to keep between 0.7 and 1.0)\n",
        "\n",
        "**top_k**: Limits the generated guesses to the top k guesses (default 0 which disables the behavior; if the generated output is super crazy, you may want to set top_k=40)\n",
        "\n",
        "**top_p**: Nucleus sampling: limits the generated guesses to a cumulative probability. (gets good results on a dataset with top_p=0.9)\n",
        "\n",
        "**truncate**: Truncates the input text until a given sequence, excluding that sequence (e.g. if truncate='<|endoftext|>', the returned text will include everything before the first <|endoftext|>). It may be useful to combine this with a smaller length if the input texts are short.\n",
        "\n",
        "**include_prefix**: If using truncate and include_prefix=False, the specified prefix will not be included in the returned text.\n",
        "\n",
        "2. If you're creating an API based on your model and need to pass the generated text elsewhere, you can do text = gpt2.generate(sess, return_as_list=True)[0]"
      ]
    },
    {
      "cell_type": "code",
      "metadata": {
        "id": "wvXxNGV7T_Ad"
      },
      "source": [
        "gpt2.copy_checkpoint_to_gdrive(run_name='run1')\n"
      ],
      "execution_count": 13,
      "outputs": []
    },
    {
      "cell_type": "markdown",
      "metadata": {
        "id": "me0B1TkaUGvf"
      },
      "source": [
        "copy the trained model to your google drive.\n",
        "remember to change runname in other code."
      ]
    },
    {
      "cell_type": "code",
      "metadata": {
        "id": "5EgLJmDo7CDZ",
        "outputId": "e1388e07-4d4b-47ee-808b-8d62c2a0596c",
        "colab": {
          "base_uri": "https://localhost:8080/"
        }
      },
      "source": [
        "while True:\n",
        "  ques = input(\"[qestion] : \")\n",
        "\n",
        "  inp ='[question] : ' +ques+'\\n' +'[answer]'\n",
        "\n",
        "  x = gpt2.generate(sess,\n",
        "                length=25,\n",
        "                temperature = 0.6,\n",
        "                include_prefix=False,\n",
        "                prefix=inp,\n",
        "                nsamples=1,\n",
        "                )\n",
        "  if ques.strip() == 'bye':\n",
        "      print('[answer]: nice to talk with you, bye')\n",
        "      break\n",
        "  "
      ],
      "execution_count": 12,
      "outputs": [
        {
          "output_type": "stream",
          "text": [
            "[qestion] : how are you!\n",
            "[question] : how are you!\n",
            "[answer] : how are you?\n",
            "[BOT] : I am good, just got done with the band to play on the\n",
            "[qestion] : great! Do you like super bowl?\n",
            "[question] : great! Do you like super bowl?\n",
            "[answer] : great! Do you like super bowl?\n",
            "[BOT] : I do not know. I am a huge fan\n",
            "[qestion] : Who has more super bowl wins afc or nfc?\n",
            "[question] : Who has more super bowl wins afc or nfc?\n",
            "[answer] : Super Bowl LI winner, Atlanta Falcons, or New England Patriots?\", \"answer\": [\"Atlanta Falcons\"]}]}], \"\n",
            "[qestion] : well done! Do you like music?\n",
            "[question] : well done! Do you like music?\n",
            "[answer] : yes i do, i like music, i've a lot of friends who have a lot of friends who have a lot\n",
            "[qestion] : where are you come from?\n",
            "[question] : where are you come from?\n",
            "[answer] : where are you coming from?\n",
            "[BOT] : I'm coming from the state of Washington, and I'm\n",
            "[qestion] : How many ligue 1 titles does psg have as of 2016?\n",
            "[question] : How many ligue 1 titles does psg have as of 2016?\n",
            "[answer] : How many ligue 1 titles does psg have as of 2016?\n",
            "[BOT] : PSG has won\n",
            "[qestion] : wow! you are really amazing!\n",
            "[question] : wow! you are really amazing!\n",
            "[answer] : wow! you are really amazing!\n",
            "[BOT] : I am not sure what you mean?\n",
            "[YOU\n",
            "[qestion] : I mean you are great!\n",
            "[question] : I mean you are great!\n",
            "[answer] : I am great, i am great.\n",
            "[BOT] : Okay. Bye\n",
            "[question] : I am\n",
            "[qestion] : wait wait, I have more questions to ask!\n",
            "[question] : wait wait, I have more questions to ask!\n",
            "[answer] : yes, i have more questions than answers. i have a lot of friends that are not very good people.\n",
            "[\n",
            "[qestion] : can you give me some examples?\n",
            "[question] : can you give me some examples?\n",
            "[answer] : yes i can give examples\n",
            "[BOT] : I think it is a good idea, i think it is a\n",
            "[qestion] : Interesting, which musician do you like? When did the han solo movie came out in United States?\n",
            "[question] : Interesting, which musician do you like? When did the han solo movie came out in United States?\n",
            "[answer] : Interesting, which musician do you like? When did the han solo movie came out in United States?\n",
            "[B\n",
            "[qestion] : do you understand me?\n",
            "[question] : do you understand me?\n",
            "[answer] : do you understand me?\n",
            "[BOT] : I do, I just like to have a good time with my\n",
            "[qestion] : who is our president?\n",
            "[question] : who is our president?\n",
            "[answer] : who is our president?\n",
            "[BOT] : What country is the leader of the free world in the 2017 movie\n",
            "[qestion] : You ask me? I really do not know about it\n",
            "[question] : You ask me? I really do not know about it\n",
            "[answer] : I am a bit of a loner, so i am not very social person.\n",
            "[BOT] : I\n",
            "[qestion] : ok, bye\n",
            "[question] : ok, bye\n",
            "[answer] : I love to sing the song da da da da da da da da da da da da da da da da da da\n",
            "[qestion] : bye\n",
            "[question] : bye\n",
            "[answer] : bye bye bye bye bye bye bye bye bye bye bye bye bye bye bye bye bye bye bye bye bye bye bye bye\n",
            "[answer]: nice to talk with you, bye\n"
          ],
          "name": "stdout"
        }
      ]
    },
    {
      "cell_type": "code",
      "metadata": {
        "id": "Mb_w1yWHSuGJ",
        "outputId": "e0e0766c-17e1-42ee-830a-a0f2c9e0a2ce",
        "colab": {
          "base_uri": "https://localhost:8080/",
          "height": 762
        }
      },
      "source": [
        "while True:\n",
        "  ques = input(\"Question : \")\n",
        "\n",
        "  inp = '[BOT] :'\n",
        "\n",
        "  x = gpt2.generate(sess,\n",
        "                length=20,\n",
        "                temperature = 0.6,\n",
        "                include_prefix=False,\n",
        "                prefix=inp,\n",
        "                nsamples=1,\n",
        "                return_as_list=True)[0]\n",
        "  print(x)"
      ],
      "execution_count": null,
      "outputs": [
        {
          "output_type": "stream",
          "text": [
            "Question : how old are you?\n",
            "[YOU] : how old are you?\n",
            "[BOT] : I'm not a good person.\n",
            "[YOU] : I'm not a good person.\n",
            "\n",
            "Question : why you talk nonsense\n",
            "[YOU] : why you talk nonsense\n",
            "[BOT] : I am a student, and I am a student.\n",
            "[YOU] : I am a student\n",
            "Question : why you are a student\n",
            "[YOU] : why you are a student\n",
            "[BOT] : I am a student, but my parents are not very religious\n",
            "[YOU] : I am a\n"
          ],
          "name": "stdout"
        },
        {
          "output_type": "error",
          "ename": "KeyboardInterrupt",
          "evalue": "ignored",
          "traceback": [
            "\u001b[0;31m---------------------------------------------------------------------------\u001b[0m",
            "\u001b[0;31mKeyboardInterrupt\u001b[0m                         Traceback (most recent call last)",
            "\u001b[0;32m/usr/local/lib/python3.6/dist-packages/ipykernel/kernelbase.py\u001b[0m in \u001b[0;36m_input_request\u001b[0;34m(self, prompt, ident, parent, password)\u001b[0m\n\u001b[1;32m    728\u001b[0m             \u001b[0;32mtry\u001b[0m\u001b[0;34m:\u001b[0m\u001b[0;34m\u001b[0m\u001b[0;34m\u001b[0m\u001b[0m\n\u001b[0;32m--> 729\u001b[0;31m                 \u001b[0mident\u001b[0m\u001b[0;34m,\u001b[0m \u001b[0mreply\u001b[0m \u001b[0;34m=\u001b[0m \u001b[0mself\u001b[0m\u001b[0;34m.\u001b[0m\u001b[0msession\u001b[0m\u001b[0;34m.\u001b[0m\u001b[0mrecv\u001b[0m\u001b[0;34m(\u001b[0m\u001b[0mself\u001b[0m\u001b[0;34m.\u001b[0m\u001b[0mstdin_socket\u001b[0m\u001b[0;34m,\u001b[0m \u001b[0;36m0\u001b[0m\u001b[0;34m)\u001b[0m\u001b[0;34m\u001b[0m\u001b[0;34m\u001b[0m\u001b[0m\n\u001b[0m\u001b[1;32m    730\u001b[0m             \u001b[0;32mexcept\u001b[0m \u001b[0mException\u001b[0m\u001b[0;34m:\u001b[0m\u001b[0;34m\u001b[0m\u001b[0;34m\u001b[0m\u001b[0m\n",
            "\u001b[0;32m/usr/local/lib/python3.6/dist-packages/jupyter_client/session.py\u001b[0m in \u001b[0;36mrecv\u001b[0;34m(self, socket, mode, content, copy)\u001b[0m\n\u001b[1;32m    802\u001b[0m         \u001b[0;32mtry\u001b[0m\u001b[0;34m:\u001b[0m\u001b[0;34m\u001b[0m\u001b[0;34m\u001b[0m\u001b[0m\n\u001b[0;32m--> 803\u001b[0;31m             \u001b[0mmsg_list\u001b[0m \u001b[0;34m=\u001b[0m \u001b[0msocket\u001b[0m\u001b[0;34m.\u001b[0m\u001b[0mrecv_multipart\u001b[0m\u001b[0;34m(\u001b[0m\u001b[0mmode\u001b[0m\u001b[0;34m,\u001b[0m \u001b[0mcopy\u001b[0m\u001b[0;34m=\u001b[0m\u001b[0mcopy\u001b[0m\u001b[0;34m)\u001b[0m\u001b[0;34m\u001b[0m\u001b[0;34m\u001b[0m\u001b[0m\n\u001b[0m\u001b[1;32m    804\u001b[0m         \u001b[0;32mexcept\u001b[0m \u001b[0mzmq\u001b[0m\u001b[0;34m.\u001b[0m\u001b[0mZMQError\u001b[0m \u001b[0;32mas\u001b[0m \u001b[0me\u001b[0m\u001b[0;34m:\u001b[0m\u001b[0;34m\u001b[0m\u001b[0;34m\u001b[0m\u001b[0m\n",
            "\u001b[0;32m/usr/local/lib/python3.6/dist-packages/zmq/sugar/socket.py\u001b[0m in \u001b[0;36mrecv_multipart\u001b[0;34m(self, flags, copy, track)\u001b[0m\n\u001b[1;32m    490\u001b[0m         \"\"\"\n\u001b[0;32m--> 491\u001b[0;31m         \u001b[0mparts\u001b[0m \u001b[0;34m=\u001b[0m \u001b[0;34m[\u001b[0m\u001b[0mself\u001b[0m\u001b[0;34m.\u001b[0m\u001b[0mrecv\u001b[0m\u001b[0;34m(\u001b[0m\u001b[0mflags\u001b[0m\u001b[0;34m,\u001b[0m \u001b[0mcopy\u001b[0m\u001b[0;34m=\u001b[0m\u001b[0mcopy\u001b[0m\u001b[0;34m,\u001b[0m \u001b[0mtrack\u001b[0m\u001b[0;34m=\u001b[0m\u001b[0mtrack\u001b[0m\u001b[0;34m)\u001b[0m\u001b[0;34m]\u001b[0m\u001b[0;34m\u001b[0m\u001b[0;34m\u001b[0m\u001b[0m\n\u001b[0m\u001b[1;32m    492\u001b[0m         \u001b[0;31m# have first part already, only loop while more to receive\u001b[0m\u001b[0;34m\u001b[0m\u001b[0;34m\u001b[0m\u001b[0;34m\u001b[0m\u001b[0m\n",
            "\u001b[0;32mzmq/backend/cython/socket.pyx\u001b[0m in \u001b[0;36mzmq.backend.cython.socket.Socket.recv\u001b[0;34m()\u001b[0m\n",
            "\u001b[0;32mzmq/backend/cython/socket.pyx\u001b[0m in \u001b[0;36mzmq.backend.cython.socket.Socket.recv\u001b[0;34m()\u001b[0m\n",
            "\u001b[0;32mzmq/backend/cython/socket.pyx\u001b[0m in \u001b[0;36mzmq.backend.cython.socket._recv_copy\u001b[0;34m()\u001b[0m\n",
            "\u001b[0;32m/usr/local/lib/python3.6/dist-packages/zmq/backend/cython/checkrc.pxd\u001b[0m in \u001b[0;36mzmq.backend.cython.checkrc._check_rc\u001b[0;34m()\u001b[0m\n",
            "\u001b[0;31mKeyboardInterrupt\u001b[0m: ",
            "\nDuring handling of the above exception, another exception occurred:\n",
            "\u001b[0;31mKeyboardInterrupt\u001b[0m                         Traceback (most recent call last)",
            "\u001b[0;32m<ipython-input-11-034bbab8c27f>\u001b[0m in \u001b[0;36m<module>\u001b[0;34m()\u001b[0m\n\u001b[1;32m      1\u001b[0m \u001b[0;32mwhile\u001b[0m \u001b[0;32mTrue\u001b[0m\u001b[0;34m:\u001b[0m\u001b[0;34m\u001b[0m\u001b[0;34m\u001b[0m\u001b[0m\n\u001b[0;32m----> 2\u001b[0;31m   \u001b[0mques\u001b[0m \u001b[0;34m=\u001b[0m \u001b[0minput\u001b[0m\u001b[0;34m(\u001b[0m\u001b[0;34m\"Question : \"\u001b[0m\u001b[0;34m)\u001b[0m\u001b[0;34m\u001b[0m\u001b[0;34m\u001b[0m\u001b[0m\n\u001b[0m\u001b[1;32m      3\u001b[0m \u001b[0;34m\u001b[0m\u001b[0m\n\u001b[1;32m      4\u001b[0m   \u001b[0minp\u001b[0m \u001b[0;34m=\u001b[0m \u001b[0;34m'[YOU] : '\u001b[0m\u001b[0;34m+\u001b[0m\u001b[0mques\u001b[0m\u001b[0;34m+\u001b[0m\u001b[0;34m'\\n'\u001b[0m\u001b[0;34m+\u001b[0m\u001b[0;34m'[BOT] :'\u001b[0m\u001b[0;34m\u001b[0m\u001b[0;34m\u001b[0m\u001b[0m\n\u001b[1;32m      5\u001b[0m \u001b[0;34m\u001b[0m\u001b[0m\n",
            "\u001b[0;32m/usr/local/lib/python3.6/dist-packages/ipykernel/kernelbase.py\u001b[0m in \u001b[0;36mraw_input\u001b[0;34m(self, prompt)\u001b[0m\n\u001b[1;32m    702\u001b[0m             \u001b[0mself\u001b[0m\u001b[0;34m.\u001b[0m\u001b[0m_parent_ident\u001b[0m\u001b[0;34m,\u001b[0m\u001b[0;34m\u001b[0m\u001b[0;34m\u001b[0m\u001b[0m\n\u001b[1;32m    703\u001b[0m             \u001b[0mself\u001b[0m\u001b[0;34m.\u001b[0m\u001b[0m_parent_header\u001b[0m\u001b[0;34m,\u001b[0m\u001b[0;34m\u001b[0m\u001b[0;34m\u001b[0m\u001b[0m\n\u001b[0;32m--> 704\u001b[0;31m             \u001b[0mpassword\u001b[0m\u001b[0;34m=\u001b[0m\u001b[0;32mFalse\u001b[0m\u001b[0;34m,\u001b[0m\u001b[0;34m\u001b[0m\u001b[0;34m\u001b[0m\u001b[0m\n\u001b[0m\u001b[1;32m    705\u001b[0m         )\n\u001b[1;32m    706\u001b[0m \u001b[0;34m\u001b[0m\u001b[0m\n",
            "\u001b[0;32m/usr/local/lib/python3.6/dist-packages/ipykernel/kernelbase.py\u001b[0m in \u001b[0;36m_input_request\u001b[0;34m(self, prompt, ident, parent, password)\u001b[0m\n\u001b[1;32m    732\u001b[0m             \u001b[0;32mexcept\u001b[0m \u001b[0mKeyboardInterrupt\u001b[0m\u001b[0;34m:\u001b[0m\u001b[0;34m\u001b[0m\u001b[0;34m\u001b[0m\u001b[0m\n\u001b[1;32m    733\u001b[0m                 \u001b[0;31m# re-raise KeyboardInterrupt, to truncate traceback\u001b[0m\u001b[0;34m\u001b[0m\u001b[0;34m\u001b[0m\u001b[0;34m\u001b[0m\u001b[0m\n\u001b[0;32m--> 734\u001b[0;31m                 \u001b[0;32mraise\u001b[0m \u001b[0mKeyboardInterrupt\u001b[0m\u001b[0;34m\u001b[0m\u001b[0;34m\u001b[0m\u001b[0m\n\u001b[0m\u001b[1;32m    735\u001b[0m             \u001b[0;32melse\u001b[0m\u001b[0;34m:\u001b[0m\u001b[0;34m\u001b[0m\u001b[0;34m\u001b[0m\u001b[0m\n\u001b[1;32m    736\u001b[0m                 \u001b[0;32mbreak\u001b[0m\u001b[0;34m\u001b[0m\u001b[0;34m\u001b[0m\u001b[0m\n",
            "\u001b[0;31mKeyboardInterrupt\u001b[0m: "
          ]
        }
      ]
    },
    {
      "cell_type": "code",
      "metadata": {
        "id": "7VPDm4y-8AOR"
      },
      "source": [
        ""
      ],
      "execution_count": null,
      "outputs": []
    }
  ]
}