{
  "nbformat": 4,
  "nbformat_minor": 0,
  "metadata": {
    "colab": {
      "name": "gpt2chatbot_version2.ipynb",
      "provenance": [],
      "collapsed_sections": [],
      "include_colab_link": true
    },
    "kernelspec": {
      "name": "python3",
      "display_name": "Python 3"
    },
    "accelerator": "GPU"
  },
  "cells": [
    {
      "cell_type": "markdown",
      "metadata": {
        "id": "view-in-github",
        "colab_type": "text"
      },
      "source": [
        "<a href=\"https://colab.research.google.com/github/LoriSchuan-dev/DLTKchatbotTEAM/blob/Dany/gpt2chatbot_version2.ipynb\" target=\"_parent\"><img src=\"https://colab.research.google.com/assets/colab-badge.svg\" alt=\"Open In Colab\"/></a>"
      ]
    },
    {
      "cell_type": "markdown",
      "metadata": {
        "id": "xWcBt-RTsrlF"
      },
      "source": [
        "Dataset: \n",
        "@inproceedings{ min2020ambigqa,\n",
        "    title={ {A}mbig{QA}: Answering Ambiguous Open-domain Questions },\n",
        "    author={ Min, Sewon and Michael, Julian and Hajishirzi, Hannaneh and Zettlemoyer, Luke },\n",
        "    booktitle={ EMNLP },\n",
        "    year={2020}\n",
        "}"
      ]
    },
    {
      "cell_type": "markdown",
      "metadata": {
        "id": "UA_irxEzDFD6"
      },
      "source": [
        "# New Section"
      ]
    },
    {
      "cell_type": "code",
      "metadata": {
        "id": "sUmTooTW3osf",
        "colab": {
          "base_uri": "https://localhost:8080/"
        },
        "outputId": "af4700da-bedf-4ad5-e836-2618d0c26b52"
      },
      "source": [
        "!nvidia-smi"
      ],
      "execution_count": null,
      "outputs": [
        {
          "output_type": "stream",
          "text": [
            "Wed Nov 25 04:11:42 2020       \n",
            "+-----------------------------------------------------------------------------+\n",
            "| NVIDIA-SMI 455.38       Driver Version: 418.67       CUDA Version: 10.1     |\n",
            "|-------------------------------+----------------------+----------------------+\n",
            "| GPU  Name        Persistence-M| Bus-Id        Disp.A | Volatile Uncorr. ECC |\n",
            "| Fan  Temp  Perf  Pwr:Usage/Cap|         Memory-Usage | GPU-Util  Compute M. |\n",
            "|                               |                      |               MIG M. |\n",
            "|===============================+======================+======================|\n",
            "|   0  Tesla T4            Off  | 00000000:00:04.0 Off |                    0 |\n",
            "| N/A   59C    P8    11W /  70W |      0MiB / 15079MiB |      0%      Default |\n",
            "|                               |                      |                 ERR! |\n",
            "+-------------------------------+----------------------+----------------------+\n",
            "                                                                               \n",
            "+-----------------------------------------------------------------------------+\n",
            "| Processes:                                                                  |\n",
            "|  GPU   GI   CI        PID   Type   Process name                  GPU Memory |\n",
            "|        ID   ID                                                   Usage      |\n",
            "|=============================================================================|\n",
            "|  No running processes found                                                 |\n",
            "+-----------------------------------------------------------------------------+\n"
          ],
          "name": "stdout"
        }
      ]
    },
    {
      "cell_type": "code",
      "metadata": {
        "id": "5He2U6op5X0Y",
        "colab": {
          "base_uri": "https://localhost:8080/"
        },
        "outputId": "9b3522af-5b6f-431c-dd2c-b23d36832b76"
      },
      "source": [
        "%tensorflow_version 1.x\n",
        "!pip install gpt-2-simple\n",
        "import gpt_2_simple as gpt2"
      ],
      "execution_count": null,
      "outputs": [
        {
          "output_type": "stream",
          "text": [
            "TensorFlow 1.x selected.\n",
            "Requirement already satisfied: gpt-2-simple in /usr/local/lib/python3.6/dist-packages (0.7.1)\n",
            "Requirement already satisfied: requests in /usr/local/lib/python3.6/dist-packages (from gpt-2-simple) (2.23.0)\n",
            "Requirement already satisfied: regex in /usr/local/lib/python3.6/dist-packages (from gpt-2-simple) (2019.12.20)\n",
            "Requirement already satisfied: numpy in /usr/local/lib/python3.6/dist-packages (from gpt-2-simple) (1.18.5)\n",
            "Requirement already satisfied: toposort in /usr/local/lib/python3.6/dist-packages (from gpt-2-simple) (1.5)\n",
            "Requirement already satisfied: tqdm in /usr/local/lib/python3.6/dist-packages (from gpt-2-simple) (4.41.1)\n",
            "Requirement already satisfied: urllib3!=1.25.0,!=1.25.1,<1.26,>=1.21.1 in /usr/local/lib/python3.6/dist-packages (from requests->gpt-2-simple) (1.24.3)\n",
            "Requirement already satisfied: idna<3,>=2.5 in /usr/local/lib/python3.6/dist-packages (from requests->gpt-2-simple) (2.10)\n",
            "Requirement already satisfied: chardet<4,>=3.0.2 in /usr/local/lib/python3.6/dist-packages (from requests->gpt-2-simple) (3.0.4)\n",
            "Requirement already satisfied: certifi>=2017.4.17 in /usr/local/lib/python3.6/dist-packages (from requests->gpt-2-simple) (2020.11.8)\n",
            "WARNING:tensorflow:\n",
            "The TensorFlow contrib module will not be included in TensorFlow 2.0.\n",
            "For more information, please see:\n",
            "  * https://github.com/tensorflow/community/blob/master/rfcs/20180907-contrib-sunset.md\n",
            "  * https://github.com/tensorflow/addons\n",
            "  * https://github.com/tensorflow/io (for I/O related ops)\n",
            "If you depend on functionality not listed there, please file an issue.\n",
            "\n"
          ],
          "name": "stdout"
        }
      ]
    },
    {
      "cell_type": "code",
      "metadata": {
        "id": "Cylvw0jt6zR6",
        "colab": {
          "base_uri": "https://localhost:8080/"
        },
        "outputId": "9d6ffb1e-750b-4077-fdd2-38f5c005fad9"
      },
      "source": [
        "gpt2.download_gpt2(model_name=\"355M\")"
      ],
      "execution_count": null,
      "outputs": [
        {
          "output_type": "stream",
          "text": [
            "Fetching checkpoint: 1.05Mit [00:00, 529Mit/s]                                                      \n",
            "Fetching encoder.json: 1.05Mit [00:00, 140Mit/s]                                                    \n",
            "Fetching hparams.json: 1.05Mit [00:00, 436Mit/s]                                                    \n",
            "Fetching model.ckpt.data-00000-of-00001: 1.42Git [00:06, 215Mit/s]                                  \n",
            "Fetching model.ckpt.index: 1.05Mit [00:00, 276Mit/s]                                                \n",
            "Fetching model.ckpt.meta: 1.05Mit [00:00, 41.3Mit/s]                                                \n",
            "Fetching vocab.bpe: 1.05Mit [00:00, 174Mit/s]                                                       \n"
          ],
          "name": "stderr"
        }
      ]
    },
    {
      "cell_type": "markdown",
      "metadata": {
        "id": "_3BxNTxpR1ty"
      },
      "source": [
        "There are three released sizes of GPT-2:\n",
        "\n",
        "**124M** (default): the \"small\" model, 500MB on disk.\n",
        "\n",
        "**355M**: the \"medium\" model, 1.5GB on disk.\n",
        "\n",
        "**774M**: the \"large\" model, cannot currently be finetuned with Colaboratory but can be used to generate text from the pretrained model (see later in Notebook)\n",
        "\n",
        "**1558M**: the \"extra large\", true model. Will not work if a K80 GPU is attached to the notebook."
      ]
    },
    {
      "cell_type": "code",
      "metadata": {
        "id": "9H7dSkVzjM3g",
        "colab": {
          "base_uri": "https://localhost:8080/"
        },
        "outputId": "406d8e8c-5bb4-42f5-9f86-2e956707d1b9"
      },
      "source": [
        "from google.colab import drive\n",
        "drive.mount('/content/drive',force_remount=True)"
      ],
      "execution_count": null,
      "outputs": [
        {
          "output_type": "stream",
          "text": [
            "Mounted at /content/drive\n"
          ],
          "name": "stdout"
        }
      ]
    },
    {
      "cell_type": "markdown",
      "metadata": {
        "id": "l_F-NK3jSmpN"
      },
      "source": [
        "Mounting Google Drive and get authentication code(copy and paste in the blank)\n",
        "find your dataset file and copy the path link to paste to raw_data"
      ]
    },
    {
      "cell_type": "code",
      "metadata": {
        "id": "cooC-T0JG-V6"
      },
      "source": [
        "gpt2.copy_checkpoint_from_gdrive(run_name='run1')"
      ],
      "execution_count": null,
      "outputs": []
    },
    {
      "cell_type": "code",
      "metadata": {
        "id": "qWmZ0ryw63ls"
      },
      "source": [
        "raw_data = '/content/drive/MyDrive/3167-0.txt'"
      ],
      "execution_count": null,
      "outputs": []
    },
    {
      "cell_type": "markdown",
      "metadata": {
        "id": "RHMSUPTrYzte"
      },
      "source": [
        "if your dataset is a json file, change the link"
      ]
    },
    {
      "cell_type": "code",
      "metadata": {
        "id": "WHyj5LIZqb3e"
      },
      "source": [
        "import json\n",
        "\n",
        "with open(raw_data, 'r') as f:\n",
        "    df =json.load(f)\n",
        "\n",
        "\n",
        "\n",
        "        "
      ],
      "execution_count": null,
      "outputs": []
    },
    {
      "cell_type": "markdown",
      "metadata": {
        "id": "L6e5Y4C4TXtJ"
      },
      "source": [
        "if your dataset file is a json file, then use it to read the file"
      ]
    },
    {
      "cell_type": "markdown",
      "metadata": {
        "id": "zNriJV4uTePZ"
      },
      "source": [
        "this data file [] , is only for data.json dataset"
      ]
    },
    {
      "cell_type": "code",
      "metadata": {
        "id": "pb-eGEoGS1i9"
      },
      "source": [
        "import os\n",
        "os.kill(os.getpid(), 9)"
      ],
      "execution_count": null,
      "outputs": []
    },
    {
      "cell_type": "markdown",
      "metadata": {
        "id": "SSxQ6k95S6XQ"
      },
      "source": [
        "if you want to kill the previous session, uncomment the code"
      ]
    },
    {
      "cell_type": "code",
      "metadata": {
        "id": "wGHxqXIwY4oB"
      },
      "source": [
        "sess = gpt2.start_tf_sess()"
      ],
      "execution_count": null,
      "outputs": []
    },
    {
      "cell_type": "code",
      "metadata": {
        "id": "0E_glPRcjdQk"
      },
      "source": [
        "file_name=\"/content/drive/MyDrive/1469-0.txt\""
      ],
      "execution_count": null,
      "outputs": []
    },
    {
      "cell_type": "code",
      "metadata": {
        "id": "QuZzjdWt6555",
        "colab": {
          "base_uri": "https://localhost:8080/"
        },
        "outputId": "d3ec039f-9969-488a-eee4-afb6bf7512f3"
      },
      "source": [
        "\n",
        "gpt2.finetune(sess,\n",
        "              dataset=file_name,\n",
        "              model_name='355M',\n",
        "              steps=500,\n",
        "              restore_from='latest',\n",
        "              run_name='run1',\n",
        "              print_every=10,\n",
        "              sample_every=100,\n",
        "              save_every=100\n",
        "              )"
      ],
      "execution_count": null,
      "outputs": [
        {
          "output_type": "stream",
          "text": [
            "WARNING:tensorflow:From /usr/local/lib/python3.6/dist-packages/gpt_2_simple/src/sample.py:17: where (from tensorflow.python.ops.array_ops) is deprecated and will be removed in a future version.\n",
            "Instructions for updating:\n",
            "Use tf.where in 2.0, which has the same broadcast rule as np.where\n",
            "WARNING:tensorflow:From /usr/local/lib/python3.6/dist-packages/gpt_2_simple/src/memory_saving_gradients.py:62: get_backward_walk_ops (from tensorflow.contrib.graph_editor.select) is deprecated and will be removed after 2019-06-06.\n",
            "Instructions for updating:\n",
            "Please use tensorflow.python.ops.op_selector.get_backward_walk_ops.\n",
            "Loading checkpoint checkpoint/run1/model-6000\n",
            "INFO:tensorflow:Restoring parameters from checkpoint/run1/model-6000\n"
          ],
          "name": "stdout"
        },
        {
          "output_type": "stream",
          "text": [
            "\r  0%|          | 0/1 [00:00<?, ?it/s]"
          ],
          "name": "stderr"
        },
        {
          "output_type": "stream",
          "text": [
            "Loading dataset...\n"
          ],
          "name": "stdout"
        },
        {
          "output_type": "stream",
          "text": [
            "100%|██████████| 1/1 [00:01<00:00,  1.35s/it]\n"
          ],
          "name": "stderr"
        },
        {
          "output_type": "stream",
          "text": [
            "dataset has 205392 tokens\n",
            "Training...\n",
            "Saving checkpoint/run1/model-6000\n",
            "======== SAMPLE 1 ========\n",
            "                                              \n",
            "\n",
            "  To the Rev. Walter Bagot, Feb. 4, 1786. His\n",
            "    proposal for a revision of the Bible; visit to Mr.\n",
            "    Bagot; his friendship with the Rev. Mr. Throckmorton; the\n",
            "    present condition of the Mr. ---- of Dunbar.\n",
            "    To the Rev. John Newton, Feb. 11, 1786. He\n",
            "    presents himself to him; proposed lines to write on the occasion.\n",
            "    To Mrs. C----. At this time she is not\n",
            "    ill.\n",
            "\n",
            "When, at last, the \"Progress of Knowledge\" has been read to the people,\n",
            "and translated, Lord Dartmouth's Secretary-Treasurer, Sir Thomas\n",
            "Cowper, observes to Sir Thomas Cromwell, \"that you may do\n",
            "not suppose that Mr. Cromwell, as he has done many times, hath ever made\n",
            "him a philosopher.\"  The same event occurs to Lord\n",
            "Dartford, after he receives from the Rev. John Newton an omen\n",
            "on the discovery of the Book of Job.\n",
            "\n",
            "A letter from Lord Dartmouth's Secretary-Treasurer to Mr. Newton.\n",
            "\n",
            "On the discovery of the New World. Mr. Bacon in the possession of the\n",
            "Latter World.\n",
            "\n",
            "On the death of his father. His life. His death. His place.\n",
            "His residence at Weston. His friend, Mr. Throckmorton, in the\n",
            "presence of his brothers.[81]\n",
            "\n",
            "On his engagement in the service of the British Secretary of State;\n",
            "his own mind having left no room for the more important business\n",
            "of his new home, and the circumstances in which he would not stay in\n",
            "his present employment.\n",
            "\n",
            "A letter from Lord Dartmouth's Secretary-Treasurer, to the Rev.\n",
            "John Newton.\n",
            "\n",
            "On the death of her brother, Lady Austen. His house.\n",
            "\n",
            "On the death of her brother's uncle, Lord Thurlow. His own mind in\n",
            "this state of mind. His own situation. Her letter to\n",
            "Mrs. King.\n",
            "\n",
            "  [81] Mrs. King's affectionate solicitions for her brother. To\n",
            "  her husband.\n",
            "\n",
            "Ladies of the world, together with the reader, attend on Lady\n",
            "                                                     \n",
            "                                                         \n",
            "                                                   51\n",
            "\n",
            "  To the Rev. John Newton, Feb. 13, 1786. Invitations.\n",
            "                                                    52\n",
            "\n",
            "  To the Rev. Walter Bagot, Feb. 17, 1786. On marriage\n",
            "                                    52\n",
            "\n",
            "  To the Rev. John Newton, March 4, 1786. On his own\n",
            "                                           52\n",
            "\n",
            "  To the Rev. John Newton, April 2, 1786. His plans\n",
            "                                         52\n",
            "\n",
            "  To the same, April 5, 1786. Mrs. King's new composition\n",
            "                                               52\n",
            "\n",
            "  To the Rev. John Newton, May 1,\n",
            "\n",
            "[6010 | 55.38] loss=3.70 avg=3.70\n",
            "[6020 | 71.42] loss=3.11 avg=3.40\n",
            "[6030 | 87.85] loss=2.75 avg=3.18\n",
            "[6040 | 104.47] loss=2.64 avg=3.04\n",
            "[6050 | 120.79] loss=2.81 avg=3.00\n",
            "[6060 | 137.01] loss=2.28 avg=2.87\n",
            "[6070 | 153.30] loss=1.62 avg=2.69\n",
            "[6080 | 169.71] loss=2.36 avg=2.65\n",
            "[6090 | 186.15] loss=2.22 avg=2.60\n",
            "[6100 | 202.54] loss=2.83 avg=2.62\n",
            "Saving checkpoint/run1/model-6100\n",
            "WARNING:tensorflow:From /tensorflow-1.15.2/python3.6/tensorflow_core/python/training/saver.py:963: remove_checkpoint (from tensorflow.python.training.checkpoint_management) is deprecated and will be removed in a future version.\n",
            "Instructions for updating:\n",
            "Use standard file APIs to delete files with this prefix.\n",
            "======== SAMPLE 1 ========\n",
            "   A gentle stream, from the sea-swamp,\n",
            "     Filled with the cool fragrances of the sky\n",
            "     With an air of gentle beauty,\n",
            "    Of sunshine, of air full of sound.\n",
            "\n",
            "     Lately, far as they stand\n",
            "       I hear the rumbling, rumbling of sky\n",
            "     And the rain, and the wild-foot pattering\n",
            "    Of the heavy heavy rain.\n",
            "\n",
            "     Lately, at this point of time\n",
            "      I hear the crashing and ringing\n",
            "     Of heavy footsteps, and the heavy rain.\n",
            "\n",
            "     Lately, while I lie and dream,\n",
            "      The earth, at this moment, seems to speak\n",
            "     Its rich and varied joys with one simple word;\n",
            "     But it is not so as I believe.\n",
            "\n",
            "     Lately, when I wake have dreamt of a long day,\n",
            "       The skies seem to shake and sparkle;\n",
            "     And the earth, at this moment, seems like a world,\n",
            "     A thousand things, a thousand thoughts of mine,\n",
            "     A thousand thoughts, in this moment,\n",
            "     And all day, at this moment the world\n",
            "     Is full of me, and all day I mourn the wrong,\n",
            "     With a sorrow that may well surprise you.\n",
            "\n",
            "\n",
            "     Oh, can I hope what is not vain,\n",
            "      Or can I hope what was never mine?\n",
            "     How strange and wondrous may these appear,\n",
            "     In the midst of a world's vast and mighty troubles.\n",
            "     But the things are not things, nor the things may be things,\n",
            "     With a world at war, or a great battle gone on.\n",
            "     How vain, how strange, how wondrous is the thought\n",
            "     Of such a life so long a weary life!\n",
            "\n",
            "     How strange is that life with all its joys,\n",
            "      In the midst of all its terrible woes,\n",
            "     And the grave of such a sorrow,\n",
            "     That the love of all things is a gipsy\n",
            "     Who has lost the beauty of it all!\n",
            "\n",
            "\n",
            "     How strange is that life in all its griefs,\n",
            "      And the grave of grief, and the strife dear\n",
            "     Of that bitter strife wherein peace cannot reign!\n",
            "     Yet may not the rich, triumphant life\n",
            "     Thy love have found it, to be the light\n",
            "     Of that strife, the glory of all life!\n",
            "\n",
            "\n",
            "     How strange and bold and mighty is the way\n",
            "     That comes for peace, with all its pain,\n",
            "     The way of peace and that light!\n",
            "     And when the man who goes there to die\n",
            "     Is no longer there, it seems that grief,\n",
            "     As for him, is not like the world\n",
            "     To those who will not reach the high land,\n",
            "     But rather to those who find themselves there\n",
            "     For peace, and that heaven on high\n",
            "     They seek. A land without sorrow or pain,\n",
            "     Where sorrow is the only thought,\n",
            "     And the only thought is, \"Thou must go there?\n",
            "     Go then out to the world and leave\n",
            "     Where thou may hast, if thou will.\"\n",
            "\n",
            "\n",
            "\n",
            "\n",
            "           VII. Praise and Pardon.\n",
            "\n",
            "     I had long ago thought, though you were dear,\n",
            "     Could such a flower as yours bloom in truth,\n",
            "     That day had brought you back again.\n",
            "\n",
            "\n",
            "     I have long dreamed of the perfect, blessed flowers\n",
            "     Which your face would flout with its sweet scent.\n",
            "\n",
            "\n",
            "     I looked upon it first-hand, with my poor vision fluttered.\n",
            "\n",
            "\n",
            "     I saw it long ago, and the bloom at least,\n",
            "     That never seemed to have budded or grown,\n",
            "     Still seemed to grow and grow and grow.\n",
            "\n",
            "\n",
            "     I had long dreamed of the perfect, blessed flower,\n",
            "     That had once blushed and bloomed\n",
            "\n",
            "[6110 | 247.91] loss=2.23 avg=2.58\n",
            "[6120 | 264.26] loss=2.37 avg=2.57\n",
            "[6130 | 280.54] loss=3.38 avg=2.63\n",
            "[6140 | 296.86] loss=2.04 avg=2.59\n",
            "[6150 | 313.28] loss=2.63 avg=2.59\n",
            "[6160 | 329.69] loss=1.86 avg=2.54\n",
            "[6170 | 346.05] loss=0.05 avg=2.38\n",
            "[6180 | 362.43] loss=2.25 avg=2.37\n",
            "[6190 | 378.79] loss=1.90 avg=2.35\n",
            "[6200 | 395.10] loss=2.00 avg=2.33\n",
            "Saving checkpoint/run1/model-6200\n",
            "======== SAMPLE 1 ========\n",
            ", and is yet not to be.\n",
            "\n",
            "\n",
            "                                                       * * * * *\n",
            "\n",
            "\n",
            "                                  \"The World-Soul is the only vehicle that can be\n",
            "    in the same state of vibration with God.\"\n",
            "\n",
            "\n",
            "                                                     \"It is not the sum total of the\n",
            "    works that work within us, but their essence, the supreme\n",
            "    product of all our operations, the highest expression of all our\n",
            "    impulses, we are guided by the highest motives of the highest sources\n",
            "    of existence.\"\n",
            "\n",
            "\n",
            "                                                                                                                            \"The greatest task in life is not to achieve\n",
            "    but to feel the greatest good at once.\"\n",
            "\n",
            "\n",
            "                                                                                                                                                                                                                                                                                                                                                                                                                                                                        1-800-859-9000\n",
            "     (919) 466-4500.\n",
            "                                                              3306\n",
            "                                                            463-891\n",
            "                 \n",
            "\n",
            "[6210 | 440.45] loss=2.15 avg=2.32\n",
            "[6220 | 456.80] loss=2.37 avg=2.32\n",
            "[6230 | 473.08] loss=1.84 avg=2.30\n",
            "[6240 | 489.41] loss=2.92 avg=2.33\n",
            "[6250 | 505.82] loss=0.09 avg=2.23\n",
            "[6260 | 522.23] loss=2.60 avg=2.24\n",
            "[6270 | 538.60] loss=2.37 avg=2.25\n",
            "[6280 | 554.93] loss=0.85 avg=2.19\n",
            "[6290 | 571.29] loss=1.46 avg=2.16\n",
            "[6300 | 587.68] loss=1.15 avg=2.12\n",
            "Saving checkpoint/run1/model-6300\n",
            "======== SAMPLE 1 ========\n",
            " The eyes' dull, sick, and dewy light,\n",
            "      Thy lips have trembled to kiss.\n",
            "            My heart is stirred to heart\n",
            "            Till the whole to me\n",
            "             Gushes to thy lips.\n",
            "            What a soul, thou knowest,\n",
            "      The moon must be troubled with thee,\n",
            "            And the stars must be gay;\n",
            "            What a night!\n",
            "            I wonder!\n",
            "            Thy wan visage gleams and glows,\n",
            "             Thy pallid visage serene,\n",
            "             Thy dank, sunk eyes cast down\n",
            "             Like sinking o'er an ocean!\n",
            "\n",
            "\n",
            "                \"Is the moon white or pale,\n",
            "           O Bethlehem, art thou ill,\n",
            "            Thy wan, pallid face,\n",
            "             Thy languid hands, which hold\n",
            "            The casket of thy soul?\"\n",
            "              Ah, what a space!\n",
            "            The light-souled world\n",
            "       The drowsy night was filled with.  A cloud\n",
            "         Dapt the western sky, a cloud\n",
            "            With vapor and mist it floated\n",
            "           On that rich, moist night.\n",
            "\n",
            "                Heavily slept the young,\n",
            "              And the air\n",
            "             Was filled, yet, by some\n",
            "              Expelled, yet,\n",
            "              Some came forth,\n",
            "             The maiden and the boy,\n",
            "              With faces fair and wild,\n",
            "             With eyes so close and mine,\n",
            "            And their silent eyes,\n",
            "             Bright, clear, still, pure and white,\n",
            "            With a quiet and dream\n",
            "             On the silent wood-step,\n",
            "              His wan, dreary vision,\n",
            "          He dreamed not thus to-morrow.\n",
            "\n",
            "\n",
            "                    Then the sky\n",
            "         Was filled with a radiant gleam,\n",
            "             With dappled lights glinting,\n",
            "            And the pearly forest pinks\n",
            "             Of a little child's playfellows,\n",
            "           And, in a green glade,\n",
            "           The young star's faint light show'd;\n",
            "            In a glimmering stream,\n",
            "           A wild-haired maiden with a smile\n",
            "            To her soft, silvery feet\n",
            "            Of the moonlit grass, and the light\n",
            "            Of the summer sun,\n",
            "            To her soft silvers glazed,\n",
            "            The bright, shining flower, of gold\n",
            "       \n",
            "\n",
            "[6310 | 635.07] loss=1.07 avg=2.08\n",
            "[6320 | 651.40] loss=1.28 avg=2.05\n",
            "[6330 | 667.68] loss=1.91 avg=2.05\n",
            "[6340 | 683.97] loss=2.39 avg=2.06\n",
            "[6350 | 700.38] loss=1.65 avg=2.05\n",
            "[6360 | 716.84] loss=0.04 avg=1.98\n",
            "[6370 | 733.22] loss=1.58 avg=1.97\n",
            "[6380 | 749.54] loss=0.04 avg=1.91\n",
            "[6390 | 765.88] loss=2.22 avg=1.92\n",
            "[6400 | 782.25] loss=1.78 avg=1.91\n",
            "Saving checkpoint/run1/model-6400\n",
            "======== SAMPLE 1 ========\n",
            "                                  719,                               859\n",
            "      To Josephus                                      903\n",
            "      To Hervey                                     963\n",
            "      To Matthew                                 963\n",
            "      To Hervey                                         1049\n",
            "      To Apuleius                                    1142\n",
            "\n",
            "\n",
            "      TO THE REV. WILLIAM UNWIN.\n",
            "\n",
            "\n",
            "                                 A MAN’S LADY’S STORY\n",
            "\n",
            "\n",
            "                                   I.\n",
            "               I.\n",
            "\n",
            "     I.\n",
            "\n",
            "     I.\n",
            "                I.\n",
            "\n",
            "     IN THE PARK                                                     1183\n",
            "                        IN THE PARK.\n",
            "\n",
            "\n",
            "                                       II.\n",
            "                      II.\n",
            "\n",
            "     I.\n",
            "      I.                             1.\n",
            "     MATER AMABILIS.\n",
            "\n",
            "\n",
            "      O ’merica!  My Muse is here to fling\n",
            "     Her chariot’s cross and chariot’s spears\n",
            "     On the thaw’en rocks of tranquility!\n",
            "                                               1\n",
            "          I summon thee from yon rock,\n",
            "     With the raiment of a sunlit mind,\n",
            "     To show to my Muse, as I sat there\n",
            "     The splendour of her beauty and mien;\n",
            "                                          I\n",
            "      That had met a golden-blue eyes,\n",
            "     The stars unclosed, the breeze blow free,\n",
            "     And we were secluded, blissed\n",
            "                                             1.\n",
            "      I.\n",
            "\n",
            "     On a distant shore, by the side of the world,—\n",
            "     Unseen and unguarded,\n",
            "     We saw her—unseen, unguarded!\n",
            "  \n",
            "\n",
            "[6410 | 827.11] loss=1.83 avg=1.91\n",
            "[6420 | 843.44] loss=0.05 avg=1.86\n",
            "[6430 | 859.70] loss=0.92 avg=1.83\n",
            "[6440 | 876.07] loss=1.98 avg=1.83\n",
            "[6450 | 892.50] loss=1.27 avg=1.82\n",
            "[6460 | 908.91] loss=1.72 avg=1.82\n",
            "[6470 | 925.29] loss=1.37 avg=1.80\n",
            "[6480 | 941.66] loss=1.55 avg=1.80\n",
            "[6490 | 958.01] loss=0.88 avg=1.77\n",
            "[6500 | 974.33] loss=1.85 avg=1.78\n",
            "Saving checkpoint/run1/model-6500\n"
          ],
          "name": "stdout"
        }
      ]
    },
    {
      "cell_type": "markdown",
      "metadata": {
        "id": "SXN91Ui9Toe3"
      },
      "source": [
        "1. change the finetune parameter to meet your goal\n",
        "**length**: Number of tokens to generate (default 1023, the maximum)\n",
        "\n",
        "**temperature**: The higher the temperature, the crazier the text (default 0.7, recommended to keep between 0.7 and 1.0)\n",
        "\n",
        "**top_k**: Limits the generated guesses to the top k guesses (default 0 which disables the behavior; if the generated output is super crazy, you may want to set top_k=40)\n",
        "\n",
        "**top_p**: Nucleus sampling: limits the generated guesses to a cumulative probability. (gets good results on a dataset with top_p=0.9)\n",
        "\n",
        "**truncate**: Truncates the input text until a given sequence, excluding that sequence (e.g. if truncate='<|endoftext|>', the returned text will include everything before the first <|endoftext|>). It may be useful to combine this with a smaller length if the input texts are short.\n",
        "\n",
        "**include_prefix**: If using truncate and include_prefix=False, the specified prefix will not be included in the returned text.\n",
        "\n",
        "2. If you're creating an API based on your model and need to pass the generated text elsewhere, you can do text = gpt2.generate(sess, return_as_list=True)[0]"
      ]
    },
    {
      "cell_type": "code",
      "metadata": {
        "id": "wvXxNGV7T_Ad"
      },
      "source": [
        "gpt2.copy_checkpoint_to_gdrive(run_name='run1')\n"
      ],
      "execution_count": null,
      "outputs": []
    },
    {
      "cell_type": "markdown",
      "metadata": {
        "id": "me0B1TkaUGvf"
      },
      "source": [
        "copy the trained model to your google drive.\n",
        "remember to change runname in other code."
      ]
    },
    {
      "cell_type": "code",
      "metadata": {
        "id": "GSVFNeQ6bqst"
      },
      "source": [
        " "
      ],
      "execution_count": null,
      "outputs": []
    },
    {
      "cell_type": "code",
      "metadata": {
        "id": "5EgLJmDo7CDZ",
        "colab": {
          "base_uri": "https://localhost:8080/"
        },
        "outputId": "12a6ab4e-af71-4fbf-d9d5-62c2426e18fe"
      },
      "source": [
        "while True:\n",
        "  ques = input(\"[Hint] : \")\n",
        "\n",
        "  inp = ques+'\\n'+'[poem]'\n",
        "  \n",
        "\n",
        "  x = gpt2.generate(sess,\n",
        "                length=300,\n",
        "                temperature = 1,\n",
        "                include_prefix=False,\n",
        "                prefix=inp,\n",
        "                nsamples=1,\n",
        "                )\n",
        "  if ques.strip() == 'bye':\n",
        "    x = gpt2.generate(sess,\n",
        "                length=300,\n",
        "                temperature = 1,\n",
        "                include_prefix=False,\n",
        "                prefix='bye',\n",
        "                nsamples=1,\n",
        "                )\n",
        "    break\n",
        "  "
      ],
      "execution_count": null,
      "outputs": [
        {
          "output_type": "stream",
          "text": [
            "[Hint] : earth\n",
            "earth\n",
            "[poem]\n",
            "\n",
            "\n",
            "   “Bellow, Veilea!”\n",
            "   shrieks Our Love in dismay uneasily,\n",
            "   But joyously of the first time we knack,\n",
            "   To taste each other’s lips.\n",
            "\n",
            "\n",
            "                       * * *\n",
            "\n",
            "   “This name, fitting—”\n",
            "   Says Our Love,\n",
            "           Who art thou?\n",
            "\n",
            "   “This eye, ere it be sighted by mortal eyes—\n",
            "          Within this house\n",
            "   Life has some mystery yet to solve—\n",
            "   Some decree must pass in mystery,\n",
            "   Some urgent urge from A to Z,\n",
            "   Some appeal from C to obtain.\n",
            "\n",
            "   “With me the disappeared mask is hid,\n",
            "          The shroud takes shape;\n",
            "            The new day\n",
            "   Unto the mystic dawn creeps peace in,\n",
            "   And all the mystic air ispour thine eyes.”\n",
            "\n",
            "\n",
            "   The Mozart of rumor, contradicting testimony,\n",
            "   Affirms the presence of a Youth, a Muse,\n",
            "            A\n",
            "[Hint] : windy night\n",
            "windy night\n",
            "[poem]\n",
            "\n",
            "   Lays an-scape the wilting leaves,         Let me sing\n",
            "   Lulled 'neath European gorges, I sway,\n",
            "                To and fro,\n",
            "    Spirited across the hypnotic air.\n",
            "               * * *\n",
            "\n",
            "   We need but a waking star\n",
            "        To twist and ripple, to glow\n",
            "   Like a broken fadngoom,\n",
            "     Blimmering beneath the vale-hoary sky.\n",
            "   The dusky vapours show beneath:\n",
            "              Messages,\n",
            "      Deep targets for astronomers' fane;\n",
            "              Ceres\n",
            "                Flying\n",
            "   Across the pale uninquevitable plain.\n",
            "   From silvern spheres the fixed stars look—\n",
            "          Deaf, dumb, deaf, dumb.\n",
            "   A-lights emerge from everywhere\n",
            "          Across ravines, pasthes,\n",
            "          Pave, glower,\n",
            "[Hint] : window\n",
            "window\n",
            "[poem]\n",
            "\n",
            "\n",
            "\n",
            "\n",
            "LETTERS.\n",
            "\n",
            "\n",
            "\n",
            "    Unto my heart of gold\n",
            "      I drop the cover, bear\n",
            "    Till the lightning hails me far—\n",
            "                     To the skies\n",
            "    Aloft to-morrow morning's smoothness.\n",
            "\n",
            "    Through this queer air to hold\n",
            "      On happy morn\n",
            "     Yonder golden ball of light\n",
            "     This morn has been consecrated.\n",
            "\n",
            "    I see yon tower, bevined\n",
            "     With streams of gold;\n",
            "     Oh, to-day could I see\n",
            "     The secret before my sight,\n",
            "\n",
            "    Till its gauzy noons\n",
            "     Rained a golden cloud\n",
            "     On the far horizon's rock—\n",
            "                      The sky\n",
            "    Hand-in-glove, transparent,\n",
            "     With hazy monochords rising—\n",
            "                         Cloven low\n",
            "    Broad arches their triangular shapes show.\n",
            "\n",
            "    Their rocky cre\n",
            "[Hint] : secret\n",
            "secret\n",
            "[poem]\n",
            "\n",
            "\n",
            "     In gloom and repose,\n",
            "      On Land's destined soil,\n",
            "     Rich all your life in greenness,\n",
            "      Fresh from your native skies,\n",
            "     The native beauty abides.\n",
            "\n",
            "\n",
            "\n",
            "\n",
            "THE POWER OF SADNESS.\n",
            "\n",
            "\n",
            "     To hold speech,--to tell\n",
            "      How fine, full-orbed, sylph-like tune\n",
            "      Thy sad, long lines of sadeness,\n",
            "      The very corpus in question!\n",
            "      In creeds of some blessed faith,\n",
            "      Thou command'st us not to sing,\n",
            "      Nor refrain from silent mantling.\n",
            "      We have eyes, and with intuitive taste\n",
            "      Doth we miss the touch divine.\n",
            "\n",
            "                                     Speech,\n",
            "                                     Theme-stream;\n",
            "                  \n",
            "[Hint] : bye\n",
            "bye\n",
            "[poem]       Admetus and palsied by the vail;\n",
            "                          Sailing away,\n",
            "                              Independent of days,\n",
            "        Across the sky\n",
            "\n",
            "\n",
            "         Drawing near\n",
            "       To airy sheen,--\n",
            "        We two next, I fear,\n",
            "      Across the sky\n",
            "\n",
            "\n",
            "Charms which I makedom,\n",
            "        Its more beautiful\n",
            "        Than yon bright water's present beauty;\n",
            "        And breath anthems irresistible\n",
            "                 With control\n",
            "        Of day, air, and wave, afford,\n",
            "                  Overshoot\n",
            "        With leeches, and Faerie handed\n",
            "        Hands of Love, on the brow;\n",
            "        It whispers in thine ear,\n",
            " \n",
            "bye Stein had followed,\n",
            "       First to Jerusalem, then down the Tiber;\n",
            "       From thence she hastened to Rome, to rest awhile,\n",
            "       Then rose to the clouds, and creaked for a breath,\n",
            "       Then fell on my head, and creaked for a space,\n",
            "   And a thunder rolled behind her.\n",
            "   And an arched glitter past her coronet,\n",
            "       Tongue from tongue both twined and trailed,\n",
            "       Long shadows veiled her ankles and wrists,\n",
            "       As if she wore a wig of light,\n",
            "       Or, shrivelled and devoured, she were bereft\n",
            "       Of her strength and cheer her courage,\n",
            "       As in some terrible doom, each floor\n",
            "       That creaked and each bump, crevice, crevice,\n",
            "       In her very palace, her footfall\n",
            "       Send up sick spirits all the night,\n",
            "       Filling all the habitable land.\n",
            "       And six hundred lurid Ives approached\n",
            "       Moontide with torches and pans of gold,\n",
            "  \n"
          ],
          "name": "stdout"
        }
      ]
    },
    {
      "cell_type": "code",
      "metadata": {
        "id": "o_OpNvkTjsPQ"
      },
      "source": [
        ""
      ],
      "execution_count": null,
      "outputs": []
    },
    {
      "cell_type": "code",
      "metadata": {
        "id": "Mb_w1yWHSuGJ",
        "colab": {
          "base_uri": "https://localhost:8080/",
          "height": 387
        },
        "outputId": "20ab1f80-8ab0-4711-dc46-2bc670e96268"
      },
      "source": [
        "while True:\n",
        "  ques = input(\"Question : \")\n",
        "\n",
        "  inp = '[Question] : ' +ques+'\\n' +'[answer]'\n",
        "\n",
        "  x = gpt2.generate(sess,\n",
        "                length=550,\n",
        "                temperature = 0.6,\n",
        "                include_prefix=False,\n",
        "                prefix=inp,\n",
        "                nsamples=1,\n",
        "                return_as_list=True)[0]\n",
        "  print(x)"
      ],
      "execution_count": null,
      "outputs": [
        {
          "output_type": "stream",
          "text": [
            "Question : flower\n"
          ],
          "name": "stdout"
        },
        {
          "output_type": "error",
          "ename": "FileNotFoundError",
          "evalue": "ignored",
          "traceback": [
            "\u001b[0;31m---------------------------------------------------------------------------\u001b[0m",
            "\u001b[0;31mFileNotFoundError\u001b[0m                         Traceback (most recent call last)",
            "\u001b[0;32m<ipython-input-13-cb508acdfe5d>\u001b[0m in \u001b[0;36m<module>\u001b[0;34m()\u001b[0m\n\u001b[1;32m     10\u001b[0m                 \u001b[0mprefix\u001b[0m\u001b[0;34m=\u001b[0m\u001b[0minp\u001b[0m\u001b[0;34m,\u001b[0m\u001b[0;34m\u001b[0m\u001b[0;34m\u001b[0m\u001b[0m\n\u001b[1;32m     11\u001b[0m                 \u001b[0mnsamples\u001b[0m\u001b[0;34m=\u001b[0m\u001b[0;36m1\u001b[0m\u001b[0;34m,\u001b[0m\u001b[0;34m\u001b[0m\u001b[0;34m\u001b[0m\u001b[0m\n\u001b[0;32m---> 12\u001b[0;31m                 return_as_list=True)[0]\n\u001b[0m\u001b[1;32m     13\u001b[0m   \u001b[0mprint\u001b[0m\u001b[0;34m(\u001b[0m\u001b[0mx\u001b[0m\u001b[0;34m)\u001b[0m\u001b[0;34m\u001b[0m\u001b[0;34m\u001b[0m\u001b[0m\n",
            "\u001b[0;32m/usr/local/lib/python3.6/dist-packages/gpt_2_simple/gpt_2.py\u001b[0m in \u001b[0;36mgenerate\u001b[0;34m(sess, run_name, checkpoint_dir, model_name, model_dir, sample_dir, return_as_list, truncate, destination_path, sample_delim, prefix, seed, nsamples, batch_size, length, temperature, top_k, top_p, include_prefix)\u001b[0m\n\u001b[1;32m    439\u001b[0m         \u001b[0mcheckpoint_path\u001b[0m \u001b[0;34m=\u001b[0m \u001b[0mos\u001b[0m\u001b[0;34m.\u001b[0m\u001b[0mpath\u001b[0m\u001b[0;34m.\u001b[0m\u001b[0mjoin\u001b[0m\u001b[0;34m(\u001b[0m\u001b[0mcheckpoint_dir\u001b[0m\u001b[0;34m,\u001b[0m \u001b[0mrun_name\u001b[0m\u001b[0;34m)\u001b[0m\u001b[0;34m\u001b[0m\u001b[0;34m\u001b[0m\u001b[0m\n\u001b[1;32m    440\u001b[0m \u001b[0;34m\u001b[0m\u001b[0m\n\u001b[0;32m--> 441\u001b[0;31m     \u001b[0menc\u001b[0m \u001b[0;34m=\u001b[0m \u001b[0mencoder\u001b[0m\u001b[0;34m.\u001b[0m\u001b[0mget_encoder\u001b[0m\u001b[0;34m(\u001b[0m\u001b[0mcheckpoint_path\u001b[0m\u001b[0;34m)\u001b[0m\u001b[0;34m\u001b[0m\u001b[0;34m\u001b[0m\u001b[0m\n\u001b[0m\u001b[1;32m    442\u001b[0m     \u001b[0mhparams\u001b[0m \u001b[0;34m=\u001b[0m \u001b[0mmodel\u001b[0m\u001b[0;34m.\u001b[0m\u001b[0mdefault_hparams\u001b[0m\u001b[0;34m(\u001b[0m\u001b[0;34m)\u001b[0m\u001b[0;34m\u001b[0m\u001b[0;34m\u001b[0m\u001b[0m\n\u001b[1;32m    443\u001b[0m     \u001b[0;32mwith\u001b[0m \u001b[0mopen\u001b[0m\u001b[0;34m(\u001b[0m\u001b[0mos\u001b[0m\u001b[0;34m.\u001b[0m\u001b[0mpath\u001b[0m\u001b[0;34m.\u001b[0m\u001b[0mjoin\u001b[0m\u001b[0;34m(\u001b[0m\u001b[0mcheckpoint_path\u001b[0m\u001b[0;34m,\u001b[0m \u001b[0;34m'hparams.json'\u001b[0m\u001b[0;34m)\u001b[0m\u001b[0;34m)\u001b[0m \u001b[0;32mas\u001b[0m \u001b[0mf\u001b[0m\u001b[0;34m:\u001b[0m\u001b[0;34m\u001b[0m\u001b[0;34m\u001b[0m\u001b[0m\n",
            "\u001b[0;32m/usr/local/lib/python3.6/dist-packages/gpt_2_simple/src/encoder.py\u001b[0m in \u001b[0;36mget_encoder\u001b[0;34m(checkpoint_path)\u001b[0m\n\u001b[1;32m    107\u001b[0m \u001b[0;34m\u001b[0m\u001b[0m\n\u001b[1;32m    108\u001b[0m \u001b[0;32mdef\u001b[0m \u001b[0mget_encoder\u001b[0m\u001b[0;34m(\u001b[0m\u001b[0mcheckpoint_path\u001b[0m\u001b[0;34m)\u001b[0m\u001b[0;34m:\u001b[0m\u001b[0;34m\u001b[0m\u001b[0;34m\u001b[0m\u001b[0m\n\u001b[0;32m--> 109\u001b[0;31m     \u001b[0;32mwith\u001b[0m \u001b[0mopen\u001b[0m\u001b[0;34m(\u001b[0m\u001b[0mos\u001b[0m\u001b[0;34m.\u001b[0m\u001b[0mpath\u001b[0m\u001b[0;34m.\u001b[0m\u001b[0mjoin\u001b[0m\u001b[0;34m(\u001b[0m\u001b[0mcheckpoint_path\u001b[0m\u001b[0;34m,\u001b[0m \u001b[0;34m'encoder.json'\u001b[0m\u001b[0;34m)\u001b[0m\u001b[0;34m,\u001b[0m \u001b[0;34m'r'\u001b[0m\u001b[0;34m)\u001b[0m \u001b[0;32mas\u001b[0m \u001b[0mf\u001b[0m\u001b[0;34m:\u001b[0m\u001b[0;34m\u001b[0m\u001b[0;34m\u001b[0m\u001b[0m\n\u001b[0m\u001b[1;32m    110\u001b[0m         \u001b[0mencoder\u001b[0m \u001b[0;34m=\u001b[0m \u001b[0mjson\u001b[0m\u001b[0;34m.\u001b[0m\u001b[0mload\u001b[0m\u001b[0;34m(\u001b[0m\u001b[0mf\u001b[0m\u001b[0;34m)\u001b[0m\u001b[0;34m\u001b[0m\u001b[0;34m\u001b[0m\u001b[0m\n\u001b[1;32m    111\u001b[0m     \u001b[0;32mwith\u001b[0m \u001b[0mopen\u001b[0m\u001b[0;34m(\u001b[0m\u001b[0mos\u001b[0m\u001b[0;34m.\u001b[0m\u001b[0mpath\u001b[0m\u001b[0;34m.\u001b[0m\u001b[0mjoin\u001b[0m\u001b[0;34m(\u001b[0m\u001b[0mcheckpoint_path\u001b[0m\u001b[0;34m,\u001b[0m \u001b[0;34m'vocab.bpe'\u001b[0m\u001b[0;34m)\u001b[0m\u001b[0;34m,\u001b[0m \u001b[0;34m'r'\u001b[0m\u001b[0;34m,\u001b[0m \u001b[0mencoding\u001b[0m\u001b[0;34m=\u001b[0m\u001b[0;34m\"utf-8\"\u001b[0m\u001b[0;34m)\u001b[0m \u001b[0;32mas\u001b[0m \u001b[0mf\u001b[0m\u001b[0;34m:\u001b[0m\u001b[0;34m\u001b[0m\u001b[0;34m\u001b[0m\u001b[0m\n",
            "\u001b[0;31mFileNotFoundError\u001b[0m: [Errno 2] No such file or directory: 'checkpoint/run1/encoder.json'"
          ]
        }
      ]
    },
    {
      "cell_type": "code",
      "metadata": {
        "id": "7VPDm4y-8AOR"
      },
      "source": [
        ""
      ],
      "execution_count": null,
      "outputs": []
    }
  ]
}